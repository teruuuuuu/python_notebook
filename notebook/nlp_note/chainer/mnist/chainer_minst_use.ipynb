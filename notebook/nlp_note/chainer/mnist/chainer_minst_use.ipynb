{
 "cells": [
  {
   "cell_type": "code",
   "execution_count": 1,
   "metadata": {
    "collapsed": true
   },
   "outputs": [],
   "source": [
    "%matplotlib inline\n",
    "import matplotlib.pyplot as plt\n",
    "import numpy as np\n",
    "from sklearn.datasets import fetch_mldata\n",
    "from chainer import cuda, Variable, FunctionSet, optimizers\n",
    "import chainer.functions  as F\n",
    "from chainer import serializers\n",
    "\n",
    "import sys\n",
    "\n",
    "plt.style.use('ggplot')"
   ]
  },
  {
   "cell_type": "code",
   "execution_count": 3,
   "metadata": {
    "collapsed": true
   },
   "outputs": [],
   "source": [
    "# 確率的勾配降下法で学習させる際の１回分のバッチサイズ\n",
    "batchsize = 100\n",
    "\n",
    "# 学習の繰り返し回数\n",
    "n_epoch   = 20\n",
    "\n",
    "# 中間層の数\n",
    "n_units   = 1000\n"
   ]
  },
  {
   "cell_type": "code",
   "execution_count": 4,
   "metadata": {
    "collapsed": false
   },
   "outputs": [
    {
     "name": "stdout",
     "output_type": "stream",
     "text": [
      "load the model\n",
      "load the optimizer\n"
     ]
    }
   ],
   "source": [
    "# load the model and the optimizer\n",
    "model = FunctionSet(l1=F.Linear(784, n_units),\n",
    "                    l2=F.Linear(n_units, n_units),\n",
    "                    l3=F.Linear(n_units, 10))\n",
    "optimizer = optimizers.Adam()\n",
    "optimizer.setup(model)\n",
    "print('load the model')\n",
    "serializers.load_npz('mnist.model',  model)\n",
    "print('load the optimizer')\n",
    "serializers.load_npz('mnist.state', optimizer)"
   ]
  },
  {
   "cell_type": "code",
   "execution_count": 6,
   "metadata": {
    "collapsed": false
   },
   "outputs": [
    {
     "name": "stdout",
     "output_type": "stream",
     "text": [
      "fetch MNIST dataset\n"
     ]
    }
   ],
   "source": [
    "# #HOME/scikit_learn_data/mldata/mnist-original.mat にキャッシュされる\n",
    "print('fetch MNIST dataset')\n",
    "mnist = fetch_mldata('MNIST original')\n",
    "# mnist.data : 70,000件の784次元ベクトルデータ\n",
    "mnist.data   = mnist.data.astype(np.float32)\n",
    "mnist.data  /= 255     # 0-1のデータに変換\n",
    "\n",
    "# mnist.target : 正解データ（教師データ）\n",
    "mnist.target = mnist.target.astype(np.int32)"
   ]
  },
  {
   "cell_type": "code",
   "execution_count": 7,
   "metadata": {
    "collapsed": true
   },
   "outputs": [],
   "source": [
    "# 手書き数字データを描画する関数\n",
    "def draw_digit(data):\n",
    "    size = 28\n",
    "    plt.figure(figsize=(2.5, 3))\n",
    "\n",
    "    X, Y = np.meshgrid(range(size),range(size))\n",
    "    Z = data.reshape(size,size)   # convert from vector to 28x28 matrix\n",
    "    Z = Z[::-1,:]             # flip vertical\n",
    "    plt.xlim(0,27)\n",
    "    plt.ylim(0,27)\n",
    "    plt.pcolor(X, Y, Z)\n",
    "    plt.gray()\n",
    "    plt.tick_params(labelbottom=\"off\")\n",
    "    plt.tick_params(labelleft=\"off\")\n",
    "\n",
    "    plt.show()"
   ]
  },
  {
   "cell_type": "code",
   "execution_count": 8,
   "metadata": {
    "collapsed": true
   },
   "outputs": [],
   "source": [
    "# 学習用データを N個、検証用データを残りの個数と設定\n",
    "N = 60000\n",
    "x_train, x_test = np.split(mnist.data,   [N])\n",
    "y_train, y_test = np.split(mnist.target, [N])\n",
    "N_test = y_test.size\n",
    "\n",
    "# Setup optimizer\n",
    "optimizer = optimizers.Adam()\n",
    "optimizer.setup(model)"
   ]
  },
  {
   "cell_type": "code",
   "execution_count": 9,
   "metadata": {
    "collapsed": false
   },
   "outputs": [
    {
     "name": "stdout",
     "output_type": "stream",
     "text": [
      "[2]\n"
     ]
    },
    {
     "data": {
      "image/png": "[encoded data removed]",
      "text/plain": [
       "<matplotlib.figure.Figure at 0x107bc2198>"
      ]
     },
     "metadata": {},
     "output_type": "display_data"
    },
    {
     "name": "stdout",
     "output_type": "stream",
     "text": [
      "result: 2\n"
     ]
    }
   ],
   "source": [
    "perm = np.random.permutation(N)\n",
    "print(y_train[perm[5:6]])\n",
    "draw_digit(x_train[perm[5:6]])\n",
    "\n",
    "\n",
    "x = Variable(x_train[perm[5:6]])\n",
    "#x = Variable(x_train[[27034]])\n",
    "\n",
    "h1 = F.dropout(F.relu(model.l1(x)),  train=False)\n",
    "h2 = F.dropout(F.relu(model.l2(h1)), train=False)\n",
    "y  = model.l3(h2)\n",
    "y.data\n",
    "#perm[5:6]\n",
    "#y\n",
    "\n",
    "max = 0\n",
    "index = -1\n",
    "for i in range(len(y.data[0])):\n",
    "    if y.data[0][i] > max:\n",
    "        max = y.data[0][i] \n",
    "        index = i\n",
    "print(\"result:\", index)"
   ]
  },
  {
   "cell_type": "code",
   "execution_count": null,
   "metadata": {
    "collapsed": true
   },
   "outputs": [],
   "source": []
  }
 ],
 "metadata": {
  "kernelspec": {
   "display_name": "Python 3",
   "language": "python",
   "name": "python3"
  },
  "language_info": {
   "codemirror_mode": {
    "name": "ipython",
    "version": 3
   },
   "file_extension": ".py",
   "mimetype": "text/x-python",
   "name": "python",
   "nbconvert_exporter": "python",
   "pygments_lexer": "ipython3",
   "version": "3.5.1"
  }
 },
 "nbformat": 4,
 "nbformat_minor": 0
}
