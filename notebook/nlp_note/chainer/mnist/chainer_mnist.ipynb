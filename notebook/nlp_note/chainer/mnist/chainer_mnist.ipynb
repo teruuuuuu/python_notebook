{
 "cells": [
  {
   "cell_type": "code",
   "execution_count": 20,
   "metadata": {
    "collapsed": true
   },
   "outputs": [],
   "source": [
    "%matplotlib inline\n",
    "import six\n",
    "import matplotlib.pyplot as plt\n",
    "import numpy as np\n",
    "from sklearn.datasets import fetch_mldata\n",
    "from chainer import cuda, Variable, FunctionSet, optimizers\n",
    "import chainer.functions  as F\n",
    "from chainer import serializers\n",
    "\n",
    "import sys\n",
    "\n",
    "plt.style.use('ggplot')\n"
   ]
  },
  {
   "cell_type": "code",
   "execution_count": 21,
   "metadata": {
    "collapsed": false
   },
   "outputs": [
    {
     "name": "stdout",
     "output_type": "stream",
     "text": [
      "fetch MNIST dataset\n"
     ]
    }
   ],
   "source": [
    "# 確率的勾配降下法で学習させる際の１回分のバッチサイズ\n",
    "batchsize = 100\n",
    "\n",
    "# 学習の繰り返し回数\n",
    "n_epoch   = 20\n",
    "\n",
    "# 中間層の数\n",
    "n_units   = 1000\n",
    "\n",
    "# MNISTの手書き数字データのダウンロード\n",
    "# #HOME/scikit_learn_data/mldata/mnist-original.mat にキャッシュされる\n",
    "print('fetch MNIST dataset')\n",
    "mnist = fetch_mldata('MNIST original')\n",
    "# mnist.data : 70,000件の784次元ベクトルデータ\n",
    "mnist.data   = mnist.data.astype(np.float32)\n",
    "mnist.data  /= 255     # 0-1のデータに変換\n",
    "\n",
    "# mnist.target : 正解データ（教師データ）\n",
    "mnist.target = mnist.target.astype(np.int32)"
   ]
  },
  {
   "cell_type": "code",
   "execution_count": 22,
   "metadata": {
    "collapsed": false
   },
   "outputs": [],
   "source": [
    "# 手書き数字データを描画する関数\n",
    "def draw_digit(data):\n",
    "    size = 28\n",
    "    plt.figure(figsize=(2.5, 3))\n",
    "\n",
    "    X, Y = np.meshgrid(range(size),range(size))\n",
    "    Z = data.reshape(size,size)   # convert from vector to 28x28 matrix\n",
    "    Z = Z[::-1,:]             # flip vertical\n",
    "    plt.xlim(0,27)\n",
    "    plt.ylim(0,27)\n",
    "    plt.pcolor(X, Y, Z)\n",
    "    plt.gray()\n",
    "    plt.tick_params(labelbottom=\"off\")\n",
    "    plt.tick_params(labelleft=\"off\")\n",
    "\n",
    "    plt.show()\n",
    "\n",
    "#draw_digit(mnist.data[5])\n",
    "#draw_digit(mnist.data[12345])\n",
    "#draw_digit(mnist.data[33456])\n",
    "#draw_digit(mnist.data[33456])\n"
   ]
  },
  {
   "cell_type": "code",
   "execution_count": 23,
   "metadata": {
    "collapsed": false
   },
   "outputs": [],
   "source": [
    "# 学習用データを N個、検証用データを残りの個数と設定\n",
    "N = 60000\n",
    "x_train, x_test = np.split(mnist.data,   [N])\n",
    "y_train, y_test = np.split(mnist.target, [N])\n",
    "N_test = y_test.size\n",
    "\n",
    "# Prepare multi-layer perceptron model\n",
    "# 多層パーセプトロンモデルの設定\n",
    "# 入力 784次元、出力 10次元\n",
    "# 784次元 ← 28 * 28の画像を入力\n",
    "model = FunctionSet(l1=F.Linear(784, n_units),\n",
    "                    l2=F.Linear(n_units, n_units),\n",
    "                    l3=F.Linear(n_units, 10))\n",
    "\n",
    "# Neural net architecture\n",
    "# ニューラルネットの構造\n",
    "def forward(x_data, y_data, train=True):\n",
    "    x, t = Variable(x_data), Variable(y_data)\n",
    "    h1 = F.dropout(F.relu(model.l1(x)),  train=train)\n",
    "    h2 = F.dropout(F.relu(model.l2(h1)), train=train)\n",
    "    y  = model.l3(h2)\n",
    "    # 多クラス分類なので誤差関数としてソフトマックス関数の\n",
    "    # 交差エントロピー関数を用いて、誤差を導出\n",
    "    return F.softmax_cross_entropy(y, t), F.accuracy(y, t)\n",
    "\n",
    "# Setup optimizer\n",
    "optimizer = optimizers.Adam()\n",
    "optimizer.setup(model)\n"
   ]
  },
  {
   "cell_type": "code",
   "execution_count": 24,
   "metadata": {
    "collapsed": false
   },
   "outputs": [
    {
     "data": {
      "image/png": "[encoded data removed]",
      "text/plain": [
       "<matplotlib.figure.Figure at 0x108d88c50>"
      ]
     },
     "metadata": {},
     "output_type": "display_data"
    },
    {
     "name": "stdout",
     "output_type": "stream",
     "text": [
      "5\n"
     ]
    }
   ],
   "source": [
    "draw_digit(x_train[33456])\n",
    "print(y_train[33456])"
   ]
  },
  {
   "cell_type": "code",
   "execution_count": 25,
   "metadata": {
    "collapsed": false,
    "scrolled": true
   },
   "outputs": [
    {
     "name": "stdout",
     "output_type": "stream",
     "text": [
      "epoch 1\n",
      "train mean loss=5.985710968673229, accuracy=0.7164500003432234\n",
      "test  mean loss=12.570204835416561, accuracy=0.7472000013291836\n",
      "epoch 2\n",
      "train mean loss=53.936497747103374, accuracy=0.6887666682402293\n",
      "test  mean loss=29.936062494516374, accuracy=0.8742000004649162\n",
      "epoch 3\n",
      "train mean loss=166.541721979777, accuracy=0.6988666679461797\n",
      "test  mean loss=71.38525106728076, accuracy=0.8598000019788742\n",
      "epoch 4\n",
      "train mean loss=344.5884303029378, accuracy=0.703250001569589\n",
      "test  mean loss=190.86343732714653, accuracy=0.823700001835823\n",
      "epoch 5\n",
      "train mean loss=511.41515497843426, accuracy=0.7219833342234293\n",
      "test  mean loss=309.73296586036685, accuracy=0.8150000026077032\n",
      "epoch 6\n",
      "train mean loss=743.729148127238, accuracy=0.7292833324273428\n",
      "test  mean loss=320.2253256869316, accuracy=0.8637000033259392\n",
      "epoch 7\n",
      "train mean loss=1012.4996608988444, accuracy=0.7354500000675519\n",
      "test  mean loss=535.8248328006267, accuracy=0.8566000032424926\n",
      "epoch 8\n",
      "train mean loss=1239.7826662190755, accuracy=0.7434000006318092\n",
      "test  mean loss=984.8809585046769, accuracy=0.8163000009953976\n",
      "epoch 9\n",
      "train mean loss=1637.5421417236328, accuracy=0.7423333329955737\n",
      "test  mean loss=705.6329589438438, accuracy=0.8722000014781952\n",
      "epoch 10\n",
      "train mean loss=1889.3947154744467, accuracy=0.7556000007192294\n",
      "test  mean loss=1211.7327286529542, accuracy=0.8298000025749207\n",
      "epoch 11\n",
      "train mean loss=2423.312023671468, accuracy=0.7528666663169861\n",
      "test  mean loss=1114.0193143081665, accuracy=0.8730000030994415\n",
      "epoch 12\n",
      "train mean loss=2735.326650390625, accuracy=0.7594833327333133\n",
      "test  mean loss=2102.6929187965393, accuracy=0.809100005235523\n",
      "epoch 13\n",
      "train mean loss=3094.740508829753, accuracy=0.7681499999761582\n",
      "test  mean loss=1228.9544504737853, accuracy=0.896200001835823\n",
      "epoch 14\n",
      "train mean loss=3615.1438020833334, accuracy=0.764566666285197\n",
      "test  mean loss=3734.047259196043, accuracy=0.7794000045210123\n",
      "epoch 15\n",
      "train mean loss=4350.669101969401, accuracy=0.7662666656573613\n",
      "test  mean loss=1485.0837934112549, accuracy=0.9099000018835067\n",
      "epoch 16\n",
      "train mean loss=4464.382739868164, accuracy=0.775916665593783\n",
      "test  mean loss=2565.528586835861, accuracy=0.8522000035643578\n",
      "epoch 17\n",
      "train mean loss=5110.884180297851, accuracy=0.7742333316802978\n",
      "test  mean loss=4246.376728820801, accuracy=0.8257000019215047\n",
      "epoch 18\n",
      "train mean loss=5708.613958943685, accuracy=0.780066666106383\n",
      "test  mean loss=2507.9275718688964, accuracy=0.9028000009059906\n",
      "epoch 19\n",
      "train mean loss=6161.6275138346355, accuracy=0.7833666647473971\n",
      "test  mean loss=3123.731971950531, accuracy=0.8715000021457672\n",
      "epoch 20\n",
      "train mean loss=6826.753015340169, accuracy=0.7816499998172124\n",
      "test  mean loss=2868.09126871109, accuracy=0.8927999979257584\n"
     ]
    },
    {
     "data": {
      "text/plain": [
       "[]"
      ]
     },
     "execution_count": 25,
     "metadata": {},
     "output_type": "execute_result"
    },
    {
     "data": {
      "image/png": "[encoded data removed]",
      "text/plain": [
       "<matplotlib.figure.Figure at 0x108f28f28>"
      ]
     },
     "metadata": {},
     "output_type": "display_data"
    }
   ],
   "source": [
    "train_loss = []\n",
    "train_acc  = []\n",
    "test_loss = []\n",
    "test_acc  = []\n",
    "\n",
    "l1_W = []\n",
    "l2_W = []\n",
    "l3_W = []\n",
    "\n",
    "# Learning loop\n",
    "for epoch in six.moves.range(1, n_epoch + 1):\n",
    "    print ('epoch', epoch)\n",
    "\n",
    "    # training\n",
    "    # N個の順番をランダムに並び替える\n",
    "    perm = np.random.permutation(N)\n",
    "    sum_accuracy = 0\n",
    "    sum_loss = 0\n",
    "    # 0〜Nまでのデータをバッチサイズごとに使って学習\n",
    "    for i in six.moves.range(0, N, batchsize):\n",
    "        x_batch = x_train[perm[i:i+batchsize]]\n",
    "        y_batch = y_train[perm[i:i+batchsize]]\n",
    "\n",
    "        # 勾配を初期化\n",
    "        optimizer.zero_grads()\n",
    "        # 順伝播させて誤差と精度を算出\n",
    "        loss, acc = forward(x_batch, y_batch)\n",
    "        # 誤差逆伝播で勾配を計算\n",
    "        loss.backward()\n",
    "        optimizer.update()\n",
    "        sum_loss     += float(cuda.to_cpu(loss.data)) * batchsize\n",
    "        sum_accuracy += float(cuda.to_cpu(acc.data)) * batchsize\n",
    "\n",
    "    # 訓練データの誤差と、正解精度を表示\n",
    "    print ('train mean loss={}, accuracy={}'.format(sum_loss / N, sum_accuracy / N))\n",
    "\n",
    "    train_loss.append(sum_loss / N)\n",
    "    train_acc.append(sum_accuracy / N)\n",
    "\n",
    "    # evaluation\n",
    "    # テストデータで誤差と、正解精度を算出し汎化性能を確認\n",
    "    sum_accuracy = 0\n",
    "    sum_loss     = 0\n",
    "    for i in six.moves.range(0, N_test, batchsize):\n",
    "        x_batch = x_test[i:i+batchsize]\n",
    "        y_batch = y_test[i:i+batchsize]\n",
    "\n",
    "        # 順伝播させて誤差と精度を算出\n",
    "        loss, acc = forward(x_batch, y_batch, train=False)\n",
    "\n",
    "        sum_loss     += float(cuda.to_cpu(loss.data)) * batchsize\n",
    "        sum_accuracy += float(cuda.to_cpu(acc.data)) * batchsize\n",
    "\n",
    "    # テストデータでの誤差と、正解精度を表示\n",
    "    print('test  mean loss={}, accuracy={}'.format(sum_loss / N_test, sum_accuracy / N_test))\n",
    "    test_loss.append(sum_loss / N_test)\n",
    "    test_acc.append(sum_accuracy / N_test)\n",
    "\n",
    "    # 学習したパラメーターを保存\n",
    "    l1_W.append(model.l1.W)\n",
    "    l2_W.append(model.l2.W)\n",
    "    l3_W.append(model.l3.W)\n",
    "\n",
    "# 精度と誤差をグラフ描画\n",
    "plt.figure(figsize=(8,6))\n",
    "plt.plot(range(len(train_acc)), train_acc)\n",
    "plt.plot(range(len(test_acc)), test_acc)\n",
    "plt.legend([\"train_acc\",\"test_acc\"],loc=4)\n",
    "plt.title(\"Accuracy of digit recognition.\")\n",
    "plt.plot()"
   ]
  },
  {
   "cell_type": "code",
   "execution_count": 26,
   "metadata": {
    "collapsed": false
   },
   "outputs": [
    {
     "name": "stdout",
     "output_type": "stream",
     "text": [
      "save the model\n",
      "save the optimizer\n"
     ]
    }
   ],
   "source": [
    "# Save the model and the optimizer\n",
    "print('save the model')\n",
    "serializers.save_npz('mnist.model', model)\n",
    "print('save the optimizer')\n",
    "serializers.save_npz('mnist.state', optimizer)"
   ]
  },
  {
   "cell_type": "code",
   "execution_count": 27,
   "metadata": {
    "collapsed": false
   },
   "outputs": [
    {
     "name": "stdout",
     "output_type": "stream",
     "text": [
      "load the model\n",
      "load the optimizer\n"
     ]
    }
   ],
   "source": [
    "# load the model and the optimizer\n",
    "model = FunctionSet(l1=F.Linear(784, n_units),\n",
    "                    l2=F.Linear(n_units, n_units),\n",
    "                    l3=F.Linear(n_units, 10))\n",
    "optimizer = optimizers.Adam()\n",
    "optimizer.setup(model)\n",
    "print('load the model')\n",
    "serializers.load_npz('mnist.model',  model)\n",
    "print('load the optimizer')\n",
    "serializers.load_npz('mnist.state', optimizer)"
   ]
  },
  {
   "cell_type": "code",
   "execution_count": 36,
   "metadata": {
    "collapsed": false
   },
   "outputs": [
    {
     "name": "stdout",
     "output_type": "stream",
     "text": [
      "[2]\n"
     ]
    },
    {
     "data": {
      "image/png": "[encoded data removed]",
      "text/plain": [
       "<matplotlib.figure.Figure at 0x1049ed748>"
      ]
     },
     "metadata": {},
     "output_type": "display_data"
    },
    {
     "name": "stdout",
     "output_type": "stream",
     "text": [
      "index: 0  val: -648564.0\n",
      "index: 1  val: -643005.0\n",
      "index: 2  val: -460622.0\n",
      "index: 3  val: -561960.0\n",
      "index: 4  val: -603344.0\n",
      "index: 5  val: -601335.0\n",
      "index: 6  val: -498743.0\n",
      "index: 7  val: -613626.0\n",
      "index: 8  val: -585205.0\n",
      "index: 9  val: -646740.0\n",
      "result: 2\n"
     ]
    }
   ],
   "source": [
    "perm = np.random.permutation(N)\n",
    "print(y_train[perm[5:6]])\n",
    "draw_digit(x_train[perm[5:6]])\n",
    "\n",
    "\n",
    "x = Variable(x_train[perm[5:6]])\n",
    "#x = Variable(x_train[[27034]])\n",
    "\n",
    "h1 = F.dropout(F.relu(model.l1(x)),  train=False)\n",
    "h2 = F.dropout(F.relu(model.l2(h1)), train=False)\n",
    "y  = model.l3(h2)\n",
    "y.data\n",
    "#perm[5:6]\n",
    "#y\n",
    "\n",
    "max = None\n",
    "index = -1\n",
    "for i in range(len(y.data[0])):\n",
    "    print(\"index:\" , i , \" val:\" , y.data[0][i])\n",
    "    if max == None or  y.data[0][i] > max:\n",
    "        max = y.data[0][i] \n",
    "        index = i\n",
    "print(\"result:\", index)"
   ]
  },
  {
   "cell_type": "code",
   "execution_count": null,
   "metadata": {
    "collapsed": true
   },
   "outputs": [],
   "source": []
  }
 ],
 "metadata": {
  "kernelspec": {
   "display_name": "Python 3",
   "language": "python",
   "name": "python3"
  },
  "language_info": {
   "codemirror_mode": {
    "name": "ipython",
    "version": 3
   },
   "file_extension": ".py",
   "mimetype": "text/x-python",
   "name": "python",
   "nbconvert_exporter": "python",
   "pygments_lexer": "ipython3",
   "version": "3.5.2"
  }
 },
 "nbformat": 4,
 "nbformat_minor": 0
}
