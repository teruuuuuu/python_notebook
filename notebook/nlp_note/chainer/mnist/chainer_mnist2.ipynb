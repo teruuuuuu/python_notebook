{
 "cells": [
  {
   "cell_type": "code",
   "execution_count": 70,
   "metadata": {
    "collapsed": true
   },
   "outputs": [],
   "source": [
    "%matplotlib inline\n",
    "import matplotlib.pyplot as plt\n",
    "plt.style.use('ggplot')\n",
    "\n",
    "\n",
    "\n",
    "import argparse\n",
    "import time\n",
    "\n",
    "import gzip\n",
    "import os\n",
    "import numpy as np\n",
    "import six\n",
    "from six.moves.urllib import request\n",
    "\n",
    "import chainer\n",
    "from chainer import computational_graph\n",
    "from chainer import cuda\n",
    "import chainer.links as L\n",
    "from chainer import optimizers\n",
    "from chainer import serializers\n",
    "\n",
    "import chainer\n",
    "import chainer.functions as F\n",
    "import chainer.links as L"
   ]
  },
  {
   "cell_type": "code",
   "execution_count": 71,
   "metadata": {
    "collapsed": true
   },
   "outputs": [],
   "source": [
    "parent = 'http://yann.lecun.com/exdb/mnist'\n",
    "train_images = 'train-images-idx3-ubyte.gz'\n",
    "train_labels = 'train-labels-idx1-ubyte.gz'\n",
    "test_images = 't10k-images-idx3-ubyte.gz'\n",
    "test_labels = 't10k-labels-idx1-ubyte.gz'\n",
    "num_train = 60000\n",
    "num_test = 10000\n",
    "dim = 784"
   ]
  },
  {
   "cell_type": "code",
   "execution_count": 72,
   "metadata": {
    "collapsed": true
   },
   "outputs": [],
   "source": [
    "def load_mnist(images, labels, num):\n",
    "    data = np.zeros(num * dim, dtype=np.uint8).reshape((num, dim))\n",
    "    target = np.zeros(num, dtype=np.uint8).reshape((num, ))\n",
    "\n",
    "    with gzip.open(images, 'rb') as f_images,\\\n",
    "            gzip.open(labels, 'rb') as f_labels:\n",
    "        f_images.read(16)\n",
    "        f_labels.read(8)\n",
    "        for i in six.moves.range(num):\n",
    "            target[i] = ord(f_labels.read(1))\n",
    "            for j in six.moves.range(dim):\n",
    "                data[i, j] = ord(f_images.read(1))\n",
    "\n",
    "    return data, target"
   ]
  },
  {
   "cell_type": "code",
   "execution_count": 73,
   "metadata": {
    "collapsed": true
   },
   "outputs": [],
   "source": [
    "def download_mnist_data():\n",
    "    print('Downloading {:s}...'.format(train_images))\n",
    "    request.urlretrieve('{:s}/{:s}'.format(parent, train_images), train_images)\n",
    "    print('Done')\n",
    "    print('Downloading {:s}...'.format(train_labels))\n",
    "    request.urlretrieve('{:s}/{:s}'.format(parent, train_labels), train_labels)\n",
    "    print('Done')\n",
    "    print('Downloading {:s}...'.format(test_images))\n",
    "    request.urlretrieve('{:s}/{:s}'.format(parent, test_images), test_images)\n",
    "    print('Done')\n",
    "    print('Downloading {:s}...'.format(test_labels))\n",
    "    request.urlretrieve('{:s}/{:s}'.format(parent, test_labels), test_labels)\n",
    "    print('Done')\n",
    "\n",
    "    print('Converting training data...')\n",
    "    data_train, target_train = load_mnist(train_images, train_labels,\n",
    "                                          num_train)\n",
    "    print('Done')\n",
    "    print('Converting test data...')\n",
    "    data_test, target_test = load_mnist(test_images, test_labels, num_test)\n",
    "    mnist = {'data': np.append(data_train, data_test, axis=0),\n",
    "             'target': np.append(target_train, target_test, axis=0)}\n",
    "\n",
    "    print('Done')\n",
    "    print('Save output...')\n",
    "    with open('mnist.pkl', 'wb') as output:\n",
    "        six.moves.cPickle.dump(mnist, output, -1)\n",
    "    print('Done')\n",
    "    print('Convert completed')"
   ]
  },
  {
   "cell_type": "code",
   "execution_count": 74,
   "metadata": {
    "collapsed": true
   },
   "outputs": [],
   "source": [
    "def load_mnist_data():\n",
    "    if not os.path.exists('mnist.pkl'):\n",
    "        download_mnist_data()\n",
    "    with open('mnist.pkl', 'rb') as mnist_pickle:\n",
    "        mnist = six.moves.cPickle.load(mnist_pickle)\n",
    "    return mnist\n"
   ]
  },
  {
   "cell_type": "code",
   "execution_count": 75,
   "metadata": {
    "collapsed": true
   },
   "outputs": [],
   "source": [
    "class MnistMLP(chainer.Chain):\n",
    "\n",
    "    \"\"\"An example of multi-layer perceptron for MNIST dataset.\n",
    "\n",
    "    This is a very simple implementation of an MLP. You can modify this code to\n",
    "    build your own neural net.\n",
    "\n",
    "    \"\"\"\n",
    "    def __init__(self, n_in, n_units, n_out):\n",
    "        super(MnistMLP, self).__init__(\n",
    "            l1=L.Linear(n_in, n_units),\n",
    "            l2=L.Linear(n_units, n_units),\n",
    "            l3=L.Linear(n_units, n_out),\n",
    "        )\n",
    "\n",
    "    def __call__(self, x):\n",
    "        h1 = F.relu(self.l1(x))\n",
    "        h2 = F.relu(self.l2(h1))\n",
    "        return self.l3(h2)"
   ]
  },
  {
   "cell_type": "code",
   "execution_count": 76,
   "metadata": {
    "collapsed": true
   },
   "outputs": [],
   "source": [
    "class MnistMLPParallel(chainer.Chain):\n",
    "\n",
    "    \"\"\"An example of model-parallel MLP.\n",
    "\n",
    "    This chain combines four small MLPs on two different devices.\n",
    "\n",
    "    \"\"\"\n",
    "    def __init__(self, n_in, n_units, n_out):\n",
    "        super(MnistMLPParallel, self).__init__(\n",
    "            first0=MnistMLP(n_in, n_units // 2, n_units).to_gpu(0),\n",
    "            first1=MnistMLP(n_in, n_units // 2, n_units).to_gpu(1),\n",
    "            second0=MnistMLP(n_units, n_units // 2, n_out).to_gpu(0),\n",
    "            second1=MnistMLP(n_units, n_units // 2, n_out).to_gpu(1),\n",
    "        )\n",
    "\n",
    "    def __call__(self, x):\n",
    "        # assume x is on GPU 0\n",
    "        x1 = F.copy(x, 1)\n",
    "\n",
    "        z0 = self.first0(x)\n",
    "        z1 = self.first1(x1)\n",
    "\n",
    "        # sync\n",
    "        h0 = z0 + F.copy(z1, 0)\n",
    "        h1 = z1 + F.copy(z0, 1)\n",
    "\n",
    "        y0 = self.second0(F.relu(h0))\n",
    "        y1 = self.second1(F.relu(h1))\n",
    "\n",
    "        # sync\n",
    "        y = y0 + F.copy(y1, 0)\n",
    "        return y"
   ]
  },
  {
   "cell_type": "code",
   "execution_count": 77,
   "metadata": {
    "collapsed": false
   },
   "outputs": [
    {
     "name": "stdout",
     "output_type": "stream",
     "text": [
      "fetch MNIST dataset\n",
      "load MNIST dataset\n"
     ]
    }
   ],
   "source": [
    "# 確率的勾配降下法で学習させる際の１回分のバッチサイズ\n",
    "batchsize = 100\n",
    "# 学習の繰り返し回数\n",
    "n_epoch   = 20\n",
    "# 中間層の数\n",
    "n_units   = 1000\n",
    "\n",
    "# MNISTの手書き数字データのダウンロード\n",
    "# #HOME/scikit_learn_data/mldata/mnist-original.mat にキャッシュされる\n",
    "print('fetch MNIST dataset')\n",
    "print('load MNIST dataset')\n",
    "mnist = load_mnist_data()\n",
    "# mnist.data : 70,000件の784次元ベクトルデータ\n",
    "mnist['data'] = mnist['data'].astype(np.float32)\n",
    "mnist['data'] /= 255 # 0-1のデータに変換\n",
    "# mnist.target : 正解データ（教師データ）\n",
    "mnist['target'] = mnist['target'].astype(np.int32)"
   ]
  },
  {
   "cell_type": "code",
   "execution_count": 78,
   "metadata": {
    "collapsed": false
   },
   "outputs": [
    {
     "ename": "AttributeError",
     "evalue": "'dict' object has no attribute 'data'",
     "output_type": "error",
     "traceback": [
      "\u001b[0;31m---------------------------------------------------------------------------\u001b[0m",
      "\u001b[0;31mAttributeError\u001b[0m                            Traceback (most recent call last)",
      "\u001b[0;32m<ipython-input-78-c8376d1536a9>\u001b[0m in \u001b[0;36m<module>\u001b[0;34m()\u001b[0m\n\u001b[1;32m      1\u001b[0m \u001b[0;31m# 学習用データを N個、検証用データを残りの個数と設定\u001b[0m\u001b[0;34m\u001b[0m\u001b[0;34m\u001b[0m\u001b[0m\n\u001b[1;32m      2\u001b[0m \u001b[0mN\u001b[0m \u001b[0;34m=\u001b[0m \u001b[0;36m60000\u001b[0m\u001b[0;34m\u001b[0m\u001b[0m\n\u001b[0;32m----> 3\u001b[0;31m \u001b[0mx_train\u001b[0m\u001b[0;34m,\u001b[0m \u001b[0mx_test\u001b[0m \u001b[0;34m=\u001b[0m \u001b[0mnp\u001b[0m\u001b[0;34m.\u001b[0m\u001b[0msplit\u001b[0m\u001b[0;34m(\u001b[0m\u001b[0mmnist\u001b[0m\u001b[0;34m.\u001b[0m\u001b[0mdata\u001b[0m\u001b[0;34m,\u001b[0m   \u001b[0;34m[\u001b[0m\u001b[0mN\u001b[0m\u001b[0;34m]\u001b[0m\u001b[0;34m)\u001b[0m\u001b[0;34m\u001b[0m\u001b[0m\n\u001b[0m\u001b[1;32m      4\u001b[0m \u001b[0my_train\u001b[0m\u001b[0;34m,\u001b[0m \u001b[0my_test\u001b[0m \u001b[0;34m=\u001b[0m \u001b[0mnp\u001b[0m\u001b[0;34m.\u001b[0m\u001b[0msplit\u001b[0m\u001b[0;34m(\u001b[0m\u001b[0mmnist\u001b[0m\u001b[0;34m.\u001b[0m\u001b[0mtarget\u001b[0m\u001b[0;34m,\u001b[0m \u001b[0;34m[\u001b[0m\u001b[0mN\u001b[0m\u001b[0;34m]\u001b[0m\u001b[0;34m)\u001b[0m\u001b[0;34m\u001b[0m\u001b[0m\n\u001b[1;32m      5\u001b[0m \u001b[0mN_test\u001b[0m \u001b[0;34m=\u001b[0m \u001b[0my_test\u001b[0m\u001b[0;34m.\u001b[0m\u001b[0msize\u001b[0m\u001b[0;34m\u001b[0m\u001b[0m\n",
      "\u001b[0;31mAttributeError\u001b[0m: 'dict' object has no attribute 'data'"
     ]
    }
   ],
   "source": [
    "# 学習用データを N個、検証用データを残りの個数と設定\n",
    "N = 60000\n",
    "x_train, x_test = np.split(mnist.data,   [N])\n",
    "y_train, y_test = np.split(mnist.target, [N])\n",
    "N_test = y_test.size\n",
    "\n",
    "# Prepare multi-layer perceptron model\n",
    "# 多層パーセプトロンモデルの設定\n",
    "# 入力 784次元、出力 10次元\n",
    "model = FunctionSet(l1=F.Linear(784, n_units),\n",
    "                    l2=F.Linear(n_units, n_units),\n",
    "                    l3=F.Linear(n_units, 10))\n",
    "\n",
    "# Neural net architecture\n",
    "# ニューラルネットの構造\n",
    "def forward(x_data, y_data, train=True):\n",
    "    x, t = Variable(x_data), Variable(y_data)\n",
    "    h1 = F.dropout(F.relu(model.l1(x)),  train=train)\n",
    "    h2 = F.dropout(F.relu(model.l2(h1)), train=train)\n",
    "    y  = model.l3(h2)\n",
    "    # 多クラス分類なので誤差関数としてソフトマックス関数の\n",
    "    # 交差エントロピー関数を用いて、誤差を導出\n",
    "    return F.softmax_cross_entropy(y, t), F.accuracy(y, t)\n",
    "\n",
    "# Setup optimizer\n",
    "optimizer = optimizers.Adam()\n",
    "optimizer.setup(model)"
   ]
  },
  {
   "cell_type": "code",
   "execution_count": 79,
   "metadata": {
    "collapsed": false
   },
   "outputs": [
    {
     "data": {
      "image/png": "[encoded data removed]",
      "text/plain": [
       "<matplotlib.figure.Figure at 0x125aed860>"
      ]
     },
     "metadata": {},
     "output_type": "display_data"
    },
    {
     "data": {
      "image/png": "[encoded data removed]",
      "text/plain": [
       "<matplotlib.figure.Figure at 0x125aed8d0>"
      ]
     },
     "metadata": {},
     "output_type": "display_data"
    },
    {
     "data": {
      "image/png": "[encoded data removed]",
      "text/plain": [
       "<matplotlib.figure.Figure at 0x1405adeb8>"
      ]
     },
     "metadata": {},
     "output_type": "display_data"
    }
   ],
   "source": [
    "# 手書き数字データを描画する関数\n",
    "def draw_digit(data):\n",
    "    size = 28\n",
    "    plt.figure(figsize=(2.5, 3))\n",
    "\n",
    "    X, Y = np.meshgrid(range(size),range(size))\n",
    "    Z = data.reshape(size,size)   # convert from vector to 28x28 matrix\n",
    "    Z = Z[::-1,:]             # flip vertical\n",
    "    plt.xlim(0,27)\n",
    "    plt.ylim(0,27)\n",
    "    plt.pcolor(X, Y, Z)\n",
    "    plt.gray()\n",
    "    plt.tick_params(labelbottom=\"off\")\n",
    "    plt.tick_params(labelleft=\"off\")\n",
    "    plt.show()\n",
    "\n",
    "draw_digit(mnist['data'][11])\n",
    "draw_digit(mnist['data'][12345])\n",
    "draw_digit(mnist['data'][33456])\n"
   ]
  },
  {
   "cell_type": "code",
   "execution_count": 81,
   "metadata": {
    "collapsed": false
   },
   "outputs": [],
   "source": [
    "# 学習用データを N個、検証用データを残りの個数と設定\n",
    "N = 60000\n",
    "gpu = -1\n",
    "x_train, x_test = np.split(mnist['data'],   [N])\n",
    "y_train, y_test = np.split(mnist['target'], [N])\n",
    "N_test = y_test.size\n",
    "\n",
    "# Prepare multi-layer perceptron model\n",
    "model = L.Classifier(MnistMLP(784, n_units, 10))\n",
    "if gpu >= 0:\n",
    "    cuda.get_device(gpu).use()\n",
    "    model.to_gpu()\n",
    "xp = np if gpu < 0 else cuda.cupy\n",
    "\n",
    "# Setup optimizer\n",
    "optimizer = optimizers.Adam()\n",
    "optimizer.setup(model)\n"
   ]
  },
  {
   "cell_type": "code",
   "execution_count": 82,
   "metadata": {
    "collapsed": false
   },
   "outputs": [
    {
     "name": "stdout",
     "output_type": "stream",
     "text": [
      "epoch 1\n",
      "graph generated\n",
      "train mean loss=72.77834922770658, accuracy=0.548199998922646, throughput=821.9231018705136 images/sec\n",
      "test  mean loss=219.76288055419923, accuracy=0.50469999730587\n",
      "epoch 2\n",
      "train mean loss=323.64375639279683, accuracy=0.5700666668762764, throughput=991.7653031961943 images/sec\n",
      "test  mean loss=361.8062232971191, accuracy=0.5763999950885773\n",
      "epoch 3\n",
      "train mean loss=886.6121348063151, accuracy=0.5786999992032846, throughput=1416.5538278092422 images/sec\n",
      "test  mean loss=1627.0319134521485, accuracy=0.44789999663829805\n",
      "epoch 4\n",
      "train mean loss=1411.1040188598633, accuracy=0.5954166663189729, throughput=1473.4830824416038 images/sec\n",
      "test  mean loss=888.3568920898438, accuracy=0.6919000005722046\n",
      "epoch 5\n",
      "train mean loss=1560.757921702067, accuracy=0.6334499986966451, throughput=1499.472335891493 images/sec\n",
      "test  mean loss=1180.1152792358398, accuracy=0.698100003004074\n",
      "epoch 6\n",
      "train mean loss=3162.0104974365236, accuracy=0.6203499992688497, throughput=1518.1738278961234 images/sec\n",
      "test  mean loss=1867.3983505249023, accuracy=0.7094999998807907\n",
      "epoch 7\n",
      "train mean loss=2650.8654927571615, accuracy=0.670099999755621, throughput=1521.9569651351426 images/sec\n",
      "test  mean loss=3903.0090075683593, accuracy=0.578999997973442\n",
      "epoch 8\n",
      "train mean loss=4505.263641866049, accuracy=0.6309833312531312, throughput=1529.7361208619857 images/sec\n",
      "test  mean loss=2808.2975787353516, accuracy=0.6823999989032745\n",
      "epoch 9\n",
      "train mean loss=4799.969349975586, accuracy=0.6552833340068658, throughput=1543.1117635974017 images/sec\n",
      "test  mean loss=7629.494633789062, accuracy=0.6685999986529351\n",
      "epoch 10\n",
      "train mean loss=6457.081641031901, accuracy=0.6428333327174187, throughput=1540.5867151828563 images/sec\n",
      "test  mean loss=4215.49250366211, accuracy=0.6569000005722045\n",
      "epoch 11\n",
      "train mean loss=7226.494430338542, accuracy=0.6537000000973543, throughput=1532.061450035015 images/sec\n",
      "test  mean loss=11890.813051757812, accuracy=0.6323999986052513\n",
      "epoch 12\n",
      "train mean loss=7911.202074788412, accuracy=0.6677666675547759, throughput=1545.4145496055655 images/sec\n",
      "test  mean loss=6487.900808105469, accuracy=0.654300001859665\n",
      "epoch 13\n",
      "train mean loss=9550.225048217773, accuracy=0.6583333329359691, throughput=1536.3131044364638 images/sec\n",
      "test  mean loss=21277.1288671875, accuracy=0.5850000002980232\n",
      "epoch 14\n",
      "train mean loss=10736.267187093099, accuracy=0.659483333081007, throughput=1535.1772034875937 images/sec\n",
      "test  mean loss=16305.636240234375, accuracy=0.5900999987125397\n",
      "epoch 15\n",
      "train mean loss=12866.425885416667, accuracy=0.6611166664958, throughput=1532.0258124595284 images/sec\n",
      "test  mean loss=17074.978930664063, accuracy=0.6475999993085861\n",
      "epoch 16\n",
      "train mean loss=10845.30354248047, accuracy=0.6928333348532518, throughput=1549.4108678910882 images/sec\n",
      "test  mean loss=19075.992329101562, accuracy=0.5515999987721443\n",
      "epoch 17\n",
      "train mean loss=15588.594213460286, accuracy=0.6670999988913536, throughput=92.87822768616502 images/sec\n",
      "test  mean loss=12257.130258789062, accuracy=0.6809000030159951\n",
      "epoch 18\n",
      "train mean loss=18222.298262532553, accuracy=0.6611333332955838, throughput=1069.8076431935388 images/sec\n",
      "test  mean loss=5544.125595703125, accuracy=0.8288999974727631\n",
      "epoch 19\n",
      "train mean loss=17391.96397644043, accuracy=0.6968166676163673, throughput=1295.4591204658518 images/sec\n",
      "test  mean loss=6783.839582519531, accuracy=0.8041999977827072\n",
      "epoch 20\n",
      "train mean loss=20829.603201090496, accuracy=0.6756499989330769, throughput=1143.5425279515312 images/sec\n",
      "test  mean loss=59551.606328125, accuracy=0.5541999989748001\n"
     ]
    }
   ],
   "source": [
    "# Learning loop\n",
    "for epoch in six.moves.range(1, n_epoch + 1):\n",
    "    print('epoch', epoch)\n",
    "\n",
    "    # training\n",
    "    perm = np.random.permutation(N)\n",
    "    sum_accuracy = 0\n",
    "    sum_loss = 0\n",
    "    start = time.time()\n",
    "    for i in six.moves.range(0, N, batchsize):\n",
    "        x = chainer.Variable(xp.asarray(x_train[perm[i:i + batchsize]]))\n",
    "        t = chainer.Variable(xp.asarray(y_train[perm[i:i + batchsize]]))\n",
    "\n",
    "        # Pass the loss function (Classifier defines it) and its arguments\n",
    "        optimizer.update(model, x, t)\n",
    "\n",
    "        if epoch == 1 and i == 0:\n",
    "            with open('graph.dot', 'w') as o:\n",
    "                variable_style = {'shape': 'octagon', 'fillcolor': '#E0E0E0',\n",
    "                                  'style': 'filled'}\n",
    "                function_style = {'shape': 'record', 'fillcolor': '#6495ED',\n",
    "                                  'style': 'filled'}\n",
    "                g = computational_graph.build_computational_graph(\n",
    "                    (model.loss, ),\n",
    "                    variable_style=variable_style,\n",
    "                    function_style=function_style)\n",
    "                o.write(g.dump())\n",
    "            print('graph generated')\n",
    "\n",
    "        sum_loss += float(model.loss.data) * len(t.data)\n",
    "        sum_accuracy += float(model.accuracy.data) * len(t.data)\n",
    "    end = time.time()\n",
    "    elapsed_time = end - start\n",
    "    throughput = N / elapsed_time\n",
    "    print('train mean loss={}, accuracy={}, throughput={} images/sec'.format(\n",
    "        sum_loss / N, sum_accuracy / N, throughput))\n",
    "\n",
    "    # evaluation\n",
    "    sum_accuracy = 0\n",
    "    sum_loss = 0\n",
    "    for i in six.moves.range(0, N_test, batchsize):\n",
    "        x = chainer.Variable(xp.asarray(x_test[i:i + batchsize]),\n",
    "                             volatile='on')\n",
    "        t = chainer.Variable(xp.asarray(y_test[i:i + batchsize]),\n",
    "                             volatile='on')\n",
    "        loss = model(x, t)\n",
    "        sum_loss += float(loss.data) * len(t.data)\n",
    "        sum_accuracy += float(model.accuracy.data) * len(t.data)\n",
    "\n",
    "    print('test  mean loss={}, accuracy={}'.format(\n",
    "        sum_loss / N_test, sum_accuracy / N_test))"
   ]
  },
  {
   "cell_type": "code",
   "execution_count": 83,
   "metadata": {
    "collapsed": false
   },
   "outputs": [
    {
     "name": "stdout",
     "output_type": "stream",
     "text": [
      "save the model\n",
      "save the optimizer\n"
     ]
    }
   ],
   "source": [
    "# Save the model and the optimizer\n",
    "print('save the model')\n",
    "serializers.save_npz('mlp.model', model)\n",
    "print('save the optimizer')\n",
    "serializers.save_npz('mlp.state', optimizer)"
   ]
  },
  {
   "cell_type": "code",
   "execution_count": null,
   "metadata": {
    "collapsed": true
   },
   "outputs": [],
   "source": []
  }
 ],
 "metadata": {
  "kernelspec": {
   "display_name": "Python 3",
   "language": "python",
   "name": "python3"
  },
  "language_info": {
   "codemirror_mode": {
    "name": "ipython",
    "version": 3
   },
   "file_extension": ".py",
   "mimetype": "text/x-python",
   "name": "python",
   "nbconvert_exporter": "python",
   "pygments_lexer": "ipython3",
   "version": "3.5.1"
  }
 },
 "nbformat": 4,
 "nbformat_minor": 0
}
