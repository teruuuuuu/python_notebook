{
 "cells": [
  {
   "cell_type": "code",
   "execution_count": 1,
   "metadata": {
    "collapsed": true
   },
   "outputs": [],
   "source": [
    "%matplotlib inline\n",
    "import six\n",
    "import matplotlib.pyplot as plt\n",
    "import numpy as np\n",
    "from sklearn.datasets import fetch_mldata\n",
    "from chainer import cuda, Variable, FunctionSet, optimizers\n",
    "import chainer.functions  as F\n",
    "import sys\n",
    "\n",
    "plt.style.use('ggplot')\n"
   ]
  },
  {
   "cell_type": "code",
   "execution_count": 2,
   "metadata": {
    "collapsed": false
   },
   "outputs": [
    {
     "name": "stdout",
     "output_type": "stream",
     "text": [
      "fetch MNIST dataset\n"
     ]
    }
   ],
   "source": [
    "# 確率的勾配降下法で学習させる際の１回分のバッチサイズ\n",
    "batchsize = 100\n",
    "\n",
    "# 学習の繰り返し回数\n",
    "n_epoch   = 20\n",
    "\n",
    "# 中間層の数\n",
    "n_units   = 1000\n",
    "\n",
    "# MNISTの手書き数字データのダウンロード\n",
    "# #HOME/scikit_learn_data/mldata/mnist-original.mat にキャッシュされる\n",
    "print('fetch MNIST dataset')\n",
    "mnist = fetch_mldata('MNIST original')\n",
    "# mnist.data : 70,000件の784次元ベクトルデータ\n",
    "mnist.data   = mnist.data.astype(np.float32)\n",
    "mnist.data  /= 255     # 0-1のデータに変換\n",
    "\n",
    "# mnist.target : 正解データ（教師データ）\n",
    "mnist.target = mnist.target.astype(np.int32)"
   ]
  },
  {
   "cell_type": "code",
   "execution_count": 3,
   "metadata": {
    "collapsed": false
   },
   "outputs": [
    {
     "data": {
      "image/png": "[encoded data removed]",
      "text/plain": [
       "<matplotlib.figure.Figure at 0x1072d5828>"
      ]
     },
     "metadata": {},
     "output_type": "display_data"
    },
    {
     "data": {
      "image/png": "[encoded data removed]",
      "text/plain": [
       "<matplotlib.figure.Figure at 0x1072d5860>"
      ]
     },
     "metadata": {},
     "output_type": "display_data"
    },
    {
     "data": {
      "image/png": "[encoded data removed]",
      "text/plain": [
       "<matplotlib.figure.Figure at 0x1072d5f60>"
      ]
     },
     "metadata": {},
     "output_type": "display_data"
    }
   ],
   "source": [
    "# 手書き数字データを描画する関数\n",
    "def draw_digit(data):\n",
    "    size = 28\n",
    "    plt.figure(figsize=(2.5, 3))\n",
    "\n",
    "    X, Y = np.meshgrid(range(size),range(size))\n",
    "    Z = data.reshape(size,size)   # convert from vector to 28x28 matrix\n",
    "    Z = Z[::-1,:]             # flip vertical\n",
    "    plt.xlim(0,27)\n",
    "    plt.ylim(0,27)\n",
    "    plt.pcolor(X, Y, Z)\n",
    "    plt.gray()\n",
    "    plt.tick_params(labelbottom=\"off\")\n",
    "    plt.tick_params(labelleft=\"off\")\n",
    "\n",
    "    plt.show()\n",
    "\n",
    "draw_digit(mnist.data[5])\n",
    "draw_digit(mnist.data[12345])\n",
    "draw_digit(mnist.data[33456])\n"
   ]
  },
  {
   "cell_type": "code",
   "execution_count": 4,
   "metadata": {
    "collapsed": true
   },
   "outputs": [],
   "source": [
    "# 学習用データを N個、検証用データを残りの個数と設定\n",
    "N = 60000\n",
    "x_train, x_test = np.split(mnist.data,   [N])\n",
    "y_train, y_test = np.split(mnist.target, [N])\n",
    "N_test = y_test.size\n",
    "\n",
    "# Prepare multi-layer perceptron model\n",
    "# 多層パーセプトロンモデルの設定\n",
    "# 入力 784次元、出力 10次元\n",
    "model = FunctionSet(l1=F.Linear(784, n_units),\n",
    "                    l2=F.Linear(n_units, n_units),\n",
    "                    l3=F.Linear(n_units, 10))\n",
    "\n",
    "# Neural net architecture\n",
    "# ニューラルネットの構造\n",
    "def forward(x_data, y_data, train=True):\n",
    "    x, t = Variable(x_data), Variable(y_data)\n",
    "    h1 = F.dropout(F.relu(model.l1(x)),  train=train)\n",
    "    h2 = F.dropout(F.relu(model.l2(h1)), train=train)\n",
    "    y  = model.l3(h2)\n",
    "    # 多クラス分類なので誤差関数としてソフトマックス関数の\n",
    "    # 交差エントロピー関数を用いて、誤差を導出\n",
    "    return F.softmax_cross_entropy(y, t), F.accuracy(y, t)\n",
    "\n",
    "# Setup optimizer\n",
    "optimizer = optimizers.Adam()\n",
    "optimizer.setup(model)\n"
   ]
  },
  {
   "cell_type": "code",
   "execution_count": null,
   "metadata": {
    "collapsed": false
   },
   "outputs": [
    {
     "name": "stdout",
     "output_type": "stream",
     "text": [
      "epoch 1\n",
      "train mean loss=7.8447349274655185, accuracy=0.6937833340466022\n",
      "test  mean loss=6.153371401589271, accuracy=0.8470999991893768"
     ]
    }
   ],
   "source": [
    "train_loss = []\n",
    "train_acc  = []\n",
    "test_loss = []\n",
    "test_acc  = []\n",
    "\n",
    "l1_W = []\n",
    "l2_W = []\n",
    "l3_W = []\n",
    "\n",
    "# Learning loop\n",
    "for epoch in six.moves.range(1, n_epoch + 1):\n",
    "    print ('epoch', epoch)\n",
    "\n",
    "    # training\n",
    "    # N個の順番をランダムに並び替える\n",
    "    perm = np.random.permutation(N)\n",
    "    sum_accuracy = 0\n",
    "    sum_loss = 0\n",
    "    # 0〜Nまでのデータをバッチサイズごとに使って学習\n",
    "    for i in six.moves.range(0, N, batchsize):\n",
    "        x_batch = x_train[perm[i:i+batchsize]]\n",
    "        y_batch = y_train[perm[i:i+batchsize]]\n",
    "\n",
    "        # 勾配を初期化\n",
    "        optimizer.zero_grads()\n",
    "        # 順伝播させて誤差と精度を算出\n",
    "        loss, acc = forward(x_batch, y_batch)\n",
    "        # 誤差逆伝播で勾配を計算\n",
    "        loss.backward()\n",
    "        optimizer.update()\n",
    "        sum_loss     += float(cuda.to_cpu(loss.data)) * batchsize\n",
    "        sum_accuracy += float(cuda.to_cpu(acc.data)) * batchsize\n",
    "\n",
    "    # 訓練データの誤差と、正解精度を表示\n",
    "    print ('train mean loss={}, accuracy={}'.format(sum_loss / N, sum_accuracy / N))\n",
    "\n",
    "    train_loss.append(sum_loss / N)\n",
    "    train_acc.append(sum_accuracy / N)\n",
    "\n",
    "    # evaluation\n",
    "    # テストデータで誤差と、正解精度を算出し汎化性能を確認\n",
    "    sum_accuracy = 0\n",
    "    sum_loss     = 0\n",
    "    for i in six.moves.range(0, N_test, batchsize):\n",
    "        x_batch = x_test[i:i+batchsize]\n",
    "        y_batch = y_test[i:i+batchsize]\n",
    "\n",
    "        # 順伝播させて誤差と精度を算出\n",
    "        loss, acc = forward(x_batch, y_batch, train=False)\n",
    "\n",
    "        sum_loss     += float(cuda.to_cpu(loss.data)) * batchsize\n",
    "        sum_accuracy += float(cuda.to_cpu(acc.data)) * batchsize\n",
    "\n",
    "    # テストデータでの誤差と、正解精度を表示\n",
    "    print('test  mean loss={}, accuracy={}'.format(sum_loss / N_test, sum_accuracy / N_test))\n",
    "    test_loss.append(sum_loss / N_test)\n",
    "    test_acc.append(sum_accuracy / N_test)\n",
    "\n",
    "    # 学習したパラメーターを保存\n",
    "    l1_W.append(model.l1.W)\n",
    "    l2_W.append(model.l2.W)\n",
    "    l3_W.append(model.l3.W)\n",
    "\n",
    "# 精度と誤差をグラフ描画\n",
    "plt.figure(figsize=(8,6))\n",
    "plt.plot(range(len(train_acc)), train_acc)\n",
    "plt.plot(range(len(test_acc)), test_acc)\n",
    "plt.legend([\"train_acc\",\"test_acc\"],loc=4)\n",
    "plt.title(\"Accuracy of digit recognition.\")\n",
    "plt.plot()"
   ]
  },
  {
   "cell_type": "code",
   "execution_count": null,
   "metadata": {
    "collapsed": true
   },
   "outputs": [],
   "source": []
  }
 ],
 "metadata": {
  "kernelspec": {
   "display_name": "Python 3",
   "language": "python",
   "name": "python3"
  },
  "language_info": {
   "codemirror_mode": {
    "name": "ipython",
    "version": 3
   },
   "file_extension": ".py",
   "mimetype": "text/x-python",
   "name": "python",
   "nbconvert_exporter": "python",
   "pygments_lexer": "ipython3",
   "version": "3.5.1"
  }
 },
 "nbformat": 4,
 "nbformat_minor": 0
}
