{
 "cells": [
  {
   "cell_type": "code",
   "execution_count": 1,
   "metadata": {
    "collapsed": true
   },
   "outputs": [],
   "source": [
    "import argparse\n",
    "import collections\n",
    "import time\n",
    "\n",
    "import numpy as np\n",
    "\n",
    "import chainer\n",
    "from chainer import cuda\n",
    "import chainer.functions as F\n",
    "import chainer.links as L\n",
    "import chainer.optimizers as O"
   ]
  },
  {
   "cell_type": "code",
   "execution_count": 2,
   "metadata": {
    "collapsed": true
   },
   "outputs": [],
   "source": [
    "parser = argparse.ArgumentParser()\n",
    "parser.add_argument('--gpu', '-g', default=-1, type=int,\n",
    "                    help='GPU ID (negative value indicates CPU)')\n",
    "parser.add_argument('--unit', '-u', default=100, type=int,\n",
    "                    help='number of units')\n",
    "parser.add_argument('--window', '-w', default=5, type=int,\n",
    "                    help='window size')\n",
    "parser.add_argument('--batchsize', '-b', type=int, default=100,\n",
    "                    help='learning minibatch size')\n",
    "parser.add_argument('--epoch', '-e', default=10, type=int,\n",
    "                    help='number of epochs to learn')\n",
    "parser.add_argument('--model', '-m', choices=['skipgram', 'cbow'],\n",
    "                    default='skipgram',\n",
    "                    help='model type (\"skipgram\", \"cbow\")')\n",
    "parser.add_argument('--out-type', '-o', choices=['hsm', 'ns', 'original'],\n",
    "                    default='hsm',\n",
    "                    help='output model type (\"hsm\": hierarchical softmax, '\n",
    "                    '\"ns\": negative sampling, \"original\": no approximation)')\n",
    "parser.add_argument('--test', dest='test', action='store_true')\n",
    "parser.set_defaults(test=False)"
   ]
  },
  {
   "cell_type": "code",
   "execution_count": null,
   "metadata": {
    "collapsed": true
   },
   "outputs": [],
   "source": []
  }
 ],
 "metadata": {
  "kernelspec": {
   "display_name": "Python 3",
   "language": "python",
   "name": "python3"
  },
  "language_info": {
   "codemirror_mode": {
    "name": "ipython",
    "version": 3
   },
   "file_extension": ".py",
   "mimetype": "text/x-python",
   "name": "python",
   "nbconvert_exporter": "python",
   "pygments_lexer": "ipython3",
   "version": "3.5.1"
  }
 },
 "nbformat": 4,
 "nbformat_minor": 0
}
