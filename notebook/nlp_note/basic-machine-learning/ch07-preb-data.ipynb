{
 "cells": [
  {
   "cell_type": "code",
   "execution_count": 7,
   "metadata": {
    "collapsed": true
   },
   "outputs": [],
   "source": [
    "import re\n",
    "from subprocess import Popen, PIPE\n",
    "%matplotlib inline"
   ]
  },
  {
   "cell_type": "code",
   "execution_count": 8,
   "metadata": {
    "collapsed": true
   },
   "outputs": [],
   "source": [
    "Num = 600           # 抽出する文字数\n",
    "Chars = '[036]'     # 抽出する数字（任意の個数の数字を指定可能）\n"
   ]
  },
  {
   "cell_type": "code",
   "execution_count": 11,
   "metadata": {
    "collapsed": false
   },
   "outputs": [],
   "source": [
    "labels = open('train-labels.txt', 'r')\n",
    "images = open('train-images.txt', 'r')\n",
    "labels_out = open('sample-labels.txt', 'w')\n",
    "images_out = open('sample-images.txt', 'w')\n",
    "chars = re.compile(Chars)"
   ]
  },
  {
   "cell_type": "code",
   "execution_count": 12,
   "metadata": {
    "collapsed": false
   },
   "outputs": [],
   "source": [
    "while True:\n",
    "    label = labels.readline()\n",
    "    image = images.readline()\n",
    "    if (not image) or (not label):\n",
    "        break\n",
    "    if not chars.search(label):\n",
    "        continue\n",
    "\n",
    "    line = ''\n",
    "    for c in image.split(\" \"):\n",
    "        if int(c) > 127:\n",
    "            line += '1,'\n",
    "        else:\n",
    "            line += '0,'\n",
    "    line = line[:-1]\n",
    "    labels_out.write(label)\n",
    "    images_out.write(line + '\\n')\n",
    "    Num -= 1\n",
    "    if Num == 0:\n",
    "        break\n",
    "\n",
    "labels.close()\n",
    "images.close()\n",
    "labels_out.close()\n",
    "images_out.close()\n",
    "\n",
    "images = open('sample-images.txt', 'r')\n",
    "samples = open('samples.txt', 'w')\n",
    "c = 0"
   ]
  },
  {
   "cell_type": "code",
   "execution_count": 13,
   "metadata": {
    "collapsed": true
   },
   "outputs": [],
   "source": [
    "while True:\n",
    "    line = images.readline()\n",
    "    if not line:\n",
    "        break\n",
    "    x = 0\n",
    "    for s in line.split(','):\n",
    "        if int(s) == 1:\n",
    "            samples.write('#')\n",
    "        else:\n",
    "            samples.write(' ')\n",
    "        x += 1\n",
    "        if x % 28 == 0:\n",
    "            samples.write('\\n')\n",
    "    c += 1\n",
    "    if c == 10:\n",
    "        break\n",
    "\n",
    "images.close()\n",
    "samples.close()\n",
    "\n"
   ]
  },
  {
   "cell_type": "code",
   "execution_count": null,
   "metadata": {
    "collapsed": true
   },
   "outputs": [],
   "source": []
  }
 ],
 "metadata": {
  "kernelspec": {
   "display_name": "Python 3",
   "language": "python",
   "name": "python3"
  },
  "language_info": {
   "codemirror_mode": {
    "name": "ipython",
    "version": 3
   },
   "file_extension": ".py",
   "mimetype": "text/x-python",
   "name": "python",
   "nbconvert_exporter": "python",
   "pygments_lexer": "ipython3",
   "version": "3.5.1"
  }
 },
 "nbformat": 4,
 "nbformat_minor": 0
}
