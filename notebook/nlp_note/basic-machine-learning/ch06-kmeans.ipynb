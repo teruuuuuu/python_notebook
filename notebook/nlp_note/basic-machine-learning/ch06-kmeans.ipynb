{
 "cells": [
  {
   "cell_type": "code",
   "execution_count": 3,
   "metadata": {
    "collapsed": false
   },
   "outputs": [],
   "source": [
    "import numpy as np\n",
    "from numpy.random import randint\n",
    "from PIL import Image\n",
    "%matplotlib inline"
   ]
  },
  {
   "cell_type": "code",
   "execution_count": 4,
   "metadata": {
    "collapsed": true
   },
   "outputs": [],
   "source": [
    "Colors = [2, 3, 5, 16]  # 減色後の色数（任意の個数の色数を指定できます）"
   ]
  },
  {
   "cell_type": "code",
   "execution_count": 44,
   "metadata": {
    "collapsed": false
   },
   "outputs": [],
   "source": [
    "# k平均法による減色処理\n",
    "def run_kmeans(pixels, k):\n",
    "    cls = [0] * len(pixels)\n",
    "\n",
    "    # 代表色の初期値をランダムに設定\n",
    "    center = []\n",
    "    for i in range(k):\n",
    "        center.append(np.array([randint(256), randint(256), randint(256)]))\n",
    "    print (\"Initial centers:\",)\n",
    "    print (list(map(lambda x: x.tolist(), center)))\n",
    "    print (\"========================\")\n",
    "    distortion = 0.0\n",
    "\n",
    "    # 最大50回のIterationを実施\n",
    "    for iter_num in range(50): \n",
    "        center_new = []\n",
    "        for i in range(k):\n",
    "            center_new.append(np.array([0,0,0]))\n",
    "        num_points = [0] * k\n",
    "        distortion_new = 0.0\n",
    "\n",
    "        # E Phase: 各データが属するグループ（代表色）を計算\n",
    "        for pix, point in enumerate(pixels):\n",
    "            min_dist = 256*256*3\n",
    "            point = np.array(point)\n",
    "            for i in range(k):\n",
    "                d = sum([x*x for x in point-center[i]])\n",
    "                if d < min_dist:\n",
    "                    min_dist = d\n",
    "                    cls[pix] = i\n",
    "            center_new[cls[pix]] += point\n",
    "            num_points[cls[pix]] += 1\n",
    "            distortion_new += min_dist\n",
    "\n",
    "        # M Phase: 新しい代表色を計算\n",
    "        for i in range(k):\n",
    "            center_new[i] = center_new[i] / num_points[i]\n",
    "#            for j in range(len(center_new[i])):\n",
    "#                center_new[i][j] = int(center_new[i][j])\n",
    "        center = center_new\n",
    "        print (list(map(lambda x: x.tolist(), center)))\n",
    "        print (\"Distortion: J=%d\" % distortion_new)\n",
    "\n",
    "        # Distortion(J)の変化が0.1%未満になったら終了\n",
    "        if iter_num > 0 and distortion - distortion_new < distortion * 0.001:\n",
    "            break\n",
    "        distortion = distortion_new\n",
    "\n",
    "    # 画像データの各ピクセルを代表色で置き換え\n",
    "    for pix, point in enumerate(pixels):\n",
    "        pixels[pix] = tuple(center[cls[pix]])\n",
    "\n",
    "    return pixels\n",
    "        "
   ]
  },
  {
   "cell_type": "code",
   "execution_count": 45,
   "metadata": {
    "collapsed": false
   },
   "outputs": [
    {
     "name": "stdout",
     "output_type": "stream",
     "text": [
      "\n",
      "========================\n",
      "Number of clusters: K=2\n",
      "Initial centers:\n",
      "[[126, 236, 30], [108, 39, 152]]\n",
      "========================\n",
      "[[186.0, 198.0, 170.0], [134.0, 91.0, 82.0]]\n",
      "Distortion: J=5255526831\n",
      "[[229.0, 215.0, 217.0], [110.0, 93.0, 61.0]]\n",
      "Distortion: J=1370491504\n",
      "[[233.0, 217.0, 222.0], [111.0, 96.0, 63.0]]\n",
      "Distortion: J=907283622\n",
      "[[234.0, 219.0, 223.0], [112.0, 96.0, 63.0]]\n",
      "Distortion: J=900193420\n",
      "[[234.0, 219.0, 223.0], [112.0, 96.0, 64.0]]\n",
      "Distortion: J=899234811\n",
      "[[234.0, 219.0, 223.0], [112.0, 96.0, 64.0]]\n",
      "Distortion: J=899089824\n"
     ]
    },
    {
     "ename": "TypeError",
     "evalue": "integer argument expected, got float",
     "output_type": "error",
     "traceback": [
      "\u001b[0;31m---------------------------------------------------------------------------\u001b[0m",
      "\u001b[0;31mTypeError\u001b[0m                                 Traceback (most recent call last)",
      "\u001b[0;32m<ipython-input-45-d1b12e2229d6>\u001b[0m in \u001b[0;36m<module>\u001b[0;34m()\u001b[0m\n\u001b[1;32m     10\u001b[0m     \u001b[0mresult\u001b[0m \u001b[0;34m=\u001b[0m \u001b[0mrun_kmeans\u001b[0m\u001b[0;34m(\u001b[0m\u001b[0mpixels\u001b[0m\u001b[0;34m,\u001b[0m \u001b[0mk\u001b[0m\u001b[0;34m)\u001b[0m\u001b[0;34m\u001b[0m\u001b[0m\n\u001b[1;32m     11\u001b[0m     \u001b[0;31m# 画像データの更新とファイル出力\u001b[0m\u001b[0;34m\u001b[0m\u001b[0;34m\u001b[0m\u001b[0m\n\u001b[0;32m---> 12\u001b[0;31m     \u001b[0mim\u001b[0m\u001b[0;34m.\u001b[0m\u001b[0mputdata\u001b[0m\u001b[0;34m(\u001b[0m\u001b[0mlist\u001b[0m\u001b[0;34m(\u001b[0m\u001b[0mresult\u001b[0m\u001b[0;34m)\u001b[0m\u001b[0;34m)\u001b[0m \u001b[0;31m# Update image\u001b[0m\u001b[0;34m\u001b[0m\u001b[0m\n\u001b[0m\u001b[1;32m     13\u001b[0m     \u001b[0mim\u001b[0m\u001b[0;34m.\u001b[0m\u001b[0msave\u001b[0m\u001b[0;34m(\u001b[0m\u001b[0;34m\"output%02d.bmp\"\u001b[0m \u001b[0;34m%\u001b[0m \u001b[0mk\u001b[0m\u001b[0;34m,\u001b[0m \u001b[0;34m\"BMP\"\u001b[0m\u001b[0;34m)\u001b[0m\u001b[0;34m\u001b[0m\u001b[0m\n",
      "\u001b[0;32m/Users/arimuraterutoshi/.pyenv/versions/anaconda3-2.4.1/lib/python3.5/site-packages/PIL/Image.py\u001b[0m in \u001b[0;36mputdata\u001b[0;34m(self, data, scale, offset)\u001b[0m\n\u001b[1;32m   1434\u001b[0m             \u001b[0mself\u001b[0m\u001b[0;34m.\u001b[0m\u001b[0m_copy\u001b[0m\u001b[0;34m(\u001b[0m\u001b[0;34m)\u001b[0m\u001b[0;34m\u001b[0m\u001b[0m\n\u001b[1;32m   1435\u001b[0m \u001b[0;34m\u001b[0m\u001b[0m\n\u001b[0;32m-> 1436\u001b[0;31m         \u001b[0mself\u001b[0m\u001b[0;34m.\u001b[0m\u001b[0mim\u001b[0m\u001b[0;34m.\u001b[0m\u001b[0mputdata\u001b[0m\u001b[0;34m(\u001b[0m\u001b[0mdata\u001b[0m\u001b[0;34m,\u001b[0m \u001b[0mscale\u001b[0m\u001b[0;34m,\u001b[0m \u001b[0moffset\u001b[0m\u001b[0;34m)\u001b[0m\u001b[0;34m\u001b[0m\u001b[0m\n\u001b[0m\u001b[1;32m   1437\u001b[0m \u001b[0;34m\u001b[0m\u001b[0m\n\u001b[1;32m   1438\u001b[0m     \u001b[0;32mdef\u001b[0m \u001b[0mputpalette\u001b[0m\u001b[0;34m(\u001b[0m\u001b[0mself\u001b[0m\u001b[0;34m,\u001b[0m \u001b[0mdata\u001b[0m\u001b[0;34m,\u001b[0m \u001b[0mrawmode\u001b[0m\u001b[0;34m=\u001b[0m\u001b[0;34m\"RGB\"\u001b[0m\u001b[0;34m)\u001b[0m\u001b[0;34m:\u001b[0m\u001b[0;34m\u001b[0m\u001b[0m\n",
      "\u001b[0;31mTypeError\u001b[0m: integer argument expected, got float"
     ]
    }
   ],
   "source": [
    "\n",
    "for k in Colors:\n",
    "    print( \"\")\n",
    "    print( \"========================\")\n",
    "    print (\"Number of clusters: K=%d\" % k)\n",
    "    # 画像ファイルの読み込み\n",
    "    im = Image.open(\"photo.jpg\")\n",
    "    pixels = list(im.convert('RGB').getdata())\n",
    "    # k平均法による減色処理\n",
    "    result = run_kmeans(pixels, k)\n",
    "    # 画像データの更新とファイル出力\n",
    "    im.putdata(list(result)) # Update image\n",
    "    im.save(\"output%02d.bmp\" % k, \"BMP\")"
   ]
  },
  {
   "cell_type": "code",
   "execution_count": null,
   "metadata": {
    "collapsed": true
   },
   "outputs": [],
   "source": []
  }
 ],
 "metadata": {
  "kernelspec": {
   "display_name": "Python 3",
   "language": "python",
   "name": "python3"
  },
  "language_info": {
   "codemirror_mode": {
    "name": "ipython",
    "version": 3
   },
   "file_extension": ".py",
   "mimetype": "text/x-python",
   "name": "python",
   "nbconvert_exporter": "python",
   "pygments_lexer": "ipython3",
   "version": "3.5.1"
  }
 },
 "nbformat": 4,
 "nbformat_minor": 0
}
