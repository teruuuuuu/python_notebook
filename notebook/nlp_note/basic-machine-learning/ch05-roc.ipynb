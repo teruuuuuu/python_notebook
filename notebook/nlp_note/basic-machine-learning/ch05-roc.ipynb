{
 "cells": [
  {
   "cell_type": "code",
   "execution_count": 8,
   "metadata": {
    "collapsed": true
   },
   "outputs": [],
   "source": [
    "import numpy as np\n",
    "import matplotlib.pyplot as plt\n",
    "import pandas as pd\n",
    "from pandas import Series, DataFrame\n",
    "\n",
    "from numpy.random import rand, multivariate_normal\n",
    "pd.options.mode.chained_assignment = None\n",
    "%matplotlib inline"
   ]
  },
  {
   "cell_type": "code",
   "execution_count": 9,
   "metadata": {
    "collapsed": true
   },
   "outputs": [],
   "source": [
    "Variances = [50,150] # 両クラス共通の分散（2種類の分散で計算を実施）"
   ]
  },
  {
   "cell_type": "code",
   "execution_count": 10,
   "metadata": {
    "collapsed": true
   },
   "outputs": [],
   "source": [
    "# データセット {x_n,y_n,type_n} を用意\n",
    "def prepare_dataset(variance):\n",
    "    n1 = 80\n",
    "    n2 = 200\n",
    "    mu1 = [9,9]\n",
    "    mu2 = [-3,-3]\n",
    "    cov1 = np.array([[variance,0],[0,variance]])\n",
    "    cov2 = np.array([[variance,0],[0,variance]])\n",
    "\n",
    "    df1 = DataFrame(multivariate_normal(mu1,cov1,n1),columns=['x','y'])\n",
    "    df1['type'] = 1\n",
    "    df2 = DataFrame(multivariate_normal(mu2,cov2,n2),columns=['x','y'])\n",
    "    df2['type'] = 0\n",
    "    df = pd.concat([df1,df2],ignore_index=True)\n",
    "    df = df.reindex(np.random.permutation(df.index)).reset_index()\n",
    "    return df[['x','y','type']]"
   ]
  },
  {
   "cell_type": "code",
   "execution_count": 11,
   "metadata": {
    "collapsed": true
   },
   "outputs": [],
   "source": [
    "# ロジスティック回帰を実施\n",
    "def run_simulation(variance, subplot):\n",
    "    training_set = prepare_dataset(variance)\n",
    "    training_set1 = training_set[training_set['type']==1]\n",
    "    training_set2 = training_set[training_set['type']==0]\n",
    "    ymin, ymax = training_set.y.min()-5, training_set.y.max()+10\n",
    "    xmin, xmax = training_set.x.min()-5, training_set.x.max()+10\n",
    "    subplot.set_ylim([ymin-1, ymax+1])\n",
    "    subplot.set_xlim([xmin-1, xmax+1])\n",
    "    # 分類データを表示\n",
    "    subplot.scatter(training_set1.x, training_set1.y, marker='o')\n",
    "    subplot.scatter(training_set2.x, training_set2.y, marker='x')\n",
    "\n",
    "    training_set['bias'] = 1\n",
    "    w = np.array([[0],[0.1],[0.1]])\n",
    "    phi = training_set[['bias','x','y']]\n",
    "    phi = phi.as_matrix(columns=['bias','x','y'])\n",
    "    t = training_set[['type']]\n",
    "    t = t.as_matrix()\n",
    "\n",
    "    # 最大100回のIterationを実施\n",
    "    for i in range(100):\n",
    "        # IRLS法によるパラメータの修正\n",
    "        y = np.array([])\n",
    "        for line in phi:\n",
    "            a = np.dot(line, w)\n",
    "            y = np.append(y, [1.0/(1.0+np.exp(-a))])\n",
    "        r = np.diag(y*(1-y)) \n",
    "        y = y[np.newaxis,:].T\n",
    "        tmp1 = np.linalg.inv(np.dot(np.dot(phi.T, r),phi))\n",
    "        tmp2 = np.dot(phi.T, (y-t))\n",
    "        w_new = w - np.dot(tmp1, tmp2)\n",
    "        # パラメータの変化が 0.1% 未満になったら終了\n",
    "        if np.dot((w_new-w).T, (w_new-w)) < 0.001 * np.dot(w.T, w):\n",
    "            w = w_new\n",
    "            break\n",
    "        w = w_new\n",
    "\n",
    "    # 分類誤差の計算と確率付きデータの用意\n",
    "    d0, dx, dy = w[0], w[1], w[2]\n",
    "    err = 0\n",
    "    training_set['probability'] = 0.0\n",
    "    for index, line in training_set.iterrows():\n",
    "        a = np.dot(np.array([1, line.x, line.y]), w)\n",
    "        p = 1.0/(1.0+np.exp(-a))\n",
    "        training_set.ix[index, 'probability'] = p\n",
    "        if (p-0.5)*(line.type*2-1) < 0:\n",
    "            err += 1\n",
    "    err_rate = err * 100 / len(training_set)\n",
    "    # 境界線（P=0.5）を表示\n",
    "    linex = np.arange(xmin-5, xmax+5)\n",
    "    liney = - linex * dx / dy - d0 / dy\n",
    "    label = \"ERR %.2f%%\" % err_rate\n",
    "    subplot.plot(linex,liney ,label=label, color='blue')\n",
    "    subplot.legend(loc=1)\n",
    "    result = training_set.sort_index(by=['probability'], ascending=[False])\n",
    "    # 確率付きデータを返却\n",
    "    return result.reset_index()"
   ]
  },
  {
   "cell_type": "code",
   "execution_count": 12,
   "metadata": {
    "collapsed": true
   },
   "outputs": [],
   "source": [
    "# ROC曲線の表示\n",
    "def draw_roc(result, subplot):\n",
    "    positives = len(result[result['type']==1])\n",
    "    negatives = len(result[result['type']==0])\n",
    "    tp = [0.0] * len(result)\n",
    "    fp = [0.0] * len(result)\n",
    "    for index, line in result.iterrows():\n",
    "        for c in np.arange(0, len(result)):\n",
    "            if index < c:\n",
    "                if line.type == 1:\n",
    "                    tp[c] += 1\n",
    "                else:\n",
    "                    fp[c] += 1\n",
    "    tp_rate = np.array(tp) / positives\n",
    "    fp_rate = np.array(fp) / negatives\n",
    "\n",
    "    subplot.set_ylim([0, 1])\n",
    "    subplot.set_xlim([0, 1])\n",
    "    subplot.set_xlabel(\"False positive rate\")\n",
    "    subplot.set_ylabel(\"True positive rate\")\n",
    "    subplot.plot(fp_rate, tp_rate)"
   ]
  },
  {
   "cell_type": "code",
   "execution_count": 13,
   "metadata": {
    "collapsed": false
   },
   "outputs": [
    {
     "name": "stderr",
     "output_type": "stream",
     "text": [
      "/Users/arimuraterutoshi/.pyenv/versions/anaconda3-2.4.1/lib/python3.5/site-packages/ipykernel/__main__.py:56: FutureWarning: by argument to sort_index is deprecated, pls use .sort_values(by=...)\n",
      "/Users/arimuraterutoshi/.pyenv/versions/anaconda3-2.4.1/lib/python3.5/site-packages/matplotlib/figure.py:397: UserWarning: matplotlib is currently using a non-GUI backend, so cannot show the figure\n",
      "  \"matplotlib is currently using a non-GUI backend, \"\n"
     ]
    },
    {
     "data": {
      "image/png": "[encoded data removed]",
      "text/plain": [
       "<matplotlib.figure.Figure at 0x109dfa588>"
      ]
     },
     "metadata": {},
     "output_type": "display_data"
    }
   ],
   "source": [
    "\n",
    "fig = plt.figure()\n",
    "for c, variance in enumerate(Variances):\n",
    "    subplots = fig.add_subplot(2,2,c+1)\n",
    "    result = run_simulation(variance, subplots)\n",
    "    subplots = fig.add_subplot(2,2,c+2+1)\n",
    "    draw_roc(result, subplots)\n",
    "fig.show()"
   ]
  },
  {
   "cell_type": "code",
   "execution_count": null,
   "metadata": {
    "collapsed": false
   },
   "outputs": [],
   "source": []
  },
  {
   "cell_type": "code",
   "execution_count": null,
   "metadata": {
    "collapsed": true
   },
   "outputs": [],
   "source": []
  }
 ],
 "metadata": {
  "kernelspec": {
   "display_name": "Python 3",
   "language": "python",
   "name": "python3"
  },
  "language_info": {
   "codemirror_mode": {
    "name": "ipython",
    "version": 3
   },
   "file_extension": ".py",
   "mimetype": "text/x-python",
   "name": "python",
   "nbconvert_exporter": "python",
   "pygments_lexer": "ipython3",
   "version": "3.5.1"
  }
 },
 "nbformat": 4,
 "nbformat_minor": 0
}
