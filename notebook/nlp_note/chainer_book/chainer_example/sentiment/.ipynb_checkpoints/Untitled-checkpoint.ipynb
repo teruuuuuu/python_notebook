{
 "cells": [
  {
   "cell_type": "code",
   "execution_count": 1,
   "metadata": {
    "collapsed": true
   },
   "outputs": [],
   "source": [
    "import os\n",
    "import os.path\n",
    "from six.moves.urllib import request\n",
    "import zipfile\n",
    "\n",
    "\n",
    "request.urlretrieve(\n",
    "    'http://nlp.stanford.edu/sentiment/trainDevTestTrees_PTB.zip',\n",
    "    'trainDevTestTrees_PTB.zip')\n",
    "zf = zipfile.ZipFile('trainDevTestTrees_PTB.zip')\n",
    "for name in zf.namelist():\n",
    "    (dirname, filename) = os.path.split(name)\n",
    "    if not filename == '':\n",
    "        zf.extract(name, '.')"
   ]
  },
  {
   "cell_type": "code",
   "execution_count": null,
   "metadata": {
    "collapsed": true
   },
   "outputs": [],
   "source": []
  }
 ],
 "metadata": {
  "kernelspec": {
   "display_name": "Python 3",
   "language": "python",
   "name": "python3"
  },
  "language_info": {
   "codemirror_mode": {
    "name": "ipython",
    "version": 3
   },
   "file_extension": ".py",
   "mimetype": "text/x-python",
   "name": "python",
   "nbconvert_exporter": "python",
   "pygments_lexer": "ipython3",
   "version": "3.5.2"
  }
 },
 "nbformat": 4,
 "nbformat_minor": 0
}
