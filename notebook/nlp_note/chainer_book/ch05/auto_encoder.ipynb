{
 "cells": [
  {
   "cell_type": "code",
   "execution_count": 56,
   "metadata": {
    "collapsed": true
   },
   "outputs": [],
   "source": [
    "import numpy as np\n",
    "import chainer\n",
    "from chainer import cuda, Function, gradient_check, Variable\n",
    "from chainer import optimizers, serializers, utils\n",
    "from chainer import Link, Chain, ChainList\n",
    "import chainer.functions as F\n",
    "import chainer.links as L"
   ]
  },
  {
   "cell_type": "code",
   "execution_count": 70,
   "metadata": {
    "collapsed": false
   },
   "outputs": [],
   "source": [
    "# Set data\n",
    "from sklearn import datasets\n",
    "iris = datasets.load_iris()\n",
    "X = iris.data.astype(np.float32)\n",
    "Y = iris.target.astype(np.float32)\n",
    "N = Y.size\n",
    "Y2 = np.zeros(3 * N).reshape(N,3).astype(np.float32)\n",
    "for i in range(N):\n",
    "    Y2[i,np.int(Y[i])] = np.float32(1.0)\n",
    "\n",
    "index = np.arange(N)\n",
    "xtrain = X[index[index % 2 != 0],:]\n",
    "ytrain = Y2[index[index % 2 != 0],:]\n",
    "ytrain_ans = Y[index[index % 2 != 0]]\n",
    "xtest = X[index[index % 2 == 0],:]\n",
    "yans = Y[index[index % 2 == 0]]"
   ]
  },
  {
   "cell_type": "code",
   "execution_count": 58,
   "metadata": {
    "collapsed": true
   },
   "outputs": [],
   "source": [
    "# Define model\n",
    "\n",
    "class MyAE(Chain):\n",
    "    def __init__(self):\n",
    "        super(MyAE, self).__init__(\n",
    "            l1=L.Linear(4,2),\n",
    "            l2=L.Linear(2,4),\n",
    "        )\n",
    "\n",
    "    def __call__(self,x):\n",
    "        bv = self.fwd(x)\n",
    "        return F.mean_squared_error(bv, x)\n",
    "\n",
    "    def fwd(self,x):\n",
    "        fv = F.sigmoid(self.l1(x))\n",
    "        bv = self.l2(fv)\n",
    "        return bv"
   ]
  },
  {
   "cell_type": "code",
   "execution_count": 59,
   "metadata": {
    "collapsed": true
   },
   "outputs": [],
   "source": [
    "# Initialize model\n",
    "\n",
    "ae_model = MyAE()\n",
    "optimizer = optimizers.SGD()\n",
    "optimizer.setup(ae_model)"
   ]
  },
  {
   "cell_type": "code",
   "execution_count": 60,
   "metadata": {
    "collapsed": false
   },
   "outputs": [],
   "source": [
    "# Learn\n",
    "\n",
    "n = 75\n",
    "bs = 30\n",
    "for j in range(3000):\n",
    "    sffindx = np.random.permutation(range(n))\n",
    "    for i in range(0, n, bs):\n",
    "        x = Variable(xtrain[sffindx[i:(i+bs) if (i+bs) < n else n]])\n",
    "        ae_model.zerograds()\n",
    "        loss = ae_model(x)\n",
    "        loss.backward()\n",
    "        optimizer.update()"
   ]
  },
  {
   "cell_type": "code",
   "execution_count": 93,
   "metadata": {
    "collapsed": false,
    "scrolled": true
   },
   "outputs": [],
   "source": [
    "# Result\n",
    "x = Variable(xtrain, volatile='on')\n",
    "yt = F.sigmoid(ae_model.l1(x))\n",
    "ans = yt.data\n",
    "#for i in range(n):\n",
    "#    print (i, ans[i,:])"
   ]
  },
  {
   "cell_type": "code",
   "execution_count": null,
   "metadata": {
    "collapsed": true
   },
   "outputs": [],
   "source": []
  },
  {
   "cell_type": "code",
   "execution_count": null,
   "metadata": {
    "collapsed": false,
    "scrolled": true
   },
   "outputs": [],
   "source": [
    "\n"
   ]
  },
  {
   "cell_type": "code",
   "execution_count": 87,
   "metadata": {
    "collapsed": true
   },
   "outputs": [],
   "source": [
    "# 事項符号化のデータでロジクスティック回帰\n",
    "# Define model\n",
    "class IrisRogi(Chain):\n",
    "    def __init__(self):\n",
    "        super(IrisRogi, self).__init__(\n",
    "            l1=L.Linear(2,3),\n",
    "        )\n",
    "\n",
    "    def __call__(self,x,y):\n",
    "        return F.mean_squared_error(self.fwd(x), y)\n",
    "\n",
    "    def fwd(self,x):\n",
    "        return F.softmax(self.l1(x))\n",
    "\n",
    "# Initialize model\n",
    "\n",
    "rg_model = IrisRogi()\n",
    "optimizer = optimizers.Adam()\n",
    "optimizer.setup(rg_model)"
   ]
  },
  {
   "cell_type": "code",
   "execution_count": 89,
   "metadata": {
    "collapsed": false
   },
   "outputs": [],
   "source": [
    "n = 75\n",
    "bs = 25\n",
    "for j in range(5000):\n",
    "    sffindx = np.random.permutation(n)\n",
    "    for i in range(0, n, bs):\n",
    "        x = Variable(xtrain_ae.data[sffindx[i:(i+bs) if (i+bs) < n else n]])\n",
    "        y = Variable(ytrain[sffindx[i:(i+bs) if (i+bs) < n else n]])\n",
    "        rg_model.zerograds()\n",
    "        loss = rg_model(x,y)\n",
    "        loss.backward()\n",
    "        optimizer.update()"
   ]
  },
  {
   "cell_type": "code",
   "execution_count": 91,
   "metadata": {
    "collapsed": false,
    "scrolled": true
   },
   "outputs": [
    {
     "name": "stdout",
     "output_type": "stream",
     "text": [
      "73 / 75  =  0.9733333333333334\n"
     ]
    }
   ],
   "source": [
    "# train Result\n",
    "xtrain_ae = F.sigmoid(ae_model.l1(Variable(xtrain, volatile='on')))\n",
    "yy = rg_model.fwd(xtrain_ae)\n",
    "ans = yy.data\n",
    "nrow, ncol = ans.shape\n",
    "ok = 0\n",
    "for i in range(nrow):\n",
    "    cls = np.argmax(ans[i,:])\n",
    "    # print (ans[i,:], cls)\n",
    "    if cls == ytrain_ans[i]:\n",
    "        ok += 1\n",
    "\n",
    "print( ok, \"/\", nrow, \" = \", (ok * 1.0)/nrow)"
   ]
  },
  {
   "cell_type": "code",
   "execution_count": 92,
   "metadata": {
    "collapsed": false
   },
   "outputs": [
    {
     "name": "stdout",
     "output_type": "stream",
     "text": [
      "72 / 75  =  0.96\n"
     ]
    }
   ],
   "source": [
    "# test Result\n",
    "xtest_ae = F.sigmoid(ae_model.l1(Variable(xtest, volatile='on')))\n",
    "yy = rg_model.fwd(xtest_ae)\n",
    "ans = yy.data\n",
    "nrow, ncol = ans.shape\n",
    "ok = 0\n",
    "for i in range(nrow):\n",
    "    cls = np.argmax(ans[i,:])\n",
    "    # print (ans[i,:], cls)\n",
    "    if cls == yans[i]:\n",
    "        ok += 1\n",
    "\n",
    "print( ok, \"/\", nrow, \" = \", (ok * 1.0)/nrow)"
   ]
  },
  {
   "cell_type": "code",
   "execution_count": null,
   "metadata": {
    "collapsed": true
   },
   "outputs": [],
   "source": []
  }
 ],
 "metadata": {
  "kernelspec": {
   "display_name": "Python 3",
   "language": "python",
   "name": "python3"
  },
  "language_info": {
   "codemirror_mode": {
    "name": "ipython",
    "version": 3
   },
   "file_extension": ".py",
   "mimetype": "text/x-python",
   "name": "python",
   "nbconvert_exporter": "python",
   "pygments_lexer": "ipython3",
   "version": "3.5.2"
  }
 },
 "nbformat": 4,
 "nbformat_minor": 0
}
