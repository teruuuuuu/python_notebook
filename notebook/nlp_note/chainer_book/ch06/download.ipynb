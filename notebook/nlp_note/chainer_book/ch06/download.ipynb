{
 "cells": [
  {
   "cell_type": "code",
   "execution_count": 2,
   "metadata": {
    "collapsed": false
   },
   "outputs": [
    {
     "data": {
      "text/plain": [
       "('ptb.test.txt', <http.client.HTTPMessage at 0x1044dd8d0>)"
      ]
     },
     "execution_count": 2,
     "metadata": {},
     "output_type": "execute_result"
    }
   ],
   "source": [
    "from six.moves.urllib import request\n",
    "\n",
    "host = 'https://raw.githubusercontent.com'\n",
    "request.urlretrieve(\n",
    "    '%s/tomsercu/lstm/master/data/ptb.train.txt' % host,\n",
    "    'ptb.train.txt')\n",
    "request.urlretrieve(\n",
    "    '%s/tomsercu/lstm/master/data/ptb.valid.txt' % host,\n",
    "    'ptb.valid.txt')\n",
    "request.urlretrieve(\n",
    "    '%s/tomsercu/lstm/master/data/ptb.test.txt' % host,\n",
    "    'ptb.test.txt')"
   ]
  },
  {
   "cell_type": "code",
   "execution_count": null,
   "metadata": {
    "collapsed": true
   },
   "outputs": [],
   "source": []
  }
 ],
 "metadata": {
  "kernelspec": {
   "display_name": "Python 3",
   "language": "python",
   "name": "python3"
  },
  "language_info": {
   "codemirror_mode": {
    "name": "ipython",
    "version": 3
   },
   "file_extension": ".py",
   "mimetype": "text/x-python",
   "name": "python",
   "nbconvert_exporter": "python",
   "pygments_lexer": "ipython3",
   "version": "3.5.2"
  }
 },
 "nbformat": 4,
 "nbformat_minor": 0
}
