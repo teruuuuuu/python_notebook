{
 "cells": [
  {
   "cell_type": "code",
   "execution_count": 5,
   "metadata": {
    "collapsed": true
   },
   "outputs": [],
   "source": [
    "import numpy\n",
    "import six\n",
    "\n",
    "n_result = 5  # number of search result to show"
   ]
  },
  {
   "cell_type": "code",
   "execution_count": 6,
   "metadata": {
    "collapsed": false
   },
   "outputs": [],
   "source": [
    "with open('w2v.model', 'r') as f:\n",
    "    ss = f.readline().split()\n",
    "    n_vocab, n_units = int(ss[0]), int(ss[1])\n",
    "    word2index = {}\n",
    "    index2word = {}\n",
    "    w = numpy.empty((n_vocab, n_units), dtype=numpy.float32)\n",
    "    for i, line in enumerate(f):\n",
    "        ss = line.split()\n",
    "        assert len(ss) == n_units + 1\n",
    "        word = ss[0]\n",
    "        word2index[word] = i\n",
    "        index2word[i] = word\n",
    "        w[i] = numpy.array([float(s) for s in ss[1:]], dtype=numpy.float32)"
   ]
  },
  {
   "cell_type": "code",
   "execution_count": null,
   "metadata": {
    "collapsed": false
   },
   "outputs": [],
   "source": [
    "s = numpy.sqrt((w * w).sum(1))\n",
    "w /= s.reshape((s.shape[0], 1))  # normalize\n",
    "\n",
    "try:\n",
    "    while True:\n",
    "        q = six.moves.input('>> ')\n",
    "        if q not in word2index:\n",
    "            print('\"{0}\" is not found'.format(q))\n",
    "            continue\n",
    "        v = w[word2index[q]]\n",
    "        similarity = w.dot(v)\n",
    "        print('query: {}'.format(q))\n",
    "        count = 0\n",
    "        for i in (-similarity).argsort():\n",
    "            if numpy.isnan(similarity[i]):\n",
    "                continue\n",
    "            if index2word[i] == q:\n",
    "                continue\n",
    "            print('{0}: {1}'.format(index2word[i], similarity[i]))\n",
    "            count += 1\n",
    "            if count == n_result:\n",
    "                break\n",
    "\n",
    "except EOFError:\n",
    "    pass"
   ]
  },
  {
   "cell_type": "code",
   "execution_count": null,
   "metadata": {
    "collapsed": true
   },
   "outputs": [],
   "source": []
  }
 ],
 "metadata": {
  "kernelspec": {
   "display_name": "Python 3",
   "language": "python",
   "name": "python3"
  },
  "language_info": {
   "codemirror_mode": {
    "name": "ipython",
    "version": 3
   },
   "file_extension": ".py",
   "mimetype": "text/x-python",
   "name": "python",
   "nbconvert_exporter": "python",
   "pygments_lexer": "ipython3",
   "version": "3.5.2"
  }
 },
 "nbformat": 4,
 "nbformat_minor": 0
}
