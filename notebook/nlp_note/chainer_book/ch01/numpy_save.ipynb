{
 "cells": [
  {
   "cell_type": "code",
   "execution_count": 11,
   "metadata": {
    "collapsed": true
   },
   "outputs": [],
   "source": [
    "import numpy as np\n",
    "# -*- coding: utf-8 -*-"
   ]
  },
  {
   "cell_type": "code",
   "execution_count": 29,
   "metadata": {
    "collapsed": false
   },
   "outputs": [
    {
     "name": "stdout",
     "output_type": "stream",
     "text": [
      "[[-0.97858801  0.50174228 -1.74902783 ...,  0.65213985 -0.33867333\n",
      "  -0.28569019]\n",
      " [-3.1058265  -0.68154242 -0.05828178 ..., -1.35623922  1.37208091\n",
      "   1.15740935]\n",
      " [-1.03407343  0.58551919  0.2454989  ..., -0.64198643  0.25445552\n",
      "  -0.76244438]\n",
      " ..., \n",
      " [ 0.53882937  1.34047686  0.92336143 ..., -1.76240512 -0.57832883\n",
      "  -1.31816185]\n",
      " [ 0.52211831 -1.66493508 -1.45906289 ...,  1.80119816 -1.24252983\n",
      "   1.0886969 ]\n",
      " [ 0.23306844  0.22944247  0.89053351 ..., -0.23086267 -0.78042871\n",
      "   1.88998426]]\n"
     ]
    }
   ],
   "source": [
    "a = np.random.randn(10000).reshape(100, 100)\n",
    "print(a)"
   ]
  },
  {
   "cell_type": "code",
   "execution_count": 37,
   "metadata": {
    "collapsed": false
   },
   "outputs": [
    {
     "name": "stdout",
     "output_type": "stream",
     "text": [
      "[-0.97858801  0.50174228 -1.74902783 ..., -0.23086267 -0.78042871\n",
      "  1.88998426]\n"
     ]
    }
   ],
   "source": [
    "# バイナリで保存\n",
    "a.tofile(\"a.data\")\n",
    "b=np.fromfile(\"a.dat\")\n",
    "print(b)"
   ]
  },
  {
   "cell_type": "code",
   "execution_count": 38,
   "metadata": {
    "collapsed": false
   },
   "outputs": [
    {
     "name": "stdout",
     "output_type": "stream",
     "text": [
      "[[-0.97858801  0.50174228 -1.74902783 ...,  0.65213985 -0.33867333\n",
      "  -0.28569019]\n",
      " [-3.1058265  -0.68154242 -0.05828178 ..., -1.35623922  1.37208091\n",
      "   1.15740935]\n",
      " [-1.03407343  0.58551919  0.2454989  ..., -0.64198643  0.25445552\n",
      "  -0.76244438]\n",
      " ..., \n",
      " [ 0.53882937  1.34047686  0.92336143 ..., -1.76240512 -0.57832883\n",
      "  -1.31816185]\n",
      " [ 0.52211831 -1.66493508 -1.45906289 ...,  1.80119816 -1.24252983\n",
      "   1.0886969 ]\n",
      " [ 0.23306844  0.22944247  0.89053351 ..., -0.23086267 -0.78042871\n",
      "   1.88998426]]\n"
     ]
    }
   ],
   "source": [
    "# npy形式で保存\n",
    "np.save(\"a2.dat\", a)\n",
    "b = np.load(\"a2.dat.npy\")\n",
    "print(b)"
   ]
  },
  {
   "cell_type": "code",
   "execution_count": null,
   "metadata": {
    "collapsed": true
   },
   "outputs": [],
   "source": []
  }
 ],
 "metadata": {
  "kernelspec": {
   "display_name": "Python 3",
   "language": "python",
   "name": "python3"
  },
  "language_info": {
   "codemirror_mode": {
    "name": "ipython",
    "version": 3
   },
   "file_extension": ".py",
   "mimetype": "text/x-python",
   "name": "python",
   "nbconvert_exporter": "python",
   "pygments_lexer": "ipython3",
   "version": "3.5.2"
  }
 },
 "nbformat": 4,
 "nbformat_minor": 0
}
