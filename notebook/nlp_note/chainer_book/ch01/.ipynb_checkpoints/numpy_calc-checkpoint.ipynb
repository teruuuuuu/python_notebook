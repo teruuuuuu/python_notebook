{
 "cells": [
  {
   "cell_type": "code",
   "execution_count": 1,
   "metadata": {
    "collapsed": false
   },
   "outputs": [
    {
     "name": "stdout",
     "output_type": "stream",
     "text": [
      "[[1 2 3]\n",
      " [4 5 6]]\n",
      "[[2 3 4]\n",
      " [5 6 7]]\n",
      "[[ 1  4  9]\n",
      " [16 25 36]]\n",
      "[[ 0.          0.69314718  1.09861229]\n",
      " [ 1.38629436  1.60943791  1.79175947]]\n",
      "21\n",
      "3.5\n"
     ]
    }
   ],
   "source": [
    "import numpy as np\n",
    "\n",
    "a = np.arange(1,7).reshape(2,3)\n",
    "print(a)\n",
    "\n",
    "# そのまま足せる\n",
    "print(a + 1)\n",
    "\n",
    "# 自乗も出来る\n",
    "print(a**2)\n",
    "\n",
    "print(np.log(a))\n",
    "\n",
    "# 全要素の合計\n",
    "print(np.sum(a))\n",
    "\n",
    "# 全要素の平均\n",
    "print(np.average(a))"
   ]
  },
  {
   "cell_type": "code",
   "execution_count": 2,
   "metadata": {
    "collapsed": false
   },
   "outputs": [
    {
     "name": "stdout",
     "output_type": "stream",
     "text": [
      "[5 7 9]\n",
      "[ 6 15]\n"
     ]
    }
   ],
   "source": [
    "#列毎の和\n",
    "print(np.sum(a, axis=0))\n",
    "\n",
    "#行毎の和\n",
    "print(np.sum(a, axis=1))"
   ]
  },
  {
   "cell_type": "code",
   "execution_count": 3,
   "metadata": {
    "collapsed": false
   },
   "outputs": [
    {
     "name": "stdout",
     "output_type": "stream",
     "text": [
      "[[0 1 2]\n",
      " [3 4 5]]\n",
      "[[ 6  7  8]\n",
      " [ 9 10 11]]\n",
      "[[ 6  8 10]\n",
      " [12 14 16]]\n",
      "[[-6 -6 -6]\n",
      " [-6 -6 -6]]\n",
      "[[ 0  7 16]\n",
      " [27 40 55]]\n",
      "[[ 0.          0.14285714  0.25      ]\n",
      " [ 0.33333333  0.4         0.45454545]]\n"
     ]
    }
   ],
   "source": [
    "a = np.arange(6).reshape(2,3)\n",
    "b = np.arange(6, 12).reshape(2,3)\n",
    "print(a)\n",
    "print(b)\n",
    "# 足し算\n",
    "print(a + b)\n",
    "\n",
    "# 引き算\n",
    "print(a - b)\n",
    "\n",
    "# 掛け算\n",
    "print(a * b)\n",
    "\n",
    "# 割り算\n",
    "print(a / b)"
   ]
  },
  {
   "cell_type": "code",
   "execution_count": 4,
   "metadata": {
    "collapsed": false
   },
   "outputs": [
    {
     "name": "stdout",
     "output_type": "stream",
     "text": [
      "[0 1 2 3]\n",
      "[4 5 6 7]\n",
      "38\n",
      "[[0 1 2]\n",
      " [3 4 5]]\n",
      "[[0 1]\n",
      " [2 3]\n",
      " [4 5]]\n",
      "[[10 13]\n",
      " [28 40]]\n"
     ]
    }
   ],
   "source": [
    "a = np.arange(4)\n",
    "b = np.arange(4, 8)\n",
    "print(a)\n",
    "print(b)\n",
    "\n",
    "# 行列の掛け算\n",
    "print(a.dot(b))\n",
    "\n",
    "a= np.arange(6).reshape(2,3)\n",
    "b= np.arange(6).reshape(3,2)\n",
    "print(a)\n",
    "print(b)\n",
    "\n",
    "# 行列の掛け算\n",
    "print(a.dot(b))"
   ]
  },
  {
   "cell_type": "code",
   "execution_count": 5,
   "metadata": {
    "collapsed": false
   },
   "outputs": [
    {
     "name": "stdout",
     "output_type": "stream",
     "text": [
      "[[ 0  6  3]\n",
      " [-2  7  2]\n",
      " [ 0  0  3]]\n",
      "[[ 0 -2  0]\n",
      " [ 6  7  0]\n",
      " [ 3  2  3]]\n",
      "36.0\n",
      "[[ 0.58333333 -0.5        -0.25      ]\n",
      " [ 0.16666667  0.         -0.16666667]\n",
      " [ 0.          0.          0.33333333]]\n",
      "[ 3.  4.  3.]\n",
      "[[-0.89442719 -0.83205029  0.43643578]\n",
      " [-0.4472136  -0.5547002  -0.21821789]\n",
      " [ 0.          0.          0.87287156]]\n"
     ]
    }
   ],
   "source": [
    "a = np.array([[0,6,3], [-2, 7, 2],[0,0,3]])\n",
    "print(a)\n",
    "# 転置行列\n",
    "print(a.T)\n",
    "\n",
    "# 行列式 0でないので逆行列がある\n",
    "print(np.linalg.det(a))\n",
    "\n",
    "# 逆行列\n",
    "print(np.linalg.inv(a))\n",
    "\n",
    "\n",
    "# 固有値、　固有ベクトル\n",
    "la, v = np.linalg.eig(a)\n",
    "print(la)\n",
    "print(v)"
   ]
  }
 ],
 "metadata": {
  "kernelspec": {
   "display_name": "Python 3",
   "language": "python",
   "name": "python3"
  },
  "language_info": {
   "codemirror_mode": {
    "name": "ipython",
    "version": 3
   },
   "file_extension": ".py",
   "mimetype": "text/x-python",
   "name": "python",
   "nbconvert_exporter": "python",
   "pygments_lexer": "ipython3",
   "version": "3.5.2"
  }
 },
 "nbformat": 4,
 "nbformat_minor": 0
}
