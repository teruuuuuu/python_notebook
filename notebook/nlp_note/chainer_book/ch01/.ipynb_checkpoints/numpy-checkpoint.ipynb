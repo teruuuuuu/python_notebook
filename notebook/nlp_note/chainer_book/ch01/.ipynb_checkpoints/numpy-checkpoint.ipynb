{
 "cells": [
  {
   "cell_type": "code",
   "execution_count": 13,
   "metadata": {
    "collapsed": false
   },
   "outputs": [
    {
     "data": {
      "text/plain": [
       "60"
      ]
     },
     "execution_count": 13,
     "metadata": {},
     "output_type": "execute_result"
    }
   ],
   "source": [
    "import numpy as np\n",
    "# 配列の生成\n",
    "np.array([1,2,3,4,5])\n",
    "\n",
    "# 範囲指定 0〜9の配列生成\n",
    "np.array(range(10))\n",
    "\n",
    "#  範囲指定 0〜9の配列生成\n",
    "np.arange(10)\n",
    "\n",
    "# 2×3の配列生成\n",
    "np.array([[0,1,2],[3,4,5]])\n",
    "\n",
    "#shapeで配列の形を変更 \n",
    "np.arange(27).reshape(3,3,3)\n",
    "\n",
    "#配列の形を確認するにはshapeを使う\n",
    "a = np.arange(60).reshape(10,6)\n",
    "a.shape # 形を確認\n",
    "a.size # 要素数"
   ]
  },
  {
   "cell_type": "code",
   "execution_count": 23,
   "metadata": {
    "collapsed": false
   },
   "outputs": [
    {
     "data": {
      "text/plain": [
       "array([5, 5, 6, 6, 6, 6, 7, 7, 1, 5, 3, 5, 3, 6, 7])"
      ]
     },
     "execution_count": 23,
     "metadata": {},
     "output_type": "execute_result"
    }
   ],
   "source": [
    "# 0.0が5こある配列\n",
    "np.zeros(5)\n",
    "\n",
    "# 1.0が5個ある配列\n",
    "np.ones(5)\n",
    "\n",
    "\n",
    "np.empty(5)\n",
    "\n",
    "#標準正規分布からの乱数を要素として配列を生成\n",
    "np.random.randn(5)\n",
    "\n",
    "# 2項分布\n",
    "np.random.binomial(10, .5, 15)"
   ]
  },
  {
   "cell_type": "code",
   "execution_count": 24,
   "metadata": {
    "collapsed": false
   },
   "outputs": [
    {
     "data": {
      "text/plain": [
       "array([ 0.70040021,  0.12196926,  0.76639636])"
      ]
     },
     "execution_count": 24,
     "metadata": {},
     "output_type": "execute_result"
    }
   ],
   "source": [
    "# 区間(0, 1)の一様分布に従う乱数を3個生成\n",
    "np.random.uniform(0,1, 3)"
   ]
  },
  {
   "cell_type": "code",
   "execution_count": 26,
   "metadata": {
    "collapsed": false
   },
   "outputs": [
    {
     "data": {
      "text/plain": [
       "array([2, 4, 5, 0, 3, 1])"
      ]
     },
     "execution_count": 26,
     "metadata": {},
     "output_type": "execute_result"
    }
   ],
   "source": [
    "#配列のシャッフル\n",
    "np.random.permutation(range(6))\n",
    "\n",
    "#上記の省略形\n",
    "np.random.permutation(6)"
   ]
  },
  {
   "cell_type": "code",
   "execution_count": 27,
   "metadata": {
    "collapsed": false
   },
   "outputs": [
    {
     "data": {
      "text/plain": [
       "array([[ 1.,  0.,  0.,  0.,  0.],\n",
       "       [ 0.,  1.,  0.,  0.,  0.],\n",
       "       [ 0.,  0.,  1.,  0.,  0.],\n",
       "       [ 0.,  0.,  0.,  1.,  0.],\n",
       "       [ 0.,  0.,  0.,  0.,  1.]])"
      ]
     },
     "execution_count": 27,
     "metadata": {},
     "output_type": "execute_result"
    }
   ],
   "source": [
    "#単位行列の生成\n",
    "np.identity(5)"
   ]
  },
  {
   "cell_type": "code",
   "execution_count": 30,
   "metadata": {
    "collapsed": false
   },
   "outputs": [
    {
     "data": {
      "text/plain": [
       "array([[ 0,  1,  2],\n",
       "       [ 3,  4,  5],\n",
       "       [ 6,  7,  8],\n",
       "       [ 9, 10, 11]])"
      ]
     },
     "execution_count": 30,
     "metadata": {},
     "output_type": "execute_result"
    }
   ],
   "source": [
    "# 列の連結\n",
    "a = np.arange(6).reshape(2, 3)\n",
    "b = np.arange(6, 12).reshape(2,3)\n",
    "np.hstack([a,b])\n",
    "\n",
    "# 行の連結\n",
    "np.vstack([a,b])\n",
    "\n"
   ]
  },
  {
   "cell_type": "code",
   "execution_count": 35,
   "metadata": {
    "collapsed": false
   },
   "outputs": [
    {
     "name": "stdout",
     "output_type": "stream",
     "text": [
      "[[ 0  1  2  3  4  5]\n",
      " [12 13 14 15 16 17]\n",
      " [24 25 26 27 28 29]]\n",
      "[[ 0  2  4]\n",
      " [ 6  8 10]\n",
      " [12 14 16]\n",
      " [18 20 22]\n",
      " [24 26 28]]\n"
     ]
    }
   ],
   "source": [
    "a = np.arange(30).reshape(5,6)\n",
    "# 部分抽出\n",
    "print(a[[0,2,4], :])\n",
    "\n",
    "print(a[:, [0,2,4]])"
   ]
  },
  {
   "cell_type": "code",
   "execution_count": 41,
   "metadata": {
    "collapsed": false
   },
   "outputs": [
    {
     "name": "stdout",
     "output_type": "stream",
     "text": [
      "[[ 0  1  2  3  4  5]\n",
      " [ 6  7  8  9 10 11]\n",
      " [12 13 14 15 16 17]\n",
      " [18 19 20 21 22 23]\n",
      " [24 25 26 27 28 29]]\n",
      "[[-1  1 -1  3 -1  5]\n",
      " [-1  7 -1  9 -1 11]\n",
      " [-1 13 -1 15 -1 17]\n",
      " [-1 19 -1 21 -1 23]\n",
      " [-1 25 -1 27 -1 29]]\n"
     ]
    }
   ],
   "source": [
    "a = np.arange(30).reshape(5,6)\n",
    "print(a)\n",
    "# 特定の値を別の値に置き換える\n",
    "a[a % 2 == 0] = -1\n",
    "print(a)"
   ]
  },
  {
   "cell_type": "code",
   "execution_count": 42,
   "metadata": {
    "collapsed": false
   },
   "outputs": [
    {
     "data": {
      "text/plain": [
       "array([[0, 1, 2],\n",
       "       [3, 4, 5]])"
      ]
     },
     "execution_count": 42,
     "metadata": {},
     "output_type": "execute_result"
    }
   ],
   "source": [
    "# copyでポインタのコピーでなく実体をコピーする\n",
    "a = np.arange(6).reshape(2,3)\n",
    "b1 = a.copy()\n",
    "b2 = a.copy()\n",
    "b1[0, 1] = 6\n",
    "b2[1,1] = 6\n",
    "a"
   ]
  }
 ],
 "metadata": {
  "kernelspec": {
   "display_name": "Python 3",
   "language": "python",
   "name": "python3"
  },
  "language_info": {
   "codemirror_mode": {
    "name": "ipython",
    "version": 3
   },
   "file_extension": ".py",
   "mimetype": "text/x-python",
   "name": "python",
   "nbconvert_exporter": "python",
   "pygments_lexer": "ipython3",
   "version": "3.5.2"
  }
 },
 "nbformat": 4,
 "nbformat_minor": 0
}
