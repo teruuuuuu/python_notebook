{
 "cells": [
  {
   "cell_type": "code",
   "execution_count": 1,
   "metadata": {
    "collapsed": true
   },
   "outputs": [],
   "source": [
    "import numpy as np\n",
    "import chainer\n",
    "from chainer import cuda, Function, gradient_check, Variable\n",
    "from chainer import optimizers, serializers, utils\n",
    "from chainer import Link, Chain, ChainList\n",
    "import chainer.functions as F\n",
    "import chainer.links as L"
   ]
  },
  {
   "cell_type": "code",
   "execution_count": 13,
   "metadata": {
    "collapsed": false
   },
   "outputs": [
    {
     "name": "stderr",
     "output_type": "stream",
     "text": [
      "/Users/arimuraterutoshi/.pyenv/versions/anaconda3-2.4.1/lib/python3.5/site-packages/ipykernel/__main__.py:9: DeprecationWarning: using a non-integer number instead of an integer will result in an error in the future\n"
     ]
    }
   ],
   "source": [
    "# Set data\n",
    "from sklearn import datasets\n",
    "iris = datasets.load_iris()\n",
    "X = iris.data.astype(np.float32)\n",
    "Y = iris.target.astype(np.float32)\n",
    "N = Y.size\n",
    "Y2 = np.zeros(3 * N).reshape(N,3).astype(np.float32)\n",
    "for i in range(N):\n",
    "    Y2[i,Y[i]] = 1.0\n",
    "\n",
    "index = np.arange(N)\n",
    "xtrain = X[index[index % 2 != 0],:]\n",
    "ytrain = Y2[index[index % 2 != 0],:]\n",
    "xtest = X[index[index % 2 == 0],:]\n",
    "yans = Y[index[index % 2 == 0]]"
   ]
  },
  {
   "cell_type": "code",
   "execution_count": 3,
   "metadata": {
    "collapsed": true
   },
   "outputs": [],
   "source": [
    "# Define model\n",
    "\n",
    "class IrisRogi(Chain):\n",
    "    def __init__(self):\n",
    "        super(IrisRogi, self).__init__(\n",
    "            l1=L.Linear(4,3),\n",
    "        )\n",
    "\n",
    "    def __call__(self,x,y):\n",
    "        return F.mean_squared_error(self.fwd(x), y)\n",
    "\n",
    "    def fwd(self,x):\n",
    "        return F.softmax(self.l1(x))\n",
    "\n",
    "# Initialize model\n",
    "\n",
    "model = IrisRogi()\n",
    "optimizer = optimizers.Adam()\n",
    "optimizer.setup(model)"
   ]
  },
  {
   "cell_type": "code",
   "execution_count": 4,
   "metadata": {
    "collapsed": true
   },
   "outputs": [],
   "source": [
    "# Learn\n",
    "\n",
    "n = 75\n",
    "bs = 25\n",
    "for j in range(5000):\n",
    "    sffindx = np.random.permutation(n)\n",
    "    for i in range(0, n, bs):\n",
    "        x = Variable(xtrain[sffindx[i:(i+bs) if (i+bs) < n else n]])\n",
    "        y = Variable(ytrain[sffindx[i:(i+bs) if (i+bs) < n else n]])\n",
    "        model.zerograds()\n",
    "        loss = model(x,y)\n",
    "        loss.backward()\n",
    "        optimizer.update()"
   ]
  },
  {
   "cell_type": "code",
   "execution_count": 5,
   "metadata": {
    "collapsed": false,
    "scrolled": true
   },
   "outputs": [
    {
     "name": "stdout",
     "output_type": "stream",
     "text": [
      "[  9.98849034e-01   1.15091377e-03   2.46871329e-10] 0\n",
      "[  9.97798085e-01   2.20191316e-03   1.18781684e-09] 0\n",
      "[  9.98874605e-01   1.12539087e-03   2.10044121e-10] 0\n",
      "[  9.96478140e-01   3.52192041e-03   2.64405209e-09] 0\n",
      "[  9.91624415e-01   8.37557204e-03   1.64698992e-08] 0\n",
      "[  9.99181807e-01   8.18121422e-04   9.91767987e-11] 0\n",
      "[  9.96833622e-01   3.16641852e-03   1.97840455e-09] 0\n",
      "[  9.99919534e-01   8.04341762e-05   1.49222431e-12] 0\n",
      "[  9.99586880e-01   4.13161091e-04   4.93125402e-11] 0\n",
      "[  9.98675287e-01   1.32473477e-03   2.37112358e-10] 0\n",
      "[  9.96910036e-01   3.09003890e-03   1.26053357e-09] 0\n",
      "[  9.99624729e-01   3.75266478e-04   4.12288849e-11] 0\n",
      "[  9.83439147e-01   1.65608712e-02   2.05972661e-08] 0\n",
      "[  9.94178176e-01   5.82179148e-03   7.41650963e-09] 0\n",
      "[  9.98822987e-01   1.17701269e-03   2.90154262e-10] 0\n",
      "[  9.92162049e-01   7.83795118e-03   9.94444704e-09] 0\n",
      "[  9.99558270e-01   4.41725337e-04   1.54153131e-11] 0\n",
      "[  9.96468663e-01   3.53129394e-03   1.97089833e-09] 0\n",
      "[  9.99571621e-01   4.28345607e-04   4.73175145e-11] 0\n",
      "[  9.95306909e-01   4.69305273e-03   5.68734526e-09] 0\n",
      "[  9.98887122e-01   1.11293129e-03   3.36670664e-10] 0\n",
      "[  9.96623755e-01   3.37623362e-03   2.50484100e-09] 0\n",
      "[  9.90911424e-01   9.08860564e-03   7.98552513e-09] 0\n",
      "[  9.98384953e-01   1.61504990e-03   2.67481121e-10] 0\n",
      "[  9.99056399e-01   9.43649851e-04   1.27214475e-10] 0\n",
      "[  4.36094007e-04   9.54127491e-01   4.54364270e-02] 1\n",
      "[  9.73487768e-05   8.50504637e-01   1.49398014e-01] 1\n",
      "[  1.08129068e-04   7.84805715e-01   2.15086088e-01] 1\n",
      "[  1.01765916e-04   8.31051230e-01   1.68846995e-01] 1\n",
      "[  2.82623630e-04   9.30503666e-01   6.92136511e-02] 1\n",
      "[ 0.00133412  0.93840075  0.06026513] 1\n",
      "[ 0.0009785   0.95615488  0.04286654] 1\n",
      "[ 0.0046259   0.97607273  0.01930146] 1\n",
      "[  5.98912666e-05   7.44129479e-01   2.55810618e-01] 1\n",
      "[  2.20309339e-05   4.35930610e-01   5.64047337e-01] 2\n",
      "[  1.03294942e-05   4.33439702e-01   5.66550016e-01] 2\n",
      "[  7.35789854e-06   4.08485383e-01   5.91507256e-01] 2\n",
      "[  7.63969787e-04   9.56252337e-01   4.29836921e-02] 1\n",
      "[  9.73351271e-05   8.33598733e-01   1.66304007e-01] 1\n",
      "[  9.38420417e-05   7.76764333e-01   2.23141864e-01] 1\n",
      "[ 0.00120526  0.95429695  0.04449778] 1\n",
      "[ 0.00159205  0.96632785  0.03208015] 1\n",
      "[  4.24368409e-05   7.01653838e-01   2.98303723e-01] 1\n",
      "[  1.74709057e-04   8.81081700e-01   1.18743666e-01] 1\n",
      "[  6.58802455e-04   9.50812697e-01   4.85284552e-02] 1\n",
      "[  9.45242573e-05   8.38501513e-01   1.61403969e-01] 1\n",
      "[  8.71965545e-04   9.48057711e-01   5.10703735e-02] 1\n",
      "[  2.44729395e-04   8.80625248e-01   1.19130060e-01] 1\n",
      "[  4.15110408e-04   9.30303574e-01   6.92813396e-02] 1\n",
      "[ 0.02302891  0.96896207  0.00800912] 1\n",
      "[  1.85816057e-10   3.03044845e-03   9.96969521e-01] 2\n",
      "[  1.31734099e-08   2.82383040e-02   9.71761644e-01] 2\n",
      "[  2.82675061e-09   1.19694974e-02   9.88030493e-01] 2\n",
      "[  1.08180086e-06   1.35275885e-01   8.64723027e-01] 2\n",
      "[  1.03464908e-08   2.86780819e-02   9.71321940e-01] 2\n",
      "[  2.12277132e-06   2.14308619e-01   7.85689294e-01] 2\n",
      "[  8.40513366e-08   5.20412326e-02   9.47958708e-01] 2\n",
      "[  5.14687981e-09   7.18017481e-03   9.92819846e-01] 2\n",
      "[  3.09755876e-07   1.42813951e-01   8.57185721e-01] 2\n",
      "[  3.92597543e-12   7.29728257e-04   9.99270260e-01] 2\n",
      "[  1.61868812e-08   2.33090818e-02   9.76690948e-01] 2\n",
      "[  2.83340768e-10   7.96138495e-03   9.92038608e-01] 2\n",
      "[  5.99287446e-08   6.00938648e-02   9.39906061e-01] 2\n",
      "[  5.34076662e-06   2.82815576e-01   7.17179060e-01] 2\n",
      "[  7.34239691e-09   1.70136858e-02   9.82986331e-01] 2\n",
      "[  1.36864751e-08   3.78584005e-02   9.62141514e-01] 2\n",
      "[  3.60635277e-09   1.06355939e-02   9.89364386e-01] 2\n",
      "[  1.94138948e-07   1.77702039e-01   8.22297752e-01] 2\n",
      "[  7.82501974e-09   1.59918945e-02   9.84008074e-01] 2\n",
      "[  6.76436002e-06   3.42472583e-01   6.57520652e-01] 2\n",
      "[  6.20888629e-09   1.17660882e-02   9.88233924e-01] 2\n",
      "[  1.17057589e-07   5.76939806e-02   9.42305923e-01] 2\n",
      "[  3.58204022e-09   9.42436606e-03   9.90575671e-01] 2\n",
      "[  3.38567304e-07   7.48796389e-02   9.25119996e-01] 2\n",
      "[  4.54773357e-08   3.65413949e-02   9.63458538e-01] 2\n",
      "72 / 75  =  0.96\n"
     ]
    }
   ],
   "source": [
    "# Test\n",
    "\n",
    "xt = Variable(xtest, volatile='on')\n",
    "yy = model.fwd(xt)\n",
    "\n",
    "ans = yy.data\n",
    "nrow, ncol = ans.shape\n",
    "ok = 0\n",
    "for i in range(nrow):\n",
    "    cls = np.argmax(ans[i,:])\n",
    "    print( ans[i,:], cls)\n",
    "    if cls == yans[i]:\n",
    "        ok += 1\n",
    "\n",
    "print (ok, \"/\", nrow, \" = \", (ok * 1.0)/nrow)"
   ]
  },
  {
   "cell_type": "code",
   "execution_count": 15,
   "metadata": {
    "collapsed": true
   },
   "outputs": [],
   "source": [
    "import matplotlib.pyplot as plt\n",
    "x = Variable(xtrain)\n",
    "yt = F.sigmoid(model.l1(x))\n",
    "ans = yt.data\n",
    "ansx1 = ans[0:50, 0]\n",
    "ansy1 = ans[0:50, 1]\n",
    "ansx2 = ans[50:100, 0]\n",
    "ansy2 = ans[50:100, 1]\n",
    "ansx3 = ans[100:150, 0]\n",
    "ansy3 = ans[100:150, 1]\n",
    "plt.scatter(ansx1, ansy1, marker=\"^\")\n",
    "plt.scatter(ansx2, ansy2, marker=\"o\")\n",
    "plt.scatter(ansx3, ansy3, marker=\"+\")\n",
    "plt.show()\n",
    "\n"
   ]
  },
  {
   "cell_type": "code",
   "execution_count": null,
   "metadata": {
    "collapsed": true
   },
   "outputs": [],
   "source": []
  }
 ],
 "metadata": {
  "kernelspec": {
   "display_name": "Python 3",
   "language": "python",
   "name": "python3"
  },
  "language_info": {
   "codemirror_mode": {
    "name": "ipython",
    "version": 3
   },
   "file_extension": ".py",
   "mimetype": "text/x-python",
   "name": "python",
   "nbconvert_exporter": "python",
   "pygments_lexer": "ipython3",
   "version": "3.5.2"
  }
 },
 "nbformat": 4,
 "nbformat_minor": 0
}
