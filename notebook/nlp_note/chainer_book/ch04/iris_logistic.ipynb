{
 "cells": [
  {
   "cell_type": "code",
   "execution_count": 2,
   "metadata": {
    "collapsed": true
   },
   "outputs": [],
   "source": [
    "import numpy as np\n",
    "import chainer\n",
    "from chainer import cuda, Function, gradient_check, Variable\n",
    "from chainer import optimizers, serializers, utils\n",
    "from chainer import Link, Chain, ChainList\n",
    "import chainer.functions as F\n",
    "import chainer.links as L"
   ]
  },
  {
   "cell_type": "code",
   "execution_count": 3,
   "metadata": {
    "collapsed": false
   },
   "outputs": [],
   "source": [
    "# Set data\n",
    "from sklearn import datasets\n",
    "iris = datasets.load_iris()\n",
    "X = iris.data.astype(np.float32)\n",
    "Y = iris.target.astype(np.float32)\n",
    "N = Y.size\n",
    "Y2 = np.zeros(3 * N).reshape(N,3).astype(np.float32)\n",
    "for i in range(N):\n",
    "    Y2[i,np.int(Y[i])] = 1.0\n",
    "\n",
    "index = np.arange(N)\n",
    "xtrain = X[index[index % 2 != 0],:]\n",
    "ytrain = Y2[index[index % 2 != 0],:]\n",
    "xtest = X[index[index % 2 == 0],:]\n",
    "yans = Y[index[index % 2 == 0]]"
   ]
  },
  {
   "cell_type": "code",
   "execution_count": 3,
   "metadata": {
    "collapsed": true
   },
   "outputs": [],
   "source": [
    "# Define model\n",
    "\n",
    "class IrisRogi(Chain):\n",
    "    def __init__(self):\n",
    "        super(IrisRogi, self).__init__(\n",
    "            l1=L.Linear(4,3),\n",
    "        )\n",
    "\n",
    "    def __call__(self,x,y):\n",
    "        return F.mean_squared_error(self.fwd(x), y)\n",
    "\n",
    "    def fwd(self,x):\n",
    "        return F.softmax(self.l1(x))\n",
    "\n",
    "# Initialize model\n",
    "\n",
    "model = IrisRogi()\n",
    "optimizer = optimizers.Adam()\n",
    "optimizer.setup(model)"
   ]
  },
  {
   "cell_type": "code",
   "execution_count": 4,
   "metadata": {
    "collapsed": true
   },
   "outputs": [],
   "source": [
    "# Learn\n",
    "\n",
    "n = 75\n",
    "bs = 25\n",
    "for j in range(5000):\n",
    "    sffindx = np.random.permutation(n)\n",
    "    for i in range(0, n, bs):\n",
    "        x = Variable(xtrain[sffindx[i:(i+bs) if (i+bs) < n else n]])\n",
    "        y = Variable(ytrain[sffindx[i:(i+bs) if (i+bs) < n else n]])\n",
    "        model.zerograds()\n",
    "        loss = model(x,y)\n",
    "        loss.backward()\n",
    "        optimizer.update()"
   ]
  },
  {
   "cell_type": "code",
   "execution_count": 5,
   "metadata": {
    "collapsed": false,
    "scrolled": true
   },
   "outputs": [
    {
     "name": "stdout",
     "output_type": "stream",
     "text": [
      "[  9.98923481e-01   1.07652182e-03   1.62120678e-10] 0\n",
      "[  9.97842550e-01   2.15742411e-03   8.67760530e-10] 0\n",
      "[  9.99105513e-01   8.94484809e-04   1.28208263e-10] 0\n",
      "[  9.97292221e-01   2.70777266e-03   1.74718240e-09] 0\n",
      "[  9.92561877e-01   7.43814977e-03   1.20575541e-08] 0\n",
      "[  9.99266207e-01   7.33762630e-04   5.98604569e-11] 0\n",
      "[  9.96840239e-01   3.15974583e-03   1.40284140e-09] 0\n",
      "[  9.99891996e-01   1.07970664e-04   1.05179808e-12] 0\n",
      "[  9.99505162e-01   4.94780776e-04   3.65727275e-11] 0\n",
      "[  9.98757005e-01   1.24296767e-03   1.40746970e-10] 0\n",
      "[  9.97154593e-01   2.84544285e-03   7.70414343e-10] 0\n",
      "[  9.99659538e-01   3.40523809e-04   2.95169444e-11] 0\n",
      "[  9.92364526e-01   7.63550820e-03   9.55877688e-09] 0\n",
      "[  9.94491339e-01   5.50867338e-03   5.18369569e-09] 0\n",
      "[  9.98704433e-01   1.29556062e-03   2.04996423e-10] 0\n",
      "[  9.93540585e-01   6.45942148e-03   6.43222497e-09] 0\n",
      "[  9.99784529e-01   2.15459513e-04   6.70674670e-12] 0\n",
      "[  9.96863604e-01   3.13639618e-03   1.28069810e-09] 0\n",
      "[  9.99384522e-01   6.15481869e-04   3.67335745e-11] 0\n",
      "[  9.95712996e-01   4.28705197e-03   4.23575575e-09] 0\n",
      "[  9.98791873e-01   1.20811688e-03   2.50565818e-10] 0\n",
      "[  9.97390330e-01   2.60971813e-03   1.69619285e-09] 0\n",
      "[  9.95227337e-01   4.77266451e-03   3.90240817e-09] 0\n",
      "[  9.99060929e-01   9.39091726e-04   1.33610942e-10] 0\n",
      "[  9.99218106e-01   7.81904266e-04   7.48533041e-11] 0\n",
      "[  8.27954267e-04   9.65052485e-01   3.41195241e-02] 1\n",
      "[  2.08934056e-04   8.75889659e-01   1.23901434e-01] 1\n",
      "[  1.80375588e-04   8.24006379e-01   1.75813317e-01] 1\n",
      "[  2.84254755e-04   8.23286355e-01   1.76429391e-01] 1\n",
      "[  5.75951301e-04   9.42440152e-01   5.69838472e-02] 1\n",
      "[ 0.00185582  0.94312918  0.05501486] 1\n",
      "[ 0.00128645  0.96743125  0.03128233] 1\n",
      "[ 0.00668311  0.9765237   0.01679322] 1\n",
      "[  1.90786333e-04   6.91886425e-01   3.07922781e-01] 1\n",
      "[  2.88368446e-05   5.23492694e-01   4.76478487e-01] 1\n",
      "[  2.86789782e-05   3.80787045e-01   6.19184256e-01] 2\n",
      "[  1.59105311e-05   4.35233891e-01   5.64750195e-01] 2\n",
      "[ 0.00129675  0.96461797  0.03408528] 1\n",
      "[  1.78823582e-04   8.69627774e-01   1.30193368e-01] 1\n",
      "[  2.14963380e-04   7.75402606e-01   2.24382371e-01] 1\n",
      "[ 0.00196504  0.95804197  0.03999301] 1\n",
      "[ 0.00261992  0.96960717  0.0277729 ] 1\n",
      "[  1.50527863e-04   6.19928181e-01   3.79921228e-01] 1\n",
      "[  3.48270609e-04   9.00582016e-01   9.90696922e-02] 1\n",
      "[ 0.00180062  0.94330293  0.05489642] 1\n",
      "[  3.05579189e-04   8.07436526e-01   1.92257911e-01] 1\n",
      "[ 0.00148054  0.95370054  0.04481882] 1\n",
      "[  5.81672066e-04   8.72743249e-01   1.26675129e-01] 1\n",
      "[ 0.0010796   0.92375803  0.07516236] 1\n",
      "[ 0.02275694  0.97090292  0.00634019] 1\n",
      "[  5.39921163e-10   2.05427920e-03   9.97945726e-01] 2\n",
      "[  3.55272469e-08   3.03121638e-02   9.69687760e-01] 2\n",
      "[  7.67232589e-09   1.00975521e-02   9.89902377e-01] 2\n",
      "[  2.37743507e-06   9.54519138e-02   9.04545724e-01] 2\n",
      "[  2.95219635e-08   2.84905154e-02   9.71509457e-01] 2\n",
      "[  4.72187321e-06   2.18396261e-01   7.81598985e-01] 2\n",
      "[  1.87728602e-07   5.71875609e-02   9.42812264e-01] 2\n",
      "[  8.08349920e-09   6.59007160e-03   9.93409932e-01] 2\n",
      "[  9.90335707e-07   1.25091717e-01   8.74907315e-01] 2\n",
      "[  1.21982546e-11   8.31189973e-04   9.99168873e-01] 2\n",
      "[  3.74187188e-08   2.44418439e-02   9.75558162e-01] 2\n",
      "[  1.09740306e-09   8.45717546e-03   9.91542816e-01] 2\n",
      "[  1.83204534e-07   5.18741123e-02   9.48125780e-01] 2\n",
      "[  1.01226224e-05   3.00711036e-01   6.99278831e-01] 2\n",
      "[  1.77472366e-08   1.55670131e-02   9.84432936e-01] 2\n",
      "[  4.18485087e-08   4.37650122e-02   9.56234932e-01] 2\n",
      "[  7.99663447e-09   1.00240037e-02   9.89975989e-01] 2\n",
      "[  8.87128806e-07   1.27290651e-01   8.72708440e-01] 2\n",
      "[  2.00476364e-08   1.22756679e-02   9.87724304e-01] 2\n",
      "[  1.57010363e-05   3.21903497e-01   6.78080797e-01] 2\n",
      "[  1.23903634e-08   1.24176033e-02   9.87582445e-01] 2\n",
      "[  2.71335296e-07   4.76043485e-02   9.52395380e-01] 2\n",
      "[  7.71696840e-09   9.11378860e-03   9.90886211e-01] 2\n",
      "[  5.73085856e-07   8.87217298e-02   9.11277652e-01] 2\n",
      "[  1.14731968e-07   2.84548607e-02   9.71544981e-01] 2\n",
      "73 / 75  =  0.9733333333333334\n"
     ]
    }
   ],
   "source": [
    "# Test\n",
    "\n",
    "xt = Variable(xtest, volatile='on')\n",
    "yy = model.fwd(xt)\n",
    "\n",
    "ans = yy.data\n",
    "nrow, ncol = ans.shape\n",
    "ok = 0\n",
    "for i in range(nrow):\n",
    "    cls = np.argmax(ans[i,:])\n",
    "    print( ans[i,:], cls)\n",
    "    if cls == yans[i]:\n",
    "        ok += 1\n",
    "\n",
    "print (ok, \"/\", nrow, \" = \", (ok * 1.0)/nrow)"
   ]
  },
  {
   "cell_type": "code",
   "execution_count": 6,
   "metadata": {
    "collapsed": true
   },
   "outputs": [],
   "source": [
    "import matplotlib.pyplot as plt\n",
    "x = Variable(xtrain)\n",
    "yt = F.sigmoid(model.l1(x))\n",
    "ans = yt.data\n",
    "ansx1 = ans[0:50, 0]\n",
    "ansy1 = ans[0:50, 1]\n",
    "ansx2 = ans[50:100, 0]\n",
    "ansy2 = ans[50:100, 1]\n",
    "ansx3 = ans[100:150, 0]\n",
    "ansy3 = ans[100:150, 1]\n",
    "plt.scatter(ansx1, ansy1, marker=\"^\")\n",
    "plt.scatter(ansx2, ansy2, marker=\"o\")\n",
    "plt.scatter(ansx3, ansy3, marker=\"+\")\n",
    "plt.show()\n",
    "\n"
   ]
  },
  {
   "cell_type": "code",
   "execution_count": null,
   "metadata": {
    "collapsed": true
   },
   "outputs": [],
   "source": []
  }
 ],
 "metadata": {
  "kernelspec": {
   "display_name": "Python 3",
   "language": "python",
   "name": "python3"
  },
  "language_info": {
   "codemirror_mode": {
    "name": "ipython",
    "version": 3
   },
   "file_extension": ".py",
   "mimetype": "text/x-python",
   "name": "python",
   "nbconvert_exporter": "python",
   "pygments_lexer": "ipython3",
   "version": "3.5.2"
  }
 },
 "nbformat": 4,
 "nbformat_minor": 0
}
