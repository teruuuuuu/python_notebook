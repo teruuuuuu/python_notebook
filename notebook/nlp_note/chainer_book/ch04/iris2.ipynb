{
 "cells": [
  {
   "cell_type": "code",
   "execution_count": 1,
   "metadata": {
    "collapsed": true
   },
   "outputs": [],
   "source": [
    "import numpy as np\n",
    "import chainer\n",
    "from chainer import cuda, Function, gradient_check, Variable\n",
    "from chainer import optimizers, serializers, utils\n",
    "from chainer import Link, Chain, ChainList\n",
    "import chainer.functions as F\n",
    "import chainer.links as L"
   ]
  },
  {
   "cell_type": "code",
   "execution_count": 2,
   "metadata": {
    "collapsed": true
   },
   "outputs": [],
   "source": [
    "# Set data\n",
    "\n",
    "from sklearn import datasets\n",
    "iris = datasets.load_iris()\n",
    "X = iris.data.astype(np.float32)\n",
    "Y = iris.target\n",
    "N = Y.size\n",
    "Y2 = np.zeros(3 * N).reshape(N,3).astype(np.float32)\n",
    "for i in range(N):\n",
    "    Y2[i,Y[i]] = 1.0\n",
    "\n",
    "index = np.arange(N)\n",
    "xtrain = X[index[index % 2 != 0],:]\n",
    "ytrain = Y2[index[index % 2 != 0],:]\n",
    "xtest = X[index[index % 2 == 0],:]\n",
    "yans = Y[index[index % 2 == 0]]"
   ]
  },
  {
   "cell_type": "code",
   "execution_count": 3,
   "metadata": {
    "collapsed": true
   },
   "outputs": [],
   "source": [
    "# Define model\n",
    "\n",
    "class IrisChain(Chain):\n",
    "    def __init__(self):\n",
    "        super(IrisChain, self).__init__(\n",
    "            l1=L.Linear(4,6),\n",
    "            l2=L.Linear(6,3),\n",
    "        )\n",
    "\n",
    "    def __call__(self,x,y):\n",
    "        return F.mean_squared_error(self.fwd(x), y)\n",
    "\n",
    "    def fwd(self,x):\n",
    "         h1 = F.sigmoid(self.l1(x))\n",
    "         h2 = self.l2(h1)\n",
    "         return h2"
   ]
  },
  {
   "cell_type": "code",
   "execution_count": 17,
   "metadata": {
    "collapsed": true
   },
   "outputs": [],
   "source": [
    "# Initialize model\n",
    "\n",
    "model = IrisChain()\n",
    "optimizer = optimizers.SGD()\n",
    "optimizer.setup(model)"
   ]
  },
  {
   "cell_type": "code",
   "execution_count": 18,
   "metadata": {
    "collapsed": true
   },
   "outputs": [],
   "source": [
    "# Learn\n",
    "\n",
    "n = 75\n",
    "bs = 25\n",
    "for j in range(10000):\n",
    "    accum_loss = None\n",
    "    sffindx = np.random.permutation(n)\n",
    "    for i in range(0, n, bs):\n",
    "        x = Variable(xtrain[sffindx[i:(i+bs) if (i+bs) < n else n]])\n",
    "        y = Variable(ytrain[sffindx[i:(i+bs) if (i+bs) < n else n]])\n",
    "        model.zerograds()\n",
    "        loss = model(x,y)\n",
    "        # 誤差の累積を求める\n",
    "        accum_loss = loss if accum_loss is None else accum_loss + loss\n",
    "        # loss.backward()\n",
    "        # optimizer.update()\n",
    "    accum_loss.backward()\n",
    "    optimizer.update()"
   ]
  },
  {
   "cell_type": "code",
   "execution_count": 19,
   "metadata": {
    "collapsed": false,
    "scrolled": true
   },
   "outputs": [
    {
     "name": "stdout",
     "output_type": "stream",
     "text": [
      "[ 1.01850522 -0.0324105   0.01266748] 0\n",
      "[ 1.00474334 -0.00530291  0.00327746] 0\n",
      "[ 1.01814461 -0.05223134  0.02181039] 0\n",
      "[ 0.99902964 -0.03876644  0.01833571] 0\n",
      "[ 0.96661794  0.08061761 -0.02583113] 0\n",
      "[ 1.02540338 -0.04254195  0.0156991 ] 0\n",
      "[ 0.99140793  0.07339874 -0.02618926] 0\n",
      "[ 1.04493749 -0.11618403  0.04253659] 0\n",
      "[ 1.03542852 -0.13077796  0.04818926] 0\n",
      "[ 1.02229226 -0.03435537  0.01111672] 0\n",
      "[ 0.99789572  0.04977974 -0.01820823] 0\n",
      "[ 1.0207448  -0.13318032  0.056332  ] 0\n",
      "[ 0.95068437  0.10062715 -0.02823707] 0\n",
      "[  9.89619434e-01   1.81600451e-03   7.70874321e-04] 0\n",
      "[ 1.01827788 -0.01273677  0.00377042] 0\n",
      "[ 0.96918112  0.09006122 -0.02947678] 0\n",
      "[ 1.02583551 -0.09643844  0.04197056] 0\n",
      "[ 0.98948455  0.0764828  -0.02652695] 0\n",
      "[ 1.03340364 -0.04015371  0.01186047] 0\n",
      "[ 0.9858067   0.03036821 -0.00840046] 0\n",
      "[ 1.02064967 -0.06639391  0.02483866] 0\n",
      "[ 0.994995   -0.01271886  0.00919513] 0\n",
      "[ 0.98472613 -0.01122972  0.00905133] 0\n",
      "[ 1.01475751 -0.04911444  0.02187613] 0\n",
      "[ 1.02295756 -0.04469693  0.01735238] 0\n",
      "[-0.02824258  1.11539102 -0.12746683] 1\n",
      "[-0.03845441  0.93537354  0.07491336] 1\n",
      "[-0.02754983  0.85229218  0.1594308 ] 1\n",
      "[-0.0179547   0.80327809  0.16853511] 1\n",
      "[-0.03057953  1.04418671 -0.02410864] 1\n",
      "[ 0.02672846  0.94503665  0.07542736] 1\n",
      "[-0.01414957  1.12785697 -0.07043081] 1\n",
      "[ 0.09010879  1.00730217 -0.14046952] 1\n",
      "[-0.00447258  0.58882707  0.4035005 ] 1\n",
      "[-0.01510333  0.56037807  0.4886398 ] 1\n",
      "[-0.00536945  0.37843081  0.5967871 ] 2\n",
      "[-0.01772024  0.45251489  0.60276616] 2\n",
      "[-0.00876313  1.08579338 -0.10022914] 1\n",
      "[-0.03930109  0.92975938  0.10664166] 1\n",
      "[-0.01410716  0.73298883  0.26480818] 1\n",
      "[ 0.0152602   1.01718676 -0.01554319] 1\n",
      "[ 0.02291865  1.05763113 -0.09271013] 1\n",
      "[  5.81815839e-05   4.96918529e-01   4.96858925e-01] 1\n",
      "[-0.02947562  0.96068525  0.03289864] 1\n",
      "[ 0.01815034  0.93231404  0.02347378] 1\n",
      "[-0.01102244  0.69400215  0.35296682] 1\n",
      "[ 0.00483451  1.01882815 -0.02378755] 1\n",
      "[-0.003044    0.8163197   0.18897718] 1\n",
      "[ 0.00279731  0.90787995  0.07413817] 1\n",
      "[ 0.18947664  0.97229826 -0.1810312 ] 1\n",
      "[ 0.01279537 -0.2665585   1.22924185] 2\n",
      "[-0.00277647 -0.02227816  1.03032672] 2\n",
      "[ 0.00724656 -0.14949271  1.14391935] 2\n",
      "[ 0.01981965  0.0255864   0.98340929] 2\n",
      "[  9.92789865e-05  -1.46571696e-02   1.07515371e+00] 2\n",
      "[-0.01121419  0.30139372  0.6737572 ] 2\n",
      "[-0.00371107  0.0576615   0.93580544] 2\n",
      "[ 0.02164332 -0.20161495  1.15798759] 2\n",
      "[-0.00817322  0.13651845  0.88734853] 2\n",
      "[ 0.00537772 -0.19264391  1.22740686] 2\n",
      "[  8.40611756e-04  -5.40657938e-02   1.02844751e+00] 2\n",
      "[-0.0016463  -0.09411523  1.14776504] 2\n",
      "[-0.00339212  0.01359919  0.97460687] 2\n",
      "[-0.00871479  0.35943624  0.63956201] 2\n",
      "[ 0.00712691 -0.10670963  1.11215913] 2\n",
      "[-0.00778639  0.03987566  1.0055331 ] 2\n",
      "[ 0.00972173 -0.14300397  1.13821495] 2\n",
      "[-0.00650515  0.11879209  0.97822535] 2\n",
      "[ 0.00924582 -0.16126564  1.11645019] 2\n",
      "[-0.00610568  0.34694111  0.64061487] 2\n",
      "[ 0.00738097 -0.12794074  1.09379625] 2\n",
      "[ 0.00858483 -0.01764861  1.02768135] 2\n",
      "[ 0.00821532 -0.16412476  1.11827362] 2\n",
      "[ 0.00128845  0.11780968  0.89728355] 2\n",
      "[ 0.00683133 -0.07845876  1.03415549] 2\n",
      "73 / 75  =  0.9733333333333334\n",
      "loss =  0.0616643913090229\n"
     ]
    }
   ],
   "source": [
    "# Test\n",
    "\n",
    "xt = Variable(xtest, volatile='on')\n",
    "yy = model.fwd(xt)\n",
    "\n",
    "ans = yy.data\n",
    "nrow, ncol = ans.shape\n",
    "ok = 0\n",
    "for i in range(nrow):\n",
    "    cls = np.argmax(ans[i,:])\n",
    "    print (ans[i,:], cls)\n",
    "    if cls == yans[i]:\n",
    "        ok += 1\n",
    "\n",
    "print (ok, \"/\", nrow, \" = \", (ok * 1.0)/nrow)\n",
    "print(\"loss = \" , accum_loss.data)"
   ]
  },
  {
   "cell_type": "code",
   "execution_count": 20,
   "metadata": {
    "collapsed": false
   },
   "outputs": [
    {
     "name": "stdout",
     "output_type": "stream",
     "text": [
      "[[-0.01772024  0.45251468  0.60276628]]\n",
      "1\n"
     ]
    }
   ],
   "source": [
    "test_index = 36\n",
    "xa = Variable(np.array([xtest[test_index]]).astype(np.float32()), volatile='on')\n",
    "ya = model.fwd(xa)\n",
    "\n",
    "print(ya.data)\n",
    "print(yans[test_index])"
   ]
  },
  {
   "cell_type": "code",
   "execution_count": null,
   "metadata": {
    "collapsed": true
   },
   "outputs": [],
   "source": []
  }
 ],
 "metadata": {
  "kernelspec": {
   "display_name": "Python 3",
   "language": "python",
   "name": "python3"
  },
  "language_info": {
   "codemirror_mode": {
    "name": "ipython",
    "version": 3
   },
   "file_extension": ".py",
   "mimetype": "text/x-python",
   "name": "python",
   "nbconvert_exporter": "python",
   "pygments_lexer": "ipython3",
   "version": "3.5.2"
  }
 },
 "nbformat": 4,
 "nbformat_minor": 0
}
