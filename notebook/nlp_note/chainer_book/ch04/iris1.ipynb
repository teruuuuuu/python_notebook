{
 "cells": [
  {
   "cell_type": "code",
   "execution_count": 1,
   "metadata": {
    "collapsed": true
   },
   "outputs": [],
   "source": [
    "import numpy as np\n",
    "import chainer\n",
    "from chainer import cuda, Function, gradient_check, Variable\n",
    "from chainer import optimizers, serializers, utils\n",
    "from chainer import Link, Chain, ChainList\n",
    "import chainer.functions as F\n",
    "import chainer.links as L"
   ]
  },
  {
   "cell_type": "code",
   "execution_count": 2,
   "metadata": {
    "collapsed": true
   },
   "outputs": [],
   "source": [
    "# Set data\n",
    "\n",
    "from sklearn import datasets\n",
    "iris = datasets.load_iris()\n",
    "X = iris.data.astype(np.float32)\n",
    "Y = iris.target\n",
    "N = Y.size\n",
    "Y2 = np.zeros(3 * N).reshape(N,3).astype(np.float32)\n",
    "for i in range(N):\n",
    "    Y2[i,Y[i]] = 1.0"
   ]
  },
  {
   "cell_type": "code",
   "execution_count": 3,
   "metadata": {
    "collapsed": true
   },
   "outputs": [],
   "source": [
    "index = np.arange(N)\n",
    "xtrain = X[index[index % 2 != 0],:]\n",
    "ytrain = Y2[index[index % 2 != 0],:]\n",
    "xtest = X[index[index % 2 == 0],:]\n",
    "yans = Y[index[index % 2 == 0]]"
   ]
  },
  {
   "cell_type": "code",
   "execution_count": 4,
   "metadata": {
    "collapsed": true
   },
   "outputs": [],
   "source": [
    "# Define model\n",
    "\n",
    "class IrisChain(Chain):\n",
    "    def __init__(self):\n",
    "        super(IrisChain, self).__init__(\n",
    "            l1=L.Linear(4,6),\n",
    "            l2=L.Linear(6,3),\n",
    "        )\n",
    "\n",
    "    def __call__(self,x,y):\n",
    "        return F.mean_squared_error(self.fwd(x), y)\n",
    "\n",
    "    def fwd(self,x):\n",
    "         h1 = F.sigmoid(self.l1(x))\n",
    "         h2 = self.l2(h1)\n",
    "         return h2"
   ]
  },
  {
   "cell_type": "code",
   "execution_count": 5,
   "metadata": {
    "collapsed": true
   },
   "outputs": [],
   "source": [
    "# Initialize model\n",
    "\n",
    "model = IrisChain()\n",
    "optimizer = optimizers.SGD()\n",
    "optimizer.setup(model)"
   ]
  },
  {
   "cell_type": "code",
   "execution_count": 6,
   "metadata": {
    "collapsed": true
   },
   "outputs": [],
   "source": [
    "# Learn\n",
    "\n",
    "n = 75\n",
    "bs = 25\n",
    "for j in range(5000):\n",
    "    sffindx = np.random.permutation(n)\n",
    "    for i in range(0, n, bs):\n",
    "        x = Variable(xtrain[sffindx[i:(i+bs) if (i+bs) < n else n]])\n",
    "        y = Variable(ytrain[sffindx[i:(i+bs) if (i+bs) < n else n]])\n",
    "        model.zerograds()\n",
    "        loss = model(x,y)\n",
    "        loss.backward()\n",
    "        optimizer.update()"
   ]
  },
  {
   "cell_type": "code",
   "execution_count": 7,
   "metadata": {
    "collapsed": false,
    "scrolled": true
   },
   "outputs": [
    {
     "name": "stdout",
     "output_type": "stream",
     "text": [
      "[ 1.00325894  0.00880763 -0.01487979] 0\n",
      "[ 0.97348583  0.03704482 -0.02449787] 0\n",
      "[  1.00909436e+00   8.91506672e-04  -1.08515918e-02] 0\n",
      "[ 0.97545493  0.03668633 -0.01846156] 0\n",
      "[ 0.90680301  0.12108111 -0.04760715] 0\n",
      "[ 1.01798427 -0.00362083 -0.01009277] 0\n",
      "[ 0.94223142  0.08486298 -0.04312506] 0\n",
      "[ 1.06100094 -0.06446362  0.00930771] 0\n",
      "[ 1.04445577 -0.04488614  0.00526303] 0\n",
      "[ 1.01138246  0.0141772  -0.01521128] 0\n",
      "[ 0.96258724  0.08004391 -0.03991735] 0\n",
      "[ 1.02901614 -0.04012898 -0.00183922] 0\n",
      "[ 0.88624811  0.19014177 -0.06692562] 0\n",
      "[ 0.9581089   0.07285154 -0.03103879] 0\n",
      "[ 0.99713111  0.01704663 -0.01910383] 0\n",
      "[ 0.91478133  0.1316247  -0.05322701] 0\n",
      "[ 1.04352105 -0.03576836  0.00338075] 0\n",
      "[ 0.94196844  0.09265327 -0.04468936] 0\n",
      "[ 1.02139688 -0.01610789 -0.00951508] 0\n",
      "[ 0.93865538  0.07525176 -0.03454053] 0\n",
      "[ 1.00886345 -0.00431272 -0.00976348] 0\n",
      "[ 0.96206248  0.04670873 -0.02427256] 0\n",
      "[ 0.95422626  0.0961183  -0.03493798] 0\n",
      "[ 1.00718153  0.01308137 -0.01223609] 0\n",
      "[  1.01543653e+00  -8.17358494e-04  -1.04758441e-02] 0\n",
      "[ 0.17190848  0.89026821 -0.01944035] 1\n",
      "[ 0.10928315  0.74725068  0.17413934] 1\n",
      "[ 0.08289602  0.70669723  0.22523579] 1\n",
      "[ 0.0969944   0.67297411  0.2586183 ] 1\n",
      "[ 0.12358835  0.80180049  0.10521811] 1\n",
      "[ 0.06439915  0.72270834  0.19996656] 1\n",
      "[ 0.10311668  0.83428645  0.07034254] 1\n",
      "[ 0.21687159  0.86546052 -0.05710483] 1\n",
      "[ 0.02880785  0.51800668  0.46493086] 1\n",
      "[-0.01256278  0.54447937  0.44711629] 1\n",
      "[ 0.0029918   0.42852321  0.57392752] 2\n",
      "[-0.0308066   0.44074258  0.58147073] 2\n",
      "[ 0.15586054  0.86078787  0.01416057] 1\n",
      "[ 0.08852838  0.73122406  0.20179026] 1\n",
      "[ 0.06018725  0.62121749  0.33202723] 1\n",
      "[ 0.10877313  0.78136361  0.11862826] 1\n",
      "[ 0.15343794  0.84012055  0.02828664] 1\n",
      "[ 0.00654486  0.45578054  0.54602087] 2\n",
      "[ 0.12338305  0.77532625  0.13175462] 1\n",
      "[ 0.12537232  0.74107087  0.16066068] 1\n",
      "[ 0.01289231  0.53490317  0.45971888] 1\n",
      "[ 0.12046389  0.79393721  0.10205412] 1\n",
      "[ 0.06530967  0.64957631  0.2968426 ] 1\n",
      "[ 0.10315728  0.71390831  0.20583217] 1\n",
      "[ 0.27020171  0.85156119 -0.11315149] 1\n",
      "[-0.17270955 -0.08367071  1.22722149] 2\n",
      "[-0.10276607  0.15687445  0.92857957] 2\n",
      "[-0.14646235  0.02915239  1.0901562 ] 2\n",
      "[-0.12481269  0.16338894  0.92687833] 2\n",
      "[-0.15193221  0.07876441  1.04260755] 2\n",
      "[-0.004006    0.4164764   0.58739167] 2\n",
      "[-0.07192093  0.24976882  0.80617118] 2\n",
      "[-0.14966533  0.05579546  1.04938626] 2\n",
      "[-0.07525215  0.23826835  0.83092737] 2\n",
      "[-0.21264377 -0.13053572  1.30112576] 2\n",
      "[-0.08746511  0.17893121  0.89078039] 2\n",
      "[-0.16410425 -0.01245385  1.1525526 ] 2\n",
      "[-0.07935467  0.19008043  0.88190657] 2\n",
      "[-0.01446283  0.43867972  0.5668177 ] 2\n",
      "[-0.14272615  0.06845796  1.04350054] 2\n",
      "[-0.10871598  0.16190025  0.93095303] 2\n",
      "[-0.14974493  0.04919106  1.06593883] 2\n",
      "[-0.13461676  0.11116534  1.00933254] 2\n",
      "[-0.11401084  0.07830909  1.01588249] 2\n",
      "[-0.01089472  0.41780397  0.59075379] 2\n",
      "[-0.10961357  0.12795991  0.95435095] 2\n",
      "[-0.12311393  0.14163455  0.95269662] 2\n",
      "[-0.1105822   0.1003899   0.98589462] 2\n",
      "[-0.08489999  0.28749016  0.76653051] 2\n",
      "[-0.08737275  0.15467343  0.9179287 ] 2\n",
      "72 / 75  =  0.96\n"
     ]
    }
   ],
   "source": [
    "# Test\n",
    "\n",
    "xt = Variable(xtest, volatile='on')\n",
    "yy = model.fwd(xt)\n",
    "\n",
    "ans = yy.data\n",
    "nrow, ncol = ans.shape\n",
    "ok = 0\n",
    "for i in range(nrow):\n",
    "    cls = np.argmax(ans[i,:])\n",
    "    print( ans[i,:], cls)\n",
    "    if cls == yans[i]:\n",
    "        ok += 1\n",
    "\n",
    "print( ok, \"/\", nrow, \" = \", (ok * 1.0)/nrow)"
   ]
  },
  {
   "cell_type": "code",
   "execution_count": 9,
   "metadata": {
    "collapsed": false
   },
   "outputs": [
    {
     "name": "stdout",
     "output_type": "stream",
     "text": [
      "[[-0.11401099  0.07830894  1.01588249]]\n",
      "2\n"
     ]
    }
   ],
   "source": [
    "test_index = 68\n",
    "xa = Variable(np.array([xtest[test_index]]).astype(np.float32()), volatile='on')\n",
    "ya = model.fwd(xa)\n",
    "\n",
    "print(ya.data)\n",
    "print(yans[test_index])"
   ]
  },
  {
   "cell_type": "code",
   "execution_count": null,
   "metadata": {
    "collapsed": true
   },
   "outputs": [],
   "source": []
  }
 ],
 "metadata": {
  "kernelspec": {
   "display_name": "Python 3",
   "language": "python",
   "name": "python3"
  },
  "language_info": {
   "codemirror_mode": {
    "name": "ipython",
    "version": 3
   },
   "file_extension": ".py",
   "mimetype": "text/x-python",
   "name": "python",
   "nbconvert_exporter": "python",
   "pygments_lexer": "ipython3",
   "version": "3.5.2"
  }
 },
 "nbformat": 4,
 "nbformat_minor": 0
}
