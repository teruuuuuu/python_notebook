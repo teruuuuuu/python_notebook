{
 "cells": [
  {
   "cell_type": "code",
   "execution_count": 21,
   "metadata": {
    "collapsed": true
   },
   "outputs": [],
   "source": [
    "#!/usr/bin/env python\n",
    "\n",
    "import numpy as np\n",
    "import chainer\n",
    "from chainer import cuda, Function, gradient_check, Variable\n",
    "from chainer import optimizers, serializers, utils\n",
    "from chainer import Link, Chain, ChainList\n",
    "import chainer.functions as F\n",
    "import chainer.links as L"
   ]
  },
  {
   "cell_type": "code",
   "execution_count": 22,
   "metadata": {
    "collapsed": true
   },
   "outputs": [],
   "source": [
    "# Set data\n",
    "\n",
    "from sklearn import datasets\n",
    "iris = datasets.load_iris()\n",
    "X = iris.data.astype(np.float32)\n",
    "Y = iris.target\n",
    "N = Y.size\n",
    "Y2 = np.zeros(3 * N).reshape(N,3).astype(np.float32)\n",
    "for i in range(N):\n",
    "    Y2[i,Y[i]] = 1.0\n",
    "\n",
    "index = np.arange(N)\n",
    "xtrain = X[index[index % 2 != 0],:]\n",
    "ytrain = Y2[index[index % 2 != 0],:]\n",
    "xtest = X[index[index % 2 == 0],:]\n",
    "yans = Y[index[index % 2 == 0]]"
   ]
  },
  {
   "cell_type": "code",
   "execution_count": 23,
   "metadata": {
    "collapsed": true
   },
   "outputs": [],
   "source": [
    "# Define model\n",
    "\n",
    "class IrisChain(Chain):\n",
    "    def __init__(self):\n",
    "        super(IrisChain, self).__init__(\n",
    "            # 入力4 出力6\n",
    "            l1=L.Linear(4,6),\n",
    "            # 入力6 出力3\n",
    "            l2=L.Linear(6,3),\n",
    "        )\n",
    "\n",
    "    def __call__(self,x,y):\n",
    "        return F.mean_squared_error(self.fwd(x), y)\n",
    "\n",
    "    def fwd(self,x):\n",
    "         h1 = F.sigmoid(self.l1(x))\n",
    "         h2 = self.l2(h1)\n",
    "         return h2"
   ]
  },
  {
   "cell_type": "code",
   "execution_count": 24,
   "metadata": {
    "collapsed": false
   },
   "outputs": [],
   "source": [
    "# Initialize model\n",
    "\n",
    "model = IrisChain()\n",
    "optimizer = optimizers.SGD()\n",
    "optimizer.setup(model)"
   ]
  },
  {
   "cell_type": "code",
   "execution_count": 25,
   "metadata": {
    "collapsed": true
   },
   "outputs": [],
   "source": [
    "# Learn\n",
    "\n",
    "for i in range(10000):\n",
    "    x = Variable(xtrain)\n",
    "    y = Variable(ytrain)\n",
    "    model.zerograds()\n",
    "    loss = model(x,y)\n",
    "    loss.backward()\n",
    "    optimizer.update()"
   ]
  },
  {
   "cell_type": "code",
   "execution_count": 26,
   "metadata": {
    "collapsed": false,
    "scrolled": true
   },
   "outputs": [
    {
     "name": "stdout",
     "output_type": "stream",
     "text": [
      "[ 1.06201911  0.06794003 -0.1050007 ] 0\n",
      "[ 1.02131701  0.07757384 -0.09967777] 0\n",
      "[ 1.04751742  0.05147907 -0.09929588] 0\n",
      "[ 0.9537459   0.05485469 -0.06293401] 0\n",
      "[ 0.91575021  0.13680983 -0.05875739] 0\n",
      "[ 1.08100688  0.06934446 -0.10517094] 0\n",
      "[ 1.01144481  0.13902041 -0.09581015] 0\n",
      "[ 1.22020543  0.00995183 -0.16934836] 0\n",
      "[ 1.1184516  -0.01385289 -0.1158331 ] 0\n",
      "[ 1.04656053  0.09160882 -0.0767006 ] 0\n",
      "[ 0.99757558  0.15131387 -0.06552547] 0\n",
      "[ 1.10296714 -0.02782667 -0.14641669] 0\n",
      "[ 0.79281265  0.19783685  0.02485088] 0\n",
      "[ 0.93339252  0.09815654 -0.03408006] 0\n",
      "[ 1.07570612  0.08382604 -0.11070901] 0\n",
      "[ 0.91734189  0.16250661 -0.04252282] 0\n",
      "[ 1.0712074   0.02279142 -0.10415381] 0\n",
      "[ 0.99385005  0.14950937 -0.08250415] 0\n",
      "[ 1.15286624  0.06407076 -0.14403999] 0\n",
      "[ 0.95961887  0.09853843 -0.08123431] 0\n",
      "[ 1.06444263  0.03425357 -0.10597354] 0\n",
      "[ 0.96467716  0.06952733 -0.08282322] 0\n",
      "[ 0.8358441   0.11411065  0.02446249] 0\n",
      "[ 0.9972989   0.06667438 -0.06743646] 0\n",
      "[ 1.06513596  0.06630236 -0.09905037] 0\n",
      "[ 0.06533422  0.57326174  0.47761682] 1\n",
      "[ 0.03510605  0.54436004  0.50274312] 1\n",
      "[ 0.03895937  0.54075146  0.49570602] 1\n",
      "[-0.00914522  0.44385993  0.54076612] 2\n",
      "[ 0.06275137  0.58335721  0.47239229] 1\n",
      "[ 0.10282041  0.58339059  0.41035748] 1\n",
      "[ 0.12557571  0.66398102  0.40620211] 1\n",
      "[ 0.09936513  0.47881985  0.44604167] 1\n",
      "[-0.02922742  0.42624688  0.53995705] 2\n",
      "[ 0.04416384  0.57261002  0.48287064] 1\n",
      "[-0.05818681  0.37228763  0.57737875] 2\n",
      "[ 0.01459266  0.53458166  0.51142108] 1\n",
      "[ 0.07665215  0.56748694  0.46297601] 1\n",
      "[ 0.0545422   0.58915395  0.48000258] 1\n",
      "[ 0.00585093  0.47773671  0.51940322] 2\n",
      "[ 0.09064268  0.57078433  0.43446425] 1\n",
      "[ 0.08804868  0.54790699  0.44710812] 1\n",
      "[-0.04550327  0.40675724  0.54694414] 2\n",
      "[ 0.03621058  0.52872956  0.50217581] 1\n",
      "[ 0.0257961   0.47435689  0.49416876] 2\n",
      "[ 0.01255564  0.51774776  0.49540833] 1\n",
      "[ 0.07748379  0.55935907  0.45241028] 1\n",
      "[ 0.02495612  0.50407422  0.49172208] 1\n",
      "[ 0.02730833  0.49373305  0.49356142] 1\n",
      "[ 0.19891833  0.48117536  0.36693391] 1\n",
      "[-0.12680237  0.24735081  0.65816653] 2\n",
      "[-0.04959084  0.40130293  0.59318185] 2\n",
      "[-0.08497278  0.33022439  0.62152004] 2\n",
      "[-0.08304565  0.36774588  0.56335974] 2\n",
      "[-0.02678756  0.46543336  0.5611608 ] 2\n",
      "[-0.05021308  0.38226628  0.58569407] 2\n",
      "[-0.0511999   0.39187515  0.59143907] 2\n",
      "[-0.10636838  0.28776163  0.62609756] 2\n",
      "[-0.04562427  0.4161346   0.5776546 ] 2\n",
      "[-0.0506895   0.40190357  0.6019603 ] 2\n",
      "[-0.07402827  0.34072047  0.61797273] 2\n",
      "[-0.02928375  0.45600498  0.57535768] 2\n",
      "[-0.0742359   0.34764683  0.61272472] 2\n",
      "[-0.02352764  0.43768883  0.55258787] 2\n",
      "[-0.07035552  0.36259228  0.60433477] 2\n",
      "[-0.01754655  0.48071796  0.55910385] 2\n",
      "[-0.07727133  0.34570372  0.6122843 ] 2\n",
      "[-0.02677418  0.48054385  0.54684794] 2\n",
      "[-0.11389367  0.26874986  0.64426178] 2\n",
      "[-0.04421665  0.39887726  0.56768733] 2\n",
      "[-0.08434664  0.31879181  0.62622261] 2\n",
      "[-0.06924932  0.37282425  0.58693933] 2\n",
      "[-0.0995845   0.28643784  0.64163882] 2\n",
      "[-0.02559252  0.44707823  0.55618638] 2\n",
      "[-0.10714568  0.28229487  0.63426745] 2\n",
      "69 / 75  =  0.92\n"
     ]
    }
   ],
   "source": [
    "# Test\n",
    "\n",
    "xt = Variable(xtest, volatile='on')\n",
    "yy = model.fwd(xt)\n",
    "\n",
    "ans = yy.data\n",
    "nrow, ncol = ans.shape\n",
    "ok = 0\n",
    "for i in range(nrow):\n",
    "    cls = np.argmax(ans[i,:])\n",
    "    print (ans[i,:], cls)\n",
    "    if cls == yans[i]:\n",
    "        ok += 1\n",
    "\n",
    "print( ok, \"/\", nrow, \" = \", (ok * 1.0)/nrow)"
   ]
  },
  {
   "cell_type": "code",
   "execution_count": 85,
   "metadata": {
    "collapsed": false
   },
   "outputs": [
    {
     "name": "stdout",
     "output_type": "stream",
     "text": [
      "[[ 0.01255564  0.5177477   0.49540833]]\n",
      "1\n"
     ]
    }
   ],
   "source": [
    "# xa = Variable(np.array(xtest), volatile='on')\n",
    "#test = np.array([[ 5.099 ,  3.5       ,  1.3999,  0.2       ]]).astype(np.float32())\n",
    "#xa = Variable(np.array(np.array(test)), volatile='on')\n",
    "test_index = 45\n",
    "xa = Variable(np.array([xtest[test_index]]).astype(np.float32()), volatile='on')\n",
    "ya = model.fwd(xa)\n",
    "\n",
    "print(ya.data)\n",
    "print(yans[test_index])"
   ]
  },
  {
   "cell_type": "code",
   "execution_count": null,
   "metadata": {
    "collapsed": true
   },
   "outputs": [],
   "source": []
  }
 ],
 "metadata": {
  "kernelspec": {
   "display_name": "Python 3",
   "language": "python",
   "name": "python3"
  },
  "language_info": {
   "codemirror_mode": {
    "name": "ipython",
    "version": 3
   },
   "file_extension": ".py",
   "mimetype": "text/x-python",
   "name": "python",
   "nbconvert_exporter": "python",
   "pygments_lexer": "ipython3",
   "version": "3.5.2"
  }
 },
 "nbformat": 4,
 "nbformat_minor": 0
}
