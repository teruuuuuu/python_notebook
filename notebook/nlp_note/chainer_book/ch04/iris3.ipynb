{
 "cells": [
  {
   "cell_type": "code",
   "execution_count": 1,
   "metadata": {
    "collapsed": true
   },
   "outputs": [],
   "source": [
    "import numpy as np\n",
    "import chainer\n",
    "from chainer import cuda, Function, gradient_check, Variable\n",
    "from chainer import optimizers, serializers, utils\n",
    "from chainer import Link, Chain, ChainList\n",
    "import chainer.functions as F\n",
    "import chainer.links as L\n"
   ]
  },
  {
   "cell_type": "code",
   "execution_count": 2,
   "metadata": {
    "collapsed": true
   },
   "outputs": [],
   "source": [
    "# Set data\n",
    "from sklearn import datasets\n",
    "iris = datasets.load_iris()\n",
    "X = iris.data.astype(np.float32)\n",
    "Y = iris.target.astype(np.int32)\n",
    "N = Y.size\n",
    "index = np.arange(N)\n",
    "xtrain = X[index[index % 2 != 0],:]\n",
    "ytrain = Y[index[index % 2 != 0]]\n",
    "xtest = X[index[index % 2 == 0],:]\n",
    "yans = Y[index[index % 2 == 0]]\n"
   ]
  },
  {
   "cell_type": "code",
   "execution_count": 3,
   "metadata": {
    "collapsed": true
   },
   "outputs": [],
   "source": [
    "# Define model\n",
    "\n",
    "class IrisChain(Chain):\n",
    "    def __init__(self):\n",
    "        super(IrisChain, self).__init__(\n",
    "            l1=L.Linear(4,6),\n",
    "            l2=L.Linear(6,3),\n",
    "        )\n",
    "\n",
    "    def __call__(self,x,y):\n",
    "        return F.softmax_cross_entropy(self.fwd(x), y)\n",
    "\n",
    "    def fwd(self,x):\n",
    "         h1 = F.sigmoid(self.l1(x))\n",
    "         h2 = self.l2(h1)\n",
    "         return h2"
   ]
  },
  {
   "cell_type": "code",
   "execution_count": 4,
   "metadata": {
    "collapsed": true
   },
   "outputs": [],
   "source": [
    "# Initialize model\n",
    "\n",
    "model = IrisChain()\n",
    "optimizer = optimizers.SGD()\n",
    "optimizer.setup(model)"
   ]
  },
  {
   "cell_type": "code",
   "execution_count": 5,
   "metadata": {
    "collapsed": true
   },
   "outputs": [],
   "source": [
    "# Learn\n",
    "\n",
    "n = 75\n",
    "bs = 25\n",
    "for j in range(2000):\n",
    "    sffindx = np.random.permutation(n)\n",
    "    for i in range(0, n, bs):\n",
    "        x = Variable(xtrain[sffindx[i:(i+bs) if (i+bs) < n else n]])\n",
    "        y = Variable(ytrain[sffindx[i:(i+bs) if (i+bs) < n else n]])\n",
    "        model.zerograds()\n",
    "        loss = model(x,y)\n",
    "        loss.backward()\n",
    "        optimizer.update()"
   ]
  },
  {
   "cell_type": "code",
   "execution_count": 6,
   "metadata": {
    "collapsed": false
   },
   "outputs": [
    {
     "name": "stdout",
     "output_type": "stream",
     "text": [
      "[ 1.9342134  -0.60227877 -2.87409687] 0\n",
      "[ 1.90794182 -0.58438176 -2.84659743] 0\n",
      "[ 1.93580866 -0.60316813 -2.87522244] 0\n",
      "[ 1.88876843 -0.58118999 -2.83257794] 0\n",
      "[ 1.82086635 -0.54761857 -2.77366328] 0\n",
      "[ 1.94463444 -0.6111989  -2.88639021] 0\n",
      "[ 1.88670659 -0.576756   -2.83155251] 0\n",
      "[ 1.98220468 -0.62454122 -2.91648459] 0\n",
      "[ 1.96138859 -0.61633199 -2.89821148] 0\n",
      "[ 1.93166327 -0.61127442 -2.88000226] 0\n",
      "[ 1.89401102 -0.59285063 -2.84804034] 0\n",
      "[ 1.96493983 -0.60218763 -2.89040828] 0\n",
      "[ 1.77526855 -0.54725504 -2.75452852] 0\n",
      "[ 1.86074877 -0.57734454 -2.81659174] 0\n",
      "[ 1.93256497 -0.6013478  -2.87293625] 0\n",
      "[ 1.83141565 -0.56145757 -2.79167819] 0\n",
      "[ 1.96003103 -0.6186313  -2.8995769 ] 0\n",
      "[ 1.88221955 -0.57905871 -2.83120537] 0\n",
      "[ 1.95871687 -0.61188483 -2.8948102 ] 0\n",
      "[ 1.86504078 -0.56306428 -2.8075695 ] 0\n",
      "[ 1.93598104 -0.60070658 -2.87317419] 0\n",
      "[ 1.88759518 -0.57409751 -2.82715034] 0\n",
      "[ 1.84021306 -0.57680106 -2.80694795] 0\n",
      "[ 1.92541099 -0.60470295 -2.87096286] 0\n",
      "[ 1.94098473 -0.60933    -2.88293862] 0\n",
      "[-1.57341146  0.66213024 -0.05313882] 1\n",
      "[-1.78935456  0.70261395  0.31188193] 1\n",
      "[-1.81894994  0.70283592  0.39968142] 1\n",
      "[-1.82098126  0.70091224  0.41624358] 1\n",
      "[-1.68251729  0.6824187   0.14152867] 1\n",
      "[-1.60381699  0.65507591  0.17048422] 1\n",
      "[-1.57190609  0.65467274  0.01857132] 1\n",
      "[-1.19387913  0.53418517 -0.37105402] 1\n",
      "[-1.93960905  0.71836245  0.67725432] 1\n",
      "[-1.99451756  0.72599244  0.76210058] 2\n",
      "[-2.05214167  0.7300235   0.8973279 ] 2\n",
      "[-2.06478047  0.73408711  0.90010571] 2\n",
      "[-1.54123235  0.64665949 -0.04576987] 1\n",
      "[-1.80826712  0.70570254  0.35024658] 1\n",
      "[-1.86739016  0.70759726  0.51995265] 1\n",
      "[-1.55656409  0.64355505  0.05447882] 1\n",
      "[-1.45670676  0.61788154 -0.1013961 ] 1\n",
      "[-1.98604465  0.72591364  0.77743006] 2\n",
      "[-1.73344183  0.69026351  0.23124528] 1\n",
      "[-1.61629248  0.65606093  0.13283956] 1\n",
      "[-1.91242814  0.71882129  0.61725414] 1\n",
      "[-1.58091474  0.65069795  0.06341153] 1\n",
      "[-1.78802991  0.69414842  0.40103325] 1\n",
      "[-1.69218183  0.67477226  0.23634472] 1\n",
      "[-0.75274366  0.38635978 -0.75634515] 1\n",
      "[-2.36783767  0.7530334   1.62631917] 2\n",
      "[-2.26715183  0.74139333  1.3653959 ] 2\n",
      "[-2.3217957   0.74787545  1.50804281] 2\n",
      "[-2.22057986  0.76367903  1.29647565] 2\n",
      "[-2.29546118  0.74652028  1.43840265] 2\n",
      "[-2.10007548  0.7326622   0.98399413] 2\n",
      "[-2.21927786  0.74009383  1.25330043] 2\n",
      "[-2.3185451   0.754287    1.51104259] 2\n",
      "[-2.20084429  0.74208164  1.20895982] 2\n",
      "[-2.39139032  0.74334836  1.68022454] 2\n",
      "[-2.2616539   0.74104643  1.35621285] 2\n",
      "[-2.33936024  0.74166048  1.54396451] 2\n",
      "[-2.23953199  0.74175858  1.30213416] 2\n",
      "[-2.073771    0.73187542  0.93424821] 2\n",
      "[-2.30482268  0.74803972  1.46677136] 2\n",
      "[-2.26099181  0.74082446  1.34543908] 2\n",
      "[-2.31746936  0.74848711  1.49880147] 2\n",
      "[-2.25049496  0.75148582  1.3303988 ] 2\n",
      "[-2.30049014  0.74676239  1.45886588] 2\n",
      "[-2.07295203  0.73217428  0.93853045] 2\n",
      "[-2.29010749  0.74316907  1.42955983] 2\n",
      "[-2.25626278  0.75135791  1.35710907] 2\n",
      "[-2.3020432   0.74344075  1.45919633] 2\n",
      "[-2.19361877  0.74167454  1.2020545 ] 2\n",
      "[-2.25926399  0.74477696  1.3605293 ] 2\n",
      "71 / 75  =  0.9466666666666667\n"
     ]
    }
   ],
   "source": [
    "# Test\n",
    "\n",
    "xt = Variable(xtest, volatile='on')\n",
    "yy = model.fwd(xt)\n",
    "\n",
    "ans = yy.data\n",
    "nrow, ncol = ans.shape\n",
    "ok = 0\n",
    "for i in range(nrow):\n",
    "    cls = np.argmax(ans[i,:])\n",
    "    print (ans[i,:], cls)\n",
    "    if cls == yans[i]:\n",
    "        ok += 1\n",
    "\n",
    "print( ok, \"/\", nrow, \" = \", (ok * 1.0)/nrow)"
   ]
  },
  {
   "cell_type": "code",
   "execution_count": null,
   "metadata": {
    "collapsed": true
   },
   "outputs": [],
   "source": []
  }
 ],
 "metadata": {
  "kernelspec": {
   "display_name": "Python 3",
   "language": "python",
   "name": "python3"
  },
  "language_info": {
   "codemirror_mode": {
    "name": "ipython",
    "version": 3
   },
   "file_extension": ".py",
   "mimetype": "text/x-python",
   "name": "python",
   "nbconvert_exporter": "python",
   "pygments_lexer": "ipython3",
   "version": "3.5.2"
  }
 },
 "nbformat": 4,
 "nbformat_minor": 0
}
