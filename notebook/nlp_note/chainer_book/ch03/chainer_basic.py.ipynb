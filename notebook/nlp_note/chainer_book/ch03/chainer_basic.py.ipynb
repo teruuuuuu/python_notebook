{
 "cells": [
  {
   "cell_type": "code",
   "execution_count": 1,
   "metadata": {
    "collapsed": false
   },
   "outputs": [],
   "source": [
    "# chainer用モジュールのインポート\n",
    "import numpy as np\n",
    "from chainer import cuda, Function, gradient_check, Variable, optimizers, serializers, utils\n",
    "from chainer import  Link, Chain, ChainList\n",
    "import chainer.functions as F\n",
    "import chainer.links as L"
   ]
  },
  {
   "cell_type": "code",
   "execution_count": 2,
   "metadata": {
    "collapsed": true
   },
   "outputs": [],
   "source": [
    "# 入力3つ\n",
    "x1 = Variable(np.array([1], dtype=np.float32))\n",
    "x2 = Variable(np.array([2], dtype=np.float32))\n",
    "x3 = Variable(np.array([3], dtype=np.float32))\n"
   ]
  },
  {
   "cell_type": "code",
   "execution_count": 3,
   "metadata": {
    "collapsed": true
   },
   "outputs": [],
   "source": [
    "z = (x1 - 2 * x2 -1 ) **2 + (x2 * x3 - 1)** 2 + 1"
   ]
  },
  {
   "cell_type": "code",
   "execution_count": 4,
   "metadata": {
    "collapsed": false
   },
   "outputs": [
    {
     "data": {
      "text/plain": [
       "array([ 42.], dtype=float32)"
      ]
     },
     "execution_count": 4,
     "metadata": {},
     "output_type": "execute_result"
    }
   ],
   "source": [
    "# 順方向に計算\n",
    "z.data"
   ]
  },
  {
   "cell_type": "code",
   "execution_count": 5,
   "metadata": {
    "collapsed": true
   },
   "outputs": [],
   "source": [
    "# 逆伝搬で微分値を取得する\n",
    "z.backward()"
   ]
  },
  {
   "cell_type": "code",
   "execution_count": 6,
   "metadata": {
    "collapsed": false
   },
   "outputs": [
    {
     "name": "stdout",
     "output_type": "stream",
     "text": [
      "[-8.]\n",
      "[ 46.]\n",
      "[ 20.]\n"
     ]
    }
   ],
   "source": [
    "# 偏微分の値を取得する\n",
    "print(x1.grad)\n",
    "print(x2.grad)\n",
    "print(x3.grad)"
   ]
  },
  {
   "cell_type": "code",
   "execution_count": 7,
   "metadata": {
    "collapsed": false
   },
   "outputs": [
    {
     "name": "stdout",
     "output_type": "stream",
     "text": [
      "[-0.84147096]\n",
      "[ 0.2689414]\n"
     ]
    }
   ],
   "source": [
    "# 活性化関数の確認\n",
    "x = Variable(np.array([-1], dtype=np.float32))\n",
    "# sin関数\n",
    "print(F.sin(x).data)\n",
    "# シグモイド関数\n",
    "print(F.sigmoid(x).data)"
   ]
  },
  {
   "cell_type": "code",
   "execution_count": 8,
   "metadata": {
    "collapsed": false
   },
   "outputs": [
    {
     "name": "stdout",
     "output_type": "stream",
     "text": [
      "[ 0.54030228  1.          0.54030228]\n"
     ]
    }
   ],
   "source": [
    "x = Variable(np.array([-1, 0, 1], dtype=np.float32))\n",
    "z = F.sin(x)\n",
    "z.grad = np.ones(3, dtype=np.float32)\n",
    "z.backward()\n",
    "print(x.grad)"
   ]
  },
  {
   "cell_type": "code",
   "execution_count": 11,
   "metadata": {
    "collapsed": false
   },
   "outputs": [
    {
     "name": "stdout",
     "output_type": "stream",
     "text": [
      "[[-1.01418269 -0.47092569 -0.18234934]\n",
      " [ 0.65506345 -1.03648019  0.19952714]\n",
      " [ 0.24183242 -0.35688877  0.2783677 ]\n",
      " [-0.20961381  0.03233764 -0.18798847]]\n",
      "[ 0.  0.  0.  0.]\n"
     ]
    }
   ],
   "source": [
    "# 3 * 4\n",
    "h = L.Linear(3, 4)\n",
    "# 重みの初期値は適当な値が入る\n",
    "print(h.W.data)\n",
    "\n",
    "print(h.b.data)"
   ]
  },
  {
   "cell_type": "code",
   "execution_count": 12,
   "metadata": {
    "collapsed": false
   },
   "outputs": [
    {
     "name": "stdout",
     "output_type": "stream",
     "text": [
      "[[ 0.  1.  2.]\n",
      " [ 3.  4.  5.]]\n",
      "実際の値\n",
      "[[-0.83562434 -0.6374259   0.19984663 -0.34363931]\n",
      " [-5.83799744 -1.18309462  0.68978065 -1.43943334]]\n",
      "計算値チェック\n",
      "[[-0.83562434 -0.6374259   0.19984663 -0.34363931]\n",
      " [-5.83799744 -1.18309462  0.68978065 -1.43943334]]\n"
     ]
    }
   ],
   "source": [
    "x = Variable(np.array(range(6)).astype(np.float32).reshape(2, 3))\n",
    "print(x.data)\n",
    "y = h(x)\n",
    "# hに当てはめての計算結果表示\n",
    "print(\"実際の値\")\n",
    "print(y.data)\n",
    "\n",
    "w = h.W.data\n",
    "x0 = x.data\n",
    "print(\"計算値チェック\")\n",
    "print(x0.dot(w.T) + h.b.data)"
   ]
  },
  {
   "cell_type": "code",
   "execution_count": 14,
   "metadata": {
    "collapsed": false
   },
   "outputs": [],
   "source": [
    "# Chainクラス\n",
    "class MyChain(Chain):\n",
    "    def __init__(self):\n",
    "        super(MyChain, self).__init__(\n",
    "            l1 = L.Linear(4, 3),\n",
    "            l2 = L.Linear(3, 3)\n",
    "        )\n",
    "    \n",
    "    def __call__(self, x,y):\n",
    "        fv = self.fwd(x,y)\n",
    "        loss = F.mean_squared_error(fv, y)\n",
    "        return loss\n",
    "    \n",
    "    def fwd(self, x, y):\n",
    "        return F.sigmoid(self.l1(x))\n",
    "    "
   ]
  },
  {
   "cell_type": "code",
   "execution_count": 39,
   "metadata": {
    "collapsed": false
   },
   "outputs": [
    {
     "name": "stdout",
     "output_type": "stream",
     "text": [
      "[[  2.73467302e-01   7.20895946e-01   3.28617066e-01   4.70501967e-02]\n",
      " [  9.39238906e-01   2.95145720e-01   8.35358873e-02   1.95321583e-04]\n",
      " [  1.67628661e-01   4.01083171e-01  -2.41401061e-01  -7.62534142e-02]]\n",
      "[[  0.   1.   2.   3.]\n",
      " [  4.   5.   6.   7.]\n",
      " [  8.   9.  10.  11.]]\n",
      "[[  1.51928067   0.46280345  -0.31047922]\n",
      " [  6.999403     5.73526669   0.69375026]\n",
      " [ 12.47952461  11.00773048   1.69797993]]\n"
     ]
    }
   ],
   "source": [
    "# 3* 4 行列\n",
    "h = L.Linear(4, 3)\n",
    "x = Variable(np.array(range(12)).astype(np.float32).reshape(3, 4))\n",
    "y = h(x)\n",
    "print(h.W.data)\n",
    "print(x.data)\n",
    "print(y.data)"
   ]
  },
  {
   "cell_type": "code",
   "execution_count": 93,
   "metadata": {
    "collapsed": false
   },
   "outputs": [],
   "source": [
    "model = MyChain() # モデルの生成\n",
    "optimizer = optimizers.SGD() # 最適化のアルゴリズムの選択\n",
    "optimizer.setup(model) # アルゴリズムにモデルをセット"
   ]
  },
  {
   "cell_type": "code",
   "execution_count": 94,
   "metadata": {
    "collapsed": false
   },
   "outputs": [
    {
     "name": "stdout",
     "output_type": "stream",
     "text": [
      "32.74905776977539\n",
      "32.69089126586914\n"
     ]
    }
   ],
   "source": [
    "model.zerograds() # 勾配の初期化\n",
    "loss = model(x, y)  #順方向に計算して誤差を算出\n",
    "print(loss.data)\n",
    "for i in range(15):\n",
    "    loss = model(x, y)  #順方向に計算して誤差を算出\n",
    "    loss.backward() # 誤差逆伝搬、　勾配の計算\n",
    "    optimizer.update() # パラメータを更新\n",
    "print(loss.data)"
   ]
  },
  {
   "cell_type": "code",
   "execution_count": 95,
   "metadata": {
    "collapsed": false
   },
   "outputs": [
    {
     "name": "stdout",
     "output_type": "stream",
     "text": [
      "実際の値\n",
      "[[  1.51928067   0.46280345  -0.31047922]\n",
      " [  6.999403     5.73526669   0.69375026]\n",
      " [ 12.47952461  11.00773048   1.69797993]]\n",
      "計算値チェック\n",
      "[[  0.   1.   2.   3.]\n",
      " [  4.   5.   6.   7.]\n",
      " [  8.   9.  10.  11.]]\n",
      "[[  1.85242999   1.21912575  -2.08572459]\n",
      " [  7.5033741    5.61429977  -2.32977486]\n",
      " [ 13.15431881  10.0094738   -2.57382488]]\n",
      "[[ 0.84466881  1.66653788  2.05560446]\n",
      " [ 3.63455749  3.61122322  3.07467985]\n",
      " [ 6.42444658  5.5559082   4.09375477]]\n"
     ]
    }
   ],
   "source": [
    "# hに当てはめての計算結果表示\n",
    "print(\"実際の値\")\n",
    "print(y.data)\n",
    "\n",
    "w1 = model.l1.W.data\n",
    "b1 = model.l1.b.data\n",
    "w2 = model.l2.W.data\n",
    "b2 = model.l2.b.data\n",
    "\n",
    "x0 = x.data\n",
    "x1 = x0.dot(w1.T) + b1.data\n",
    "x2 = x1.dot(w2.T) + b2.data\n",
    "\n",
    "print(\"計算値チェック\")\n",
    "print(x0)\n",
    "print(x1)\n",
    "print(x2)"
   ]
  },
  {
   "cell_type": "code",
   "execution_count": null,
   "metadata": {
    "collapsed": true
   },
   "outputs": [],
   "source": []
  },
  {
   "cell_type": "code",
   "execution_count": 145,
   "metadata": {
    "collapsed": true
   },
   "outputs": [],
   "source": [
    "# Chainクラス\n",
    "class MyChain2(Chain):\n",
    "    def __init__(self):\n",
    "        super(MyChain2, self).__init__(\n",
    "            l1 = L.Linear(4, 1),\n",
    "            l2 = L.Linear(1, 1)\n",
    "        )\n",
    "    \n",
    "    def __call__(self, x,y):\n",
    "        fv = self.fwd(x,y)\n",
    "        loss = F.mean_squared_error(fv, y)\n",
    "        return loss\n",
    "    \n",
    "    def fwd(self, x, y):\n",
    "        return F.sigmoid(self.l1(x))\n",
    "    "
   ]
  },
  {
   "cell_type": "code",
   "execution_count": 146,
   "metadata": {
    "collapsed": false
   },
   "outputs": [
    {
     "name": "stdout",
     "output_type": "stream",
     "text": [
      "[[ 0.09960782 -0.20798427  0.40322188 -0.86007929]]\n",
      "[[  0.   1.   2.   3.]\n",
      " [  4.   5.   6.   7.]\n",
      " [  8.   9.  10.  11.]\n",
      " [ 12.  13.  14.  15.]]\n",
      "[[-1.98177838]\n",
      " [-4.24271393]\n",
      " [-6.50364971]\n",
      " [-8.76458549]]\n"
     ]
    }
   ],
   "source": [
    "# 3* 4 行列\n",
    "h = L.Linear(4, 1)\n",
    "x = Variable(np.array(range(16)).astype(np.float32).reshape(4, 4))\n",
    "y = h(x)\n",
    "print(h.W.data)\n",
    "print(x.data)\n",
    "print(y.data)"
   ]
  },
  {
   "cell_type": "code",
   "execution_count": 151,
   "metadata": {
    "collapsed": false
   },
   "outputs": [],
   "source": [
    "model = MyChain2() # モデルの生成\n",
    "optimizer = optimizers.SGD() # 最適化のアルゴリズムの選択\n",
    "optimizer.setup(model) # アルゴリズムにモデルをセット"
   ]
  },
  {
   "cell_type": "code",
   "execution_count": 152,
   "metadata": {
    "collapsed": false
   },
   "outputs": [
    {
     "name": "stdout",
     "output_type": "stream",
     "text": [
      "35.285057067871094\n",
      "35.281578063964844\n"
     ]
    }
   ],
   "source": [
    "model.zerograds() # 勾配の初期化\n",
    "loss = model(x, y)  #順方向に計算して誤差を算出\n",
    "print(loss.data)\n",
    "for i in range(10):\n",
    "    loss = model(x, y)  #順方向に計算して誤差を算出\n",
    "    loss.backward() # 誤差逆伝搬、　勾配の計算\n",
    "    optimizer.update() # パラメータを更新\n",
    "print(loss.data)"
   ]
  },
  {
   "cell_type": "code",
   "execution_count": 153,
   "metadata": {
    "collapsed": false
   },
   "outputs": [
    {
     "name": "stdout",
     "output_type": "stream",
     "text": [
      "実際の値\n",
      "[[-1.98177838]\n",
      " [-4.24271393]\n",
      " [-6.50364971]\n",
      " [-8.76458549]]\n",
      "計算値チェック\n",
      "input [[  0.   1.   2.   3.]\n",
      " [  4.   5.   6.   7.]\n",
      " [  8.   9.  10.  11.]\n",
      " [ 12.  13.  14.  15.]]\n",
      "l1 [[ -3.88896322]\n",
      " [-10.63428307]\n",
      " [-17.37960243]\n",
      " [-24.12492371]]\n",
      "l2 [[  2.64205647]\n",
      " [  7.22464466]\n",
      " [ 11.8072319 ]\n",
      " [ 16.3898201 ]]\n"
     ]
    }
   ],
   "source": [
    "# hに当てはめての計算結果表示\n",
    "print(\"実際の値\")\n",
    "print(y.data)\n",
    "\n",
    "w1 = model.l1.W.data\n",
    "b1 = model.l1.b.data\n",
    "w2 = model.l2.W.data\n",
    "b2 = model.l2.b.data\n",
    "\n",
    "x0 = x.data\n",
    "x1 = x0.dot(w1.T) + b1.data\n",
    "x2 = x1.dot(w2.T) + b2.data\n",
    "\n",
    "print(\"計算値チェック\")\n",
    "print(\"input\", x0)\n",
    "print(\"l1\", x1)\n",
    "print(\"l2\", x2)"
   ]
  },
  {
   "cell_type": "code",
   "execution_count": null,
   "metadata": {
    "collapsed": true
   },
   "outputs": [],
   "source": []
  }
 ],
 "metadata": {
  "kernelspec": {
   "display_name": "Python 3",
   "language": "python",
   "name": "python3"
  },
  "language_info": {
   "codemirror_mode": {
    "name": "ipython",
    "version": 3
   },
   "file_extension": ".py",
   "mimetype": "text/x-python",
   "name": "python",
   "nbconvert_exporter": "python",
   "pygments_lexer": "ipython3",
   "version": "3.5.2"
  }
 },
 "nbformat": 4,
 "nbformat_minor": 0
}
