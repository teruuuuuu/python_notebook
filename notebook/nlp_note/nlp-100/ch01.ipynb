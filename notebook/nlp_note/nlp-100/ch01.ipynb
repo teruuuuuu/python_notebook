{
 "cells": [
  {
   "cell_type": "code",
   "execution_count": 3,
   "metadata": {
    "collapsed": false
   },
   "outputs": [
    {
     "data": {
      "text/plain": [
       "'desserts'"
      ]
     },
     "execution_count": 3,
     "metadata": {},
     "output_type": "execute_result"
    }
   ],
   "source": [
    "str=\"stressed\"\n",
    "str[::-1]"
   ]
  },
  {
   "cell_type": "code",
   "execution_count": 19,
   "metadata": {
    "collapsed": false
   },
   "outputs": [
    {
     "data": {
      "text/plain": [
       "'パトカー'"
      ]
     },
     "execution_count": 19,
     "metadata": {},
     "output_type": "execute_result"
    }
   ],
   "source": [
    "\"\".join([x  for i, x in enumerate(\"パタトクカシーー\" ) if i+1 in(1,3,5,7) ])\n",
    "\n"
   ]
  },
  {
   "cell_type": "code",
   "execution_count": 27,
   "metadata": {
    "collapsed": false
   },
   "outputs": [
    {
     "data": {
      "text/plain": [
       "'パタトクカシーー'"
      ]
     },
     "execution_count": 27,
     "metadata": {},
     "output_type": "execute_result"
    }
   ],
   "source": [
    "str1=\"パトカー\"\n",
    "str2=\"タクシー\"\n",
    "ret = \"\"\n",
    "for i in range(len(str1)):\n",
    "    ret += str1[i] + str2[i]\n",
    "ret"
   ]
  },
  {
   "cell_type": "code",
   "execution_count": 34,
   "metadata": {
    "collapsed": false
   },
   "outputs": [
    {
     "data": {
      "text/plain": [
       "[3, 1, 4, 1, 6, 9, 2, 7, 5, 3, 5, 8, 9, 7, 10]"
      ]
     },
     "execution_count": 34,
     "metadata": {},
     "output_type": "execute_result"
    }
   ],
   "source": [
    "#\"Now I need a drink, alcoholic of course, after the heavy lectures involving quantum mechanics.\"という文を単語に分解し，\n",
    "#各単語の（アルファベットの）文字数を先頭から出現順に並べたリストを作成せよ． \n",
    "[len(x) for x in \"Now I need a drink, alcoholic of course, after the heavy lectures involving quantum mechanics.\".split(\" \")]"
   ]
  },
  {
   "cell_type": "code",
   "execution_count": 49,
   "metadata": {
    "collapsed": false
   },
   "outputs": [
    {
     "data": {
      "text/plain": [
       "[{0: 'H'},\n",
       " {1: 'He'},\n",
       " {2: 'Li'},\n",
       " {3: 'Be'},\n",
       " {4: 'B'},\n",
       " {5: 'C'},\n",
       " {6: 'N'},\n",
       " {7: 'O'},\n",
       " {8: 'F'},\n",
       " {9: 'Ne'},\n",
       " {10: 'Na'},\n",
       " {11: 'Mi'},\n",
       " {12: 'Al'},\n",
       " {13: 'Si'},\n",
       " {14: 'P'},\n",
       " {15: 'S'},\n",
       " {16: 'Cl'},\n",
       " {17: 'Ar'},\n",
       " {18: 'K'},\n",
       " {19: 'Ca'}]"
      ]
     },
     "execution_count": 49,
     "metadata": {},
     "output_type": "execute_result"
    }
   ],
   "source": [
    "#\"Hi He Lied Because Boron Could Not Oxidize Fluorine. New Nations Might Also Sign Peace Security Clause. Arthur King Can.\"\n",
    "#という文を単語に分解し，1, 5, 6, 7, 8, 9, 15, 16, 19番目の単語は先頭の1文字，それ以外の単語は先頭に2文字を取り出し，\n",
    "#取り出した文字列から単語の位置（先頭から何番目の単語か）への連想配列（辞書型もしくはマップ型）を作成せよ．\n",
    "def AAA(x,i):\n",
    "    if i in (1, 5, 6, 7, 8, 9, 15, 16, 19):\n",
    "        return x[:1]\n",
    "    else:\n",
    "        return x[:2]\n",
    "    \n",
    "[{i:AAA(x,i+1)} for i,x in enumerate(\"Hi He Lied Because Boron Could Not Oxidize Fluorine. New Nations Might Also Sign Peace Security Clause. Arthur King Can.\".split(\" \"))]"
   ]
  },
  {
   "cell_type": "code",
   "execution_count": 58,
   "metadata": {
    "collapsed": false
   },
   "outputs": [
    {
     "name": "stdout",
     "output_type": "stream",
     "text": [
      "[['I', 'am'], ['am', 'an'], ['an', 'NLPer']]\n",
      "['Ia', 'am', 'ma', 'an', 'nN', 'NL', 'LP', 'Pe', 'er']\n"
     ]
    }
   ],
   "source": [
    "#与えられたシーケンス（文字列やリストなど）からn-gramを作る関数を作成せよ．\n",
    "#この関数を用い，\"I am an NLPer\"という文から単語bi-gram，文字bi-gramを得よ．\n",
    "def word_gram(word_list, gram):\n",
    "    ret=[]\n",
    "    for i in range(len(word_list) - (gram-1)):\n",
    "        ret.append(word_list[i:i+gram])\n",
    "    return ret\n",
    "\n",
    "list1 = \"I am an NLPer\".split(\" \")\n",
    "print(word_gram(list1, 2))\n",
    "print(word_gram(\"\".join(list1), 2))"
   ]
  },
  {
   "cell_type": "code",
   "execution_count": 70,
   "metadata": {
    "collapsed": false
   },
   "outputs": [
    {
     "name": "stdout",
     "output_type": "stream",
     "text": [
      "['pa', 'ar', 'ra', 'ap', 'pa', 'ar', 'ra', 'ap', 'pa', 'ar', 'ra', 'ad', 'di', 'is', 'se', 'pa', 'ar', 'ra', 'ag', 'gr', 'ra', 'ap', 'ph']\n",
      "{'ra', 'ar', 'pa', 'ap'}\n",
      "not found se\n"
     ]
    }
   ],
   "source": [
    "#\"paraparaparadise\"と\"paragraph\"に含まれる文字bi-gramの集合を，それぞれ, XとYとして求め，\n",
    "#XとYの和集合，積集合，差集合を求めよ．さらに，'se'というbi-gramがXおよびYに含まれるかどうかを調べよ\n",
    "def word_gram(word_list, gram):\n",
    "    ret=[]\n",
    "    for i in range(len(word_list) - (gram-1)):\n",
    "        ret.append(word_list[i:i+gram])\n",
    "    return ret\n",
    "\n",
    "listX = word_gram(\"paraparaparadise\", 2)\n",
    "listY = word_gram(\"paragraph\", 2)\n",
    "\n",
    "print(listX + listY)\n",
    "print(set(listX).intersection(set(listY)))\n",
    "if \"se\" in listX and \"se\" in listY:\n",
    "    print(\"found se\")\n",
    "else:\n",
    "    print(\"not found se\")"
   ]
  },
  {
   "cell_type": "code",
   "execution_count": 78,
   "metadata": {
    "collapsed": false
   },
   "outputs": [
    {
     "data": {
      "text/plain": [
       "'12時の気温は 22.4'"
      ]
     },
     "execution_count": 78,
     "metadata": {},
     "output_type": "execute_result"
    }
   ],
   "source": [
    "#引数x, y, zを受け取り「x時のyはz」という文字列を返す関数を実装せよ．さらに，x=12, y=\"気温\", z=22.4として，実行結果を確認せよ．\n",
    "def word_maker1(x,y,z):\n",
    "    #return '%(x)a%(y)a%(z)' % {'x': 'tes', 'y': 'test', 'z':'str(z)'}\n",
    "    return '{0}時の{1}は {2}'.format(x,y,z)\n",
    "\n",
    "word_maker1(12, \"気温\", 22.4)"
   ]
  },
  {
   "cell_type": "code",
   "execution_count": 97,
   "metadata": {
    "collapsed": false
   },
   "outputs": [
    {
     "ename": "ValueError",
     "evalue": "invalid literal for int() with base 10: b'a'",
     "output_type": "error",
     "traceback": [
      "\u001b[0;31m---------------------------------------------------------------------------\u001b[0m",
      "\u001b[0;31mValueError\u001b[0m                                Traceback (most recent call last)",
      "\u001b[0;32m<ipython-input-97-95a0ef6a78c2>\u001b[0m in \u001b[0;36m<module>\u001b[0;34m()\u001b[0m\n\u001b[1;32m      5\u001b[0m \u001b[0;34m\u001b[0m\u001b[0m\n\u001b[1;32m      6\u001b[0m \u001b[0mstr1\u001b[0m \u001b[0;34m=\u001b[0m \u001b[0;34m\"a\"\u001b[0m\u001b[0;34m\u001b[0m\u001b[0m\n\u001b[0;32m----> 7\u001b[0;31m \u001b[0mint\u001b[0m\u001b[0;34m(\u001b[0m\u001b[0;34mb\"a\"\u001b[0m\u001b[0;34m)\u001b[0m\u001b[0;34m\u001b[0m\u001b[0m\n\u001b[0m",
      "\u001b[0;31mValueError\u001b[0m: invalid literal for int() with base 10: b'a'"
     ]
    }
   ],
   "source": [
    "#与えられた文字列の各文字を，以下の仕様で変換する関数cipherを実装せよ．\n",
    "#英小文字ならば(219 - 文字コード)の文字に置換\n",
    "#その他の文字はそのまま出力\n",
    "#この関数を用い，英語のメッセージを暗号化・復号化せよ．\n",
    "\n",
    "str1 = \"a\"\n"
   ]
  },
  {
   "cell_type": "code",
   "execution_count": 13,
   "metadata": {
    "collapsed": false
   },
   "outputs": [
    {
     "data": {
      "text/plain": [
       "\"I n'dolu levei that I lou ualltc ndrtneas what I was ndeai : the moennhea eow of the amu mind .\""
      ]
     },
     "execution_count": 13,
     "metadata": {},
     "output_type": "execute_result"
    }
   ],
   "source": [
    "#スペースで区切られた単語列に対して，各単語の先頭と末尾の文字は残し，それ以外の文字の順序をランダムに\n",
    "#並び替えるプログラムを作成せよ．ただし，長さが４以下の単語は並び替えないこととする．\n",
    "#適当な英語の文（例えば\"I couldn't believe that I could actually understand what I was reading : the phenomenal power of the human mind .\"）\n",
    "#を与え，その実行結果を確認せよ．\n",
    "import random\n",
    "\n",
    "def perm(str1):\n",
    "    ret = []\n",
    "    str_list = str1.split(\" \")\n",
    "    for word in str_list:\n",
    "        word_list = list(word)\n",
    "        if len(word) > 4:\n",
    "            del word_list[0]\n",
    "            del word_list[-1]\n",
    "            random.shuffle(word_list)\n",
    "        ret.append(\"\".join(word_list))\n",
    "    return \" \".join(ret)\n",
    "\n",
    "perm(\"I couldn't believe that I could actually understand what I was reading : the phenomenal power of the human mind .\")"
   ]
  },
  {
   "cell_type": "code",
   "execution_count": null,
   "metadata": {
    "collapsed": true
   },
   "outputs": [],
   "source": []
  }
 ],
 "metadata": {
  "kernelspec": {
   "display_name": "Python 3",
   "language": "python",
   "name": "python3"
  },
  "language_info": {
   "codemirror_mode": {
    "name": "ipython",
    "version": 3
   },
   "file_extension": ".py",
   "mimetype": "text/x-python",
   "name": "python",
   "nbconvert_exporter": "python",
   "pygments_lexer": "ipython3",
   "version": "3.5.1"
  }
 },
 "nbformat": 4,
 "nbformat_minor": 0
}
