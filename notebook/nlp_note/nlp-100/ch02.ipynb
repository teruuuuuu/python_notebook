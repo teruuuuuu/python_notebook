{
 "cells": [
  {
   "cell_type": "code",
   "execution_count": 1,
   "metadata": {
    "collapsed": true
   },
   "outputs": [],
   "source": [
    "#hightemp.txtは，日本の最高気温の記録を「都道府県」「地点」「℃」「日」のタブ区切り形式で格納したファイルである．\n",
    "#以下の処理を行うプログラムを作成し，hightemp.txtを入力ファイルとして実行せよ．さらに，同様の処理をUNIXコマンドでも実行し，\n",
    "#プログラムの実行結果を確認せよ．\n",
    "#10. 行数のカウント\n",
    "#行数をカウントせよ．確認にはwcコマンドを用いよ．\n",
    "\n",
    "#wc\n",
    "#-c, --bytes, --chars\tバイト数のみを集計し表示する\n",
    "#-w, --words\t単語数のみ集計し表示する\n",
    "#-l, --lines\t行数のみ集計し表示する\n",
    "#file\t集計するファイルを指定する\n",
    "\n",
    "#$ cat high-temp.txt | wc -l"
   ]
  },
  {
   "cell_type": "code",
   "execution_count": 2,
   "metadata": {
    "collapsed": true
   },
   "outputs": [],
   "source": [
    "#タブ1文字につきスペース1文字に置換せよ．確認にはsedコマンド，trコマンド，もしくはexpandコマンドを用いよ．\n",
    "\n",
    "# $ sed 's/\\t/ /g' hight-temp.txt > test.txt\n",
    "# $ cat high-temp.txt|  awk '{sub(/\\t/,\",\"); print $0 }' > test.txt\n",
    "\n",
    "#macの場合\n",
    "# sed 's/[[:cntrl:]]/ /g' high-temp.txt > test.txt"
   ]
  },
  {
   "cell_type": "code",
   "execution_count": 3,
   "metadata": {
    "collapsed": true
   },
   "outputs": [],
   "source": [
    "#各行の1列目だけを抜き出したものをcol1.txtに，2列目だけを抜き出したものをcol2.txtとしてファイルに保存せよ．確認にはcutコマンドを用いよ．\n",
    "\n",
    "#$ cut -f1 high-temp.txt > col1.txt\n",
    "#$ cut -f2 high-temp.txt > col2.txt"
   ]
  },
  {
   "cell_type": "code",
   "execution_count": 7,
   "metadata": {
    "collapsed": true
   },
   "outputs": [],
   "source": [
    "#12で作ったcol1.txtとcol2.txtを結合し，元のファイルの1列目と2列目を\n",
    "#タブ区切りで並べたテキストファイルを作成せよ．確認にはpasteコマンドを用いよ．\n",
    "\n",
    "#$ paste col1.txt col2.txt > past.txt"
   ]
  },
  {
   "cell_type": "code",
   "execution_count": 5,
   "metadata": {
    "collapsed": true
   },
   "outputs": [],
   "source": [
    "#自然数Nをコマンドライン引数などの手段で受け取り，入力のうち先頭のN行だけを表示せよ．確認にはheadコマンドを用いよ．\n",
    "\n",
    "#$ head -n 2 high-temp.txt"
   ]
  },
  {
   "cell_type": "code",
   "execution_count": 6,
   "metadata": {
    "collapsed": true
   },
   "outputs": [],
   "source": [
    "#自然数Nをコマンドライン引数などの手段で受け取り，入力のうち末尾のN行だけを表示せよ．確認にはtailコマンドを用いよ\n",
    "\n",
    "#$ tail -n 2 high-temp.txt"
   ]
  },
  {
   "cell_type": "code",
   "execution_count": 8,
   "metadata": {
    "collapsed": true
   },
   "outputs": [],
   "source": [
    "#自然数Nをコマンドライン引数などの手段で受け取り，入力のファイルを行単位でN分割せよ．同様の処理をsplitコマンドで実現せよ\n",
    "\n",
    "# split -l 2 high-temp.txt div."
   ]
  },
  {
   "cell_type": "code",
   "execution_count": 9,
   "metadata": {
    "collapsed": true
   },
   "outputs": [],
   "source": [
    "#1列目の文字列の種類（異なる文字列の集合）を求めよ．確認にはsort, uniqコマンドを用いよ．\n",
    "\n",
    "#$ cut -f1 high-temp.txt | sort | uniq"
   ]
  },
  {
   "cell_type": "code",
   "execution_count": 10,
   "metadata": {
    "collapsed": true
   },
   "outputs": [],
   "source": [
    "#各行を3コラム目の数値の逆順で整列せよ（注意: 各行の内容は変更せずに並び替えよ）．\n",
    "#確認にはsortコマンドを用いよ（この問題はコマンドで実行した時の結果と合わなくてもよい）．\n",
    "\n",
    "\n",
    "#$ cat high-temp.txt | sort -k3 -n | uniq"
   ]
  },
  {
   "cell_type": "code",
   "execution_count": null,
   "metadata": {
    "collapsed": true
   },
   "outputs": [],
   "source": [
    "#各行の1列目の文字列の出現頻度を求め，その高い順に並べて表示せよ．確認にはcut, uniq, sortコマンドを用いよ．\n",
    "\n",
    "#$ cut -f1 high-temp.txt | sort |  uniq -c|sort  -k1 -nr"
   ]
  }
 ],
 "metadata": {
  "kernelspec": {
   "display_name": "Python 3",
   "language": "python",
   "name": "python3"
  },
  "language_info": {
   "codemirror_mode": {
    "name": "ipython",
    "version": 3
   },
   "file_extension": ".py",
   "mimetype": "text/x-python",
   "name": "python",
   "nbconvert_exporter": "python",
   "pygments_lexer": "ipython3",
   "version": "3.5.1"
  }
 },
 "nbformat": 4,
 "nbformat_minor": 0
}
