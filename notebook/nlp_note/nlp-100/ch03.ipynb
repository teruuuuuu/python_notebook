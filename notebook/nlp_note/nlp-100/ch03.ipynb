{
 "cells": [
  {
   "cell_type": "code",
   "execution_count": 23,
   "metadata": {
    "collapsed": false
   },
   "outputs": [],
   "source": [
    "#Wikipediaの記事を以下のフォーマットで書き出したファイルjawiki-country.json.gzがある．\n",
    "\n",
    "#1行に1記事の情報がJSON形式で格納される\n",
    "#各行には記事名が\"title\"キーに，記事本文が\"text\"キーの辞書オブジェクトに格納され，そのオブジェクトがJSON形式で書き出される\n",
    "#ファイル全体はgzipで圧縮される\n",
    "#以下の処理を行うプログラムを作成せよ．\n",
    "\n",
    "#20. JSONデータの読み込み\n",
    "#Wikipedia記事のJSONファイルを読み込み，「イギリス」に関する記事本文を表示せよ．問題21-29では，ここで抽出した記事本文に対して実行せよ．\n",
    "\n",
    "#coding:utf-8\n",
    "import json\n",
    "\n",
    "f = open('jawiki-country.json', 'r')\n",
    "for row in f:\n",
    "    jsonData = json.loads(row)\n",
    "    if jsonData['title'] == \"イギリス\":\n",
    "        break\n",
    "\n",
    "#print(jsonData['title'])\n",
    "#print(jsonData['text'])\n"
   ]
  },
  {
   "cell_type": "code",
   "execution_count": 31,
   "metadata": {
    "collapsed": false
   },
   "outputs": [
    {
     "name": "stdout",
     "output_type": "stream",
     "text": [
      "522\n",
      "[[Category:イギリス|*]]\n",
      "523\n",
      "[[Category:英連邦王国|*]]\n",
      "524\n",
      "[[Category:G8加盟国]]\n",
      "525\n",
      "[[Category:欧州連合加盟国]]\n",
      "526\n",
      "[[Category:海洋国家]]\n",
      "527\n",
      "[[Category:君主国]]\n",
      "528\n",
      "[[Category:島国|くれいとふりてん]]\n",
      "529\n",
      "[[Category:1801年に設立された州・地域]]\n"
     ]
    }
   ],
   "source": [
    "#記事中でカテゴリ名を宣言している行を抽出せよ\n",
    "for i,row in enumerate(jsonData['text'].split(\"\\n\") ):\n",
    "    if \"Category\" in row:\n",
    "        print(i+1)\n",
    "        print(row)"
   ]
  },
  {
   "cell_type": "code",
   "execution_count": 48,
   "metadata": {
    "collapsed": false,
    "scrolled": true
   },
   "outputs": [
    {
     "name": "stdout",
     "output_type": "stream",
     "text": [
      "イギリス|*\n",
      "英連邦王国|*\n",
      "G8加盟国\n",
      "欧州連合加盟国\n",
      "海洋国家\n",
      "君主国\n",
      "島国|くれいとふりてん\n",
      "1801年に設立された州・地域\n"
     ]
    }
   ],
   "source": [
    "#22. カテゴリ名の抽出\n",
    "#記事のカテゴリ名を（行単位ではなく名前で）抽出せよ．\n",
    "\n",
    "for i,row in enumerate(jsonData['text'].split(\"\\n\") ):\n",
    "    if \"Category\" in row:\n",
    "        print(row.replace(\"[\",\"\").replace(\"]\",\"\").split(\":\")[1])"
   ]
  },
  {
   "cell_type": "code",
   "execution_count": 53,
   "metadata": {
    "collapsed": false
   },
   "outputs": [
    {
     "name": "stdout",
     "output_type": "stream",
     "text": [
      "===気候===\n",
      "===主要都市===\n",
      "===鉱業===\n",
      "===農業===\n",
      "===貿易===\n",
      "===通貨===\n",
      "===企業===\n",
      "===道路===\n",
      "===鉄道===\n",
      "===海運===\n",
      "===航空===\n",
      "===言語===\n",
      "===宗教===\n",
      "=== 婚姻 ===\n",
      "===教育===\n",
      "===食文化===\n",
      "===文学===\n",
      "=== 哲学 ===\n",
      "===音楽===\n",
      "====イギリスのポピュラー音楽====\n",
      "===映画===\n",
      "===コメディ===\n",
      "===国花===\n",
      "===世界遺産===\n",
      "===祝祭日===\n",
      "===サッカー===\n",
      "===競馬===\n",
      "===モータースポーツ===\n"
     ]
    }
   ],
   "source": [
    "#23. セクション構造\n",
    "#記事中に含まれるセクション名とそのレベル（例えば\"== セクション名 ==\"なら1）を表示せよ\n",
    "import re\n",
    "p = re.compile('[=]+.[=]+')\n",
    "\n",
    "for i,row in enumerate(jsonData['text'].split(\"\\n\") ):\n",
    "    if p.match(row) is not None:\n",
    "        print(row)"
   ]
  },
  {
   "cell_type": "code",
   "execution_count": 55,
   "metadata": {
    "collapsed": false
   },
   "outputs": [],
   "source": [
    "#24. ファイル参照の抽出\n",
    "#記事から参照されているメディアファイルをすべて抜き出せ．\n",
    "#for i,row in enumerate(jsonData['text'].split(\"\\n\") ):\n",
    " #   print(row)"
   ]
  },
  {
   "cell_type": "code",
   "execution_count": 58,
   "metadata": {
    "collapsed": false
   },
   "outputs": [],
   "source": [
    "#25. テンプレートの抽出\n",
    "#記事中に含まれる「基礎情報」テンプレートのフィールド名と値を抽出し，辞書オブジェクトとして格納せよ．\n",
    "\n",
    "\n",
    "#for i,row in enumerate(jsonData['text'].split(\"\\n\") ):\n",
    "#    print(i)\n",
    "#    print(row)"
   ]
  },
  {
   "cell_type": "code",
   "execution_count": null,
   "metadata": {
    "collapsed": true
   },
   "outputs": [],
   "source": []
  }
 ],
 "metadata": {
  "kernelspec": {
   "display_name": "Python 3",
   "language": "python",
   "name": "python3"
  },
  "language_info": {
   "codemirror_mode": {
    "name": "ipython",
    "version": 3
   },
   "file_extension": ".py",
   "mimetype": "text/x-python",
   "name": "python",
   "nbconvert_exporter": "python",
   "pygments_lexer": "ipython3",
   "version": "3.5.1"
  }
 },
 "nbformat": 4,
 "nbformat_minor": 0
}
