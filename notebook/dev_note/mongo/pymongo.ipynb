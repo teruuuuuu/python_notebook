{
 "cells": [
  {
   "cell_type": "code",
   "execution_count": 44,
   "metadata": {
    "collapsed": true
   },
   "outputs": [],
   "source": [
    "import json\n",
    "import re\n",
    "import pymongo\n",
    "\n",
    "import bson\n",
    "from bson.son import SON\n",
    "from bson.code import Code\n",
    "from pymongo import MongoClient\n",
    "from bson.code import Code\n",
    "from datetime import datetime, timedelta"
   ]
  },
  {
   "cell_type": "code",
   "execution_count": 5,
   "metadata": {
    "collapsed": true
   },
   "outputs": [],
   "source": [
    "mongo_client = MongoClient('192.168.11.250:27017')\n",
    "db=mongo_client['test_db']"
   ]
  },
  {
   "cell_type": "code",
   "execution_count": 60,
   "metadata": {
    "collapsed": false
   },
   "outputs": [
    {
     "name": "stdout",
     "output_type": "stream",
     "text": [
      "myresults\n",
      "test_collection\n",
      "book_collection\n"
     ]
    }
   ],
   "source": [
    "for c in db.collection_names():\n",
    "    print(c)"
   ]
  },
  {
   "cell_type": "code",
   "execution_count": 8,
   "metadata": {
    "collapsed": false
   },
   "outputs": [
    {
     "data": {
      "text/plain": [
       "<pymongo.results.InsertOneResult at 0x1044b02d0>"
      ]
     },
     "execution_count": 8,
     "metadata": {},
     "output_type": "execute_result"
    }
   ],
   "source": [
    "# インサート\n",
    "db.book_collection.insert_one(\n",
    "    {\n",
    "        'category': 'it',\n",
    "        'title':  '入門 python3',\n",
    "        'synopsis': 'Pythonが誕生して四半世紀。データサイエンスやウェブ開発、セキュリティなどさまざまな分野でPythonの人気が急上昇中です。',\n",
    "        'publish': 'オライリー',\n",
    "        'authors': ['Bill Lubanovic', '斎藤康毅', '長尾高弘'],\n",
    "        'created': datetime.strptime(\"2015-12-01\", \"%Y-%m-%d\")\n",
    "    }\n",
    ")"
   ]
  },
  {
   "cell_type": "code",
   "execution_count": 14,
   "metadata": {
    "collapsed": false
   },
   "outputs": [
    {
     "name": "stdout",
     "output_type": "stream",
     "text": [
      "{'synopsis': 'あらすじ1', 'publish': '田中出版', 'title': 'タイトル1', 'created': datetime.datetime(2016, 11, 29, 0, 0), '_id': ObjectId('58b9d91ebb95d16f564df7a7'), 'category': 'fantasy', 'authors': ['田中太郎', '佐藤賢作']}\n",
      "{'synopsis': ' ホラー1', 'publish': '竹中出版', 'title': 'ホラー1', 'created': datetime.datetime(2016, 8, 21, 0, 0), '_id': ObjectId('58b9dd11bb95d16f564df7a8'), 'category': 'horror', 'authors': ['田中太郎', '伊藤優一']}\n",
      "{'synopsis': ' ファンタジー2', 'publish': '田中出版', 'title': 'ファンタジー2', 'created': datetime.datetime(2016, 7, 15, 0, 0), '_id': ObjectId('58b9dd12bb95d16f564df7a9'), 'category': 'fantasy', 'authors': ['加藤信之']}\n",
      "{'synopsis': ' SF1', 'publish': 'はなまる文庫', 'title': 'SF1', 'created': datetime.datetime(2016, 9, 15, 0, 0), '_id': ObjectId('58b9e0a1bb95d16f564df7aa'), 'category': 'SF', 'authors': ['田中賢介']}\n",
      "{'synopsis': ' SF2', 'publish': 'はなまる文庫', 'title': 'SF2', 'created': datetime.datetime(2016, 9, 16, 0, 0), '_id': ObjectId('58b9ec29bb95d16f564df7ab'), 'category': 'SF', 'authors': ['田中賢介']}\n"
     ]
    }
   ],
   "source": [
    "# 条件なし検索\n",
    "for c in db.book_collection.find().limit(5):\n",
    "    print(c)"
   ]
  },
  {
   "cell_type": "code",
   "execution_count": 16,
   "metadata": {
    "collapsed": false
   },
   "outputs": [
    {
     "name": "stdout",
     "output_type": "stream",
     "text": [
      "{'synopsis': 'あらすじ1', 'publish': '田中出版', 'title': 'タイトル1', 'created': datetime.datetime(2016, 11, 29, 0, 0), '_id': ObjectId('58b9d91ebb95d16f564df7a7'), 'category': 'fantasy', 'authors': ['田中太郎', '佐藤賢作']}\n",
      "{'synopsis': ' SF1', 'publish': 'はなまる文庫', 'title': 'SF1', 'created': datetime.datetime(2016, 9, 15, 0, 0), '_id': ObjectId('58b9e0a1bb95d16f564df7aa'), 'category': 'SF', 'authors': ['田中賢介']}\n",
      "{'synopsis': ' SF2', 'publish': 'はなまる文庫', 'title': 'SF2', 'created': datetime.datetime(2016, 9, 16, 0, 0), '_id': ObjectId('58b9ec29bb95d16f564df7ab'), 'category': 'SF', 'authors': ['田中賢介']}\n"
     ]
    }
   ],
   "source": [
    "# ○条件付き created > \"2016-09-01\"\n",
    "for c in db.book_collection.find({'created': {'$gt': datetime.strptime(\"2016-09-01\", \"%Y-%m-%d\")}}).limit(5):\n",
    "    print(c)"
   ]
  },
  {
   "cell_type": "code",
   "execution_count": 20,
   "metadata": {
    "collapsed": false
   },
   "outputs": [
    {
     "name": "stdout",
     "output_type": "stream",
     "text": [
      "{'synopsis': 'あらすじ1', 'publish': '田中出版', 'title': 'タイトル1', 'created': datetime.datetime(2016, 11, 29, 0, 0), '_id': ObjectId('58b9d91ebb95d16f564df7a7'), 'category': 'fantasy', 'authors': ['田中太郎', '佐藤賢作']}\n"
     ]
    }
   ],
   "source": [
    "# ◯複数条件 created > \"2016-09-01\" と category = 'fantasy'\n",
    "for c in db.book_collection.find({\n",
    "        'created': {'$gt': datetime.strptime(\"2016-09-01\", \"%Y-%m-%d\")},\n",
    "        'category': 'fantasy'\n",
    "    }).limit(5):\n",
    "    print(c)\n",
    "    \n"
   ]
  },
  {
   "cell_type": "code",
   "execution_count": 29,
   "metadata": {
    "collapsed": false
   },
   "outputs": [
    {
     "name": "stdout",
     "output_type": "stream",
     "text": [
      "{'synopsis': 'あらすじ1', 'publish': '田中出版', 'title': 'タイトル1', 'created': datetime.datetime(2016, 11, 29, 0, 0), '_id': ObjectId('58b9d91ebb95d16f564df7a7'), 'category': 'fantasy', 'authors': ['田中太郎', '佐藤賢作']}\n",
      "{'synopsis': ' ホラー1', 'publish': '竹中出版', 'title': 'ホラー1', 'created': datetime.datetime(2016, 8, 21, 0, 0), '_id': ObjectId('58b9dd11bb95d16f564df7a8'), 'category': 'horror', 'authors': ['田中太郎', '伊藤優一']}\n"
     ]
    }
   ],
   "source": [
    "#◯条件 authorsに田中太郎が含まれる\n",
    "for c in db.book_collection.find({'authors': {\"$in\":[u\"田中太郎\"]}}).limit(5):\n",
    "    print(c)"
   ]
  },
  {
   "cell_type": "code",
   "execution_count": 34,
   "metadata": {
    "collapsed": false
   },
   "outputs": [
    {
     "name": "stdout",
     "output_type": "stream",
     "text": [
      "{'synopsis': 'あらすじ1', 'publish': '田中出版', 'title': 'タイトル1', 'created': datetime.datetime(2016, 11, 29, 0, 0), '_id': ObjectId('58b9d91ebb95d16f564df7a7'), 'category': 'fantasy', 'authors': ['田中太郎', '佐藤賢作']}\n",
      "{'synopsis': ' ホラー1', 'publish': '竹中出版', 'title': 'ホラー1', 'created': datetime.datetime(2016, 8, 21, 0, 0), '_id': ObjectId('58b9dd11bb95d16f564df7a8'), 'category': 'horror', 'authors': ['田中太郎', '伊藤優一']}\n",
      "{'synopsis': ' SF1', 'publish': 'はなまる文庫', 'title': 'SF1', 'created': datetime.datetime(2016, 9, 15, 0, 0), '_id': ObjectId('58b9e0a1bb95d16f564df7aa'), 'category': 'SF', 'authors': ['田中賢介']}\n",
      "{'synopsis': ' SF2', 'publish': 'はなまる文庫', 'title': 'SF2', 'created': datetime.datetime(2016, 9, 16, 0, 0), '_id': ObjectId('58b9ec29bb95d16f564df7ab'), 'category': 'SF', 'authors': ['田中賢介']}\n"
     ]
    }
   ],
   "source": [
    "# ◯条件 作者の名前が田中で前方一致する\n",
    "for c in db.book_collection.find({'authors': {\"$in\": [ re.compile('^田中.*')]}}).limit(5):\n",
    "    print(c)"
   ]
  },
  {
   "cell_type": "code",
   "execution_count": 36,
   "metadata": {
    "collapsed": false
   },
   "outputs": [
    {
     "name": "stdout",
     "output_type": "stream",
     "text": [
      "{'synopsis': 'あらすじ1', 'publish': '田中出版', 'title': 'タイトル1', 'created': datetime.datetime(2016, 11, 29, 0, 0), '_id': ObjectId('58b9d91ebb95d16f564df7a7'), 'category': 'fantasy', 'authors': ['田中太郎', '佐藤賢作']}\n"
     ]
    }
   ],
   "source": [
    "# ◯条件指定を変数に格納する　created > \"2016-10-01\"\n",
    "condition={'created': {'$gt': datetime.strptime(\"2016-10-01\", \"%Y-%m-%d\")}}\n",
    "for c in db.book_collection.find(condition).limit(5):\n",
    "    print(c)"
   ]
  },
  {
   "cell_type": "code",
   "execution_count": 38,
   "metadata": {
    "collapsed": false
   },
   "outputs": [
    {
     "name": "stdout",
     "output_type": "stream",
     "text": [
      "{'_id': ObjectId('58b9d91ebb95d16f564df7a7'), 'title': 'タイトル1'}\n",
      "{'_id': ObjectId('58b9dd11bb95d16f564df7a8'), 'title': 'ホラー1'}\n",
      "{'_id': ObjectId('58b9dd12bb95d16f564df7a9'), 'title': 'ファンタジー2'}\n"
     ]
    }
   ],
   "source": [
    "# ◯表示条件を変数に格納する titleのみ表示\n",
    "for c in db.book_collection.find({}, {'title': 1}).limit(3):\n",
    "    print(c)"
   ]
  },
  {
   "cell_type": "code",
   "execution_count": 48,
   "metadata": {
    "collapsed": false
   },
   "outputs": [
    {
     "name": "stdout",
     "output_type": "stream",
     "text": [
      "{'_id': ObjectId('58b9d91ebb95d16f564df7a7'), 'created': datetime.datetime(2016, 11, 29, 0, 0), 'title': 'タイトル1'}\n",
      "{'_id': ObjectId('58b9ec29bb95d16f564df7ab'), 'created': datetime.datetime(2016, 9, 16, 0, 0), 'title': 'SF2'}\n",
      "{'_id': ObjectId('58b9e0a1bb95d16f564df7aa'), 'created': datetime.datetime(2016, 9, 15, 0, 0), 'title': 'SF1'}\n",
      "{'_id': ObjectId('58b9dd11bb95d16f564df7a8'), 'created': datetime.datetime(2016, 8, 21, 0, 0), 'title': 'ホラー1'}\n",
      "{'_id': ObjectId('58b9dd12bb95d16f564df7a9'), 'created': datetime.datetime(2016, 7, 15, 0, 0), 'title': 'ファンタジー2'}\n",
      "{'_id': ObjectId('58ba2266c5b82d22ff156c4e'), 'created': datetime.datetime(2015, 12, 1, 0, 0), 'title': '入門 python3'}\n"
     ]
    }
   ],
   "source": [
    "# ソート\n",
    "# ◯createdで昇順にソート\n",
    "for c in db.book_collection.find({},{'title': 1, 'created': 1} ).sort('created', pymongo.DESCENDING):\n",
    "    print(c) "
   ]
  },
  {
   "cell_type": "code",
   "execution_count": 49,
   "metadata": {
    "collapsed": false
   },
   "outputs": [
    {
     "name": "stdout",
     "output_type": "stream",
     "text": [
      "{'_id': 'オライリー', 'count': 1}\n",
      "{'_id': 'はなまる文庫', 'count': 2}\n",
      "{'_id': '竹中出版', 'count': 1}\n",
      "{'_id': '田中出版', 'count': 2}\n"
     ]
    }
   ],
   "source": [
    "# 集約\n",
    "# ◯publishで集約した件数を表示\n",
    "for c in db.book_collection.aggregate([\n",
    "        { '$group' : {'_id': \"$publish\", 'count':{ '$sum': 1 } }}\n",
    "]):\n",
    "    print(c)"
   ]
  },
  {
   "cell_type": "code",
   "execution_count": 50,
   "metadata": {
    "collapsed": false
   },
   "outputs": [
    {
     "name": "stdout",
     "output_type": "stream",
     "text": [
      "{'_id': {'month': 12, 'day': 1, 'year': 2015}, 'count': 1}\n",
      "{'_id': {'month': 9, 'day': 16, 'year': 2016}, 'count': 1}\n",
      "{'_id': {'month': 11, 'day': 29, 'year': 2016}, 'count': 1}\n",
      "{'_id': {'month': 8, 'day': 21, 'year': 2016}, 'count': 1}\n",
      "{'_id': {'month': 9, 'day': 15, 'year': 2016}, 'count': 1}\n",
      "{'_id': {'month': 7, 'day': 15, 'year': 2016}, 'count': 1}\n"
     ]
    }
   ],
   "source": [
    "# ◯createdの年、月、日で集約した件数を表示\n",
    "for c in db.book_collection.aggregate([\n",
    "        { '$group' : {'_id': {'month': { '$month': '$created'}, 'day': { '$dayOfMonth': '$created' }, 'year': { '$year': \"$created\" }}, 'count':{ '$sum': 1 } }}\n",
    "]):\n",
    "    print(c)"
   ]
  },
  {
   "cell_type": "code",
   "execution_count": 52,
   "metadata": {
    "collapsed": false
   },
   "outputs": [
    {
     "name": "stdout",
     "output_type": "stream",
     "text": [
      "{'_id': {'publish': 'はなまる文庫', 'year': 2016}, 'count': 2}\n",
      "{'_id': {'publish': '竹中出版', 'year': 2016}, 'count': 1}\n",
      "{'_id': {'publish': 'オライリー', 'year': 2015}, 'count': 1}\n",
      "{'_id': {'publish': '田中出版', 'year': 2016}, 'count': 2}\n"
     ]
    }
   ],
   "source": [
    "#◯publichとcreatedの年で集約した件数を表示\n",
    "for c in db.book_collection.aggregate([\n",
    "        { '$group' : {'_id': {'publish': \"$publish\", 'year': { '$year': \"$created\" }}, 'count':{ '$sum': 1 } }}\n",
    "]):\n",
    "    print(c)"
   ]
  },
  {
   "cell_type": "code",
   "execution_count": 54,
   "metadata": {
    "collapsed": false
   },
   "outputs": [
    {
     "name": "stdout",
     "output_type": "stream",
     "text": [
      "{'_id': {'year': 2016, 'month': 7}, 'count': 1}\n",
      "{'_id': {'year': 2016, 'month': 8}, 'count': 1}\n",
      "{'_id': {'year': 2016, 'month': 9}, 'count': 2}\n",
      "{'_id': {'year': 2016, 'month': 11}, 'count': 1}\n",
      "{'_id': {'year': 2015, 'month': 12}, 'count': 1}\n"
     ]
    }
   ],
   "source": [
    "# ◯createdの年、月、日で集約してソートした件数を表示\n",
    "for c in db.book_collection.aggregate([\n",
    "        { '$group' : {'_id':{'year': { '$year': \"$created\" }, 'month': { '$month': \"$created\" } }, 'count':{ '$sum': 1 } }},\n",
    "        { '$sort': {'_id.month':1}}\n",
    "]):\n",
    "    print(c)"
   ]
  },
  {
   "cell_type": "code",
   "execution_count": 55,
   "metadata": {
    "collapsed": false
   },
   "outputs": [
    {
     "name": "stdout",
     "output_type": "stream",
     "text": [
      "{'_id': {'year': 2016, 'month': 9}, 'count': 2}\n",
      "{'_id': {'year': 2015, 'month': 12}, 'count': 1}\n",
      "{'_id': {'year': 2016, 'month': 11}, 'count': 1}\n"
     ]
    }
   ],
   "source": [
    "#◯createdの年、月、日で集約し件数上位3件を表示\n",
    "for c in db.book_collection.aggregate([\n",
    "        { '$group' : {'_id':{'year': { '$year': \"$created\" }, 'month': { '$month': \"$created\" } },'count':{ '$sum': 1 } }},\n",
    "        { '$sort': {\"count\":-1}},\n",
    "        { '$limit': 3 }\n",
    "]):\n",
    "    print(c)"
   ]
  },
  {
   "cell_type": "code",
   "execution_count": 58,
   "metadata": {
    "collapsed": false
   },
   "outputs": [
    {
     "name": "stdout",
     "output_type": "stream",
     "text": [
      "{'_id': '竹中出版', 'count': 1}\n",
      "{'_id': '田中出版', 'count': 1}\n"
     ]
    }
   ],
   "source": [
    "# ◯authorに田中太郎が含まれるものをpublichで集約して表示\n",
    "for c in db.book_collection.aggregate([\n",
    "        { '$match': {'authors': {\"$in\":['田中太郎']}}},\n",
    "        { '$group' : {'_id': \"$publish\", 'count':{ '$sum': 1 } }},\n",
    "        { '$sort': {\"count\":-1}}\n",
    "]):\n",
    "    print(c)"
   ]
  },
  {
   "cell_type": "code",
   "execution_count": 59,
   "metadata": {
    "collapsed": false
   },
   "outputs": [
    {
     "name": "stdout",
     "output_type": "stream",
     "text": [
      "はなまる文庫 : 2.0\n",
      "オライリー : 1.0\n",
      "田中出版 : 2.0\n",
      "竹中出版 : 1.0\n"
     ]
    }
   ],
   "source": [
    "# マップリデュースによるpublishごとの集約\n",
    "mapper = Code(\"\"\"\n",
    "        function () {\n",
    "            emit(this.publish, 1);\n",
    "        }\n",
    " \"\"\")\n",
    "\n",
    "reducer = Code(\"\"\"\n",
    "        function (key, values) {\n",
    "            var total = 0;\n",
    "            for (var i = 0; i < values.length; i++) {\n",
    "                total += values[i];\n",
    "            }\n",
    "            return total;\n",
    "        }\n",
    "\"\"\")\n",
    "\n",
    "result = db.book_collection.map_reduce(mapper, reducer, \"myresults\")\n",
    "for doc in result.find():\n",
    "    print(doc['_id'], ':', doc['value'])"
   ]
  },
  {
   "cell_type": "code",
   "execution_count": null,
   "metadata": {
    "collapsed": true
   },
   "outputs": [],
   "source": []
  }
 ],
 "metadata": {
  "kernelspec": {
   "display_name": "Python 3",
   "language": "python",
   "name": "python3"
  },
  "language_info": {
   "codemirror_mode": {
    "name": "ipython",
    "version": 3
   },
   "file_extension": ".py",
   "mimetype": "text/x-python",
   "name": "python",
   "nbconvert_exporter": "python",
   "pygments_lexer": "ipython3",
   "version": "3.5.2"
  }
 },
 "nbformat": 4,
 "nbformat_minor": 0
}
