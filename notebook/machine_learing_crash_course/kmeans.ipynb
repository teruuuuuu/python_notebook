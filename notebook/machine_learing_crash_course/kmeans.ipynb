{
 "cells": [
  {
   "cell_type": "code",
   "execution_count": 2,
   "metadata": {
    "collapsed": true,
    "scrolled": true
   },
   "outputs": [],
   "source": [
    "import numpy as np\n",
    "import tensorflow as tf\n",
    "from janome.tokenizer import Tokenizer\n",
    "from janome.tokenizer import Tokenizer\n",
    "from janome.analyzer import Analyzer\n",
    "from janome.charfilter import *\n",
    "from janome.tokenfilter import *"
   ]
  },
  {
   "cell_type": "code",
   "execution_count": 3,
   "metadata": {
    "scrolled": true
   },
   "outputs": [
    {
     "name": "stdout",
     "output_type": "stream",
     "text": [
      "INFO:tensorflow:Using default config.\n",
      "WARNING:tensorflow:Using temporary folder as model directory: /var/folders/jt/w9n_rnhj61xgp3xvr_8mtjvr0000gn/T/tmp5bets6i0\n",
      "INFO:tensorflow:Using config: {'_model_dir': '/var/folders/jt/w9n_rnhj61xgp3xvr_8mtjvr0000gn/T/tmp5bets6i0', '_tf_random_seed': None, '_save_summary_steps': 100, '_save_checkpoints_steps': None, '_save_checkpoints_secs': 600, '_session_config': None, '_keep_checkpoint_max': 5, '_keep_checkpoint_every_n_hours': 10000, '_log_step_count_steps': 100, '_train_distribute': None, '_service': None, '_cluster_spec': <tensorflow.python.training.server_lib.ClusterSpec object at 0x1265a9198>, '_task_type': 'worker', '_task_id': 0, '_global_id_in_cluster': 0, '_master': '', '_evaluation_master': '', '_is_chief': True, '_num_ps_replicas': 0, '_num_worker_replicas': 1}\n",
      "INFO:tensorflow:Calling model_fn.\n",
      "INFO:tensorflow:Done calling model_fn.\n",
      "INFO:tensorflow:Create CheckpointSaverHook.\n",
      "INFO:tensorflow:Graph was finalized.\n",
      "INFO:tensorflow:Running local_init_op.\n",
      "INFO:tensorflow:Done running local_init_op.\n",
      "INFO:tensorflow:Saving checkpoints for 1 into /var/folders/jt/w9n_rnhj61xgp3xvr_8mtjvr0000gn/T/tmp5bets6i0/model.ckpt.\n",
      "INFO:tensorflow:Loss for final step: None.\n",
      "INFO:tensorflow:Calling model_fn.\n",
      "INFO:tensorflow:Done calling model_fn.\n",
      "INFO:tensorflow:Starting evaluation at 2018-06-24-09:18:18\n",
      "INFO:tensorflow:Graph was finalized.\n",
      "INFO:tensorflow:Restoring parameters from /var/folders/jt/w9n_rnhj61xgp3xvr_8mtjvr0000gn/T/tmp5bets6i0/model.ckpt-1\n",
      "INFO:tensorflow:Running local_init_op.\n",
      "INFO:tensorflow:Done running local_init_op.\n",
      "INFO:tensorflow:Evaluation [1/1]\n",
      "INFO:tensorflow:Finished evaluation at 2018-06-24-09:18:18\n",
      "INFO:tensorflow:Saving dict for global step 1: global_step = 1, loss = 18365450.0, score = 18365450.0\n",
      "score: 18365450.0\n",
      "INFO:tensorflow:Calling model_fn.\n",
      "INFO:tensorflow:Done calling model_fn.\n",
      "INFO:tensorflow:Create CheckpointSaverHook.\n",
      "INFO:tensorflow:Graph was finalized.\n",
      "INFO:tensorflow:Restoring parameters from /var/folders/jt/w9n_rnhj61xgp3xvr_8mtjvr0000gn/T/tmp5bets6i0/model.ckpt-1\n",
      "INFO:tensorflow:Running local_init_op.\n",
      "INFO:tensorflow:Done running local_init_op.\n",
      "INFO:tensorflow:Saving checkpoints for 2 into /var/folders/jt/w9n_rnhj61xgp3xvr_8mtjvr0000gn/T/tmp5bets6i0/model.ckpt.\n",
      "INFO:tensorflow:loss = 18365450.0, step = 2\n",
      "INFO:tensorflow:Saving checkpoints for 3 into /var/folders/jt/w9n_rnhj61xgp3xvr_8mtjvr0000gn/T/tmp5bets6i0/model.ckpt.\n",
      "INFO:tensorflow:Loss for final step: 18365450.0.\n",
      "delta: [[ -26.636902    -8.9279175]\n",
      " [  29.754944   -20.622711 ]\n",
      " [  20.421265    25.42865  ]\n",
      " [-332.43814   -104.914856 ]\n",
      " [-367.22958    -29.441772 ]]\n",
      "INFO:tensorflow:Calling model_fn.\n",
      "INFO:tensorflow:Done calling model_fn.\n",
      "INFO:tensorflow:Starting evaluation at 2018-06-24-09:18:20\n",
      "INFO:tensorflow:Graph was finalized.\n",
      "INFO:tensorflow:Restoring parameters from /var/folders/jt/w9n_rnhj61xgp3xvr_8mtjvr0000gn/T/tmp5bets6i0/model.ckpt-3\n",
      "INFO:tensorflow:Running local_init_op.\n",
      "INFO:tensorflow:Done running local_init_op.\n",
      "INFO:tensorflow:Evaluation [1/1]\n",
      "INFO:tensorflow:Finished evaluation at 2018-06-24-09:18:20\n",
      "INFO:tensorflow:Saving dict for global step 3: global_step = 3, loss = 5892714.0, score = 5892714.0\n",
      "score: 5892714.0\n",
      "INFO:tensorflow:Calling model_fn.\n",
      "INFO:tensorflow:Done calling model_fn.\n",
      "INFO:tensorflow:Create CheckpointSaverHook.\n",
      "INFO:tensorflow:Graph was finalized.\n",
      "INFO:tensorflow:Restoring parameters from /var/folders/jt/w9n_rnhj61xgp3xvr_8mtjvr0000gn/T/tmp5bets6i0/model.ckpt-3\n",
      "INFO:tensorflow:Running local_init_op.\n",
      "INFO:tensorflow:Done running local_init_op.\n",
      "INFO:tensorflow:Saving checkpoints for 4 into /var/folders/jt/w9n_rnhj61xgp3xvr_8mtjvr0000gn/T/tmp5bets6i0/model.ckpt.\n",
      "INFO:tensorflow:loss = 5892714.0, step = 4\n",
      "INFO:tensorflow:Saving checkpoints for 5 into /var/folders/jt/w9n_rnhj61xgp3xvr_8mtjvr0000gn/T/tmp5bets6i0/model.ckpt.\n",
      "INFO:tensorflow:Loss for final step: 5892714.0.\n",
      "delta: [[  0.         0.      ]\n",
      " [-61.605957 -84.527435]\n",
      " [-62.78955   36.583313]\n",
      " [-84.21158  -30.069733]\n",
      " [-61.428802 -24.163086]]\n",
      "INFO:tensorflow:Calling model_fn.\n",
      "INFO:tensorflow:Done calling model_fn.\n",
      "INFO:tensorflow:Starting evaluation at 2018-06-24-09:18:21\n",
      "INFO:tensorflow:Graph was finalized.\n",
      "INFO:tensorflow:Restoring parameters from /var/folders/jt/w9n_rnhj61xgp3xvr_8mtjvr0000gn/T/tmp5bets6i0/model.ckpt-5\n",
      "INFO:tensorflow:Running local_init_op.\n",
      "INFO:tensorflow:Done running local_init_op.\n",
      "INFO:tensorflow:Evaluation [1/1]\n",
      "INFO:tensorflow:Finished evaluation at 2018-06-24-09:18:22\n",
      "INFO:tensorflow:Saving dict for global step 5: global_step = 5, loss = 4622461.5, score = 4622461.5\n",
      "score: 4622461.5\n",
      "INFO:tensorflow:Calling model_fn.\n",
      "INFO:tensorflow:Done calling model_fn.\n",
      "INFO:tensorflow:Create CheckpointSaverHook.\n",
      "INFO:tensorflow:Graph was finalized.\n",
      "INFO:tensorflow:Restoring parameters from /var/folders/jt/w9n_rnhj61xgp3xvr_8mtjvr0000gn/T/tmp5bets6i0/model.ckpt-5\n",
      "INFO:tensorflow:Running local_init_op.\n",
      "INFO:tensorflow:Done running local_init_op.\n",
      "INFO:tensorflow:Saving checkpoints for 6 into /var/folders/jt/w9n_rnhj61xgp3xvr_8mtjvr0000gn/T/tmp5bets6i0/model.ckpt.\n",
      "INFO:tensorflow:loss = 4622461.5, step = 6\n",
      "INFO:tensorflow:Saving checkpoints for 7 into /var/folders/jt/w9n_rnhj61xgp3xvr_8mtjvr0000gn/T/tmp5bets6i0/model.ckpt.\n",
      "INFO:tensorflow:Loss for final step: 4622461.5.\n",
      "delta: [[-34.830017 -36.56256 ]\n",
      " [-42.68274  -55.54904 ]\n",
      " [-86.12268   46.767517]\n",
      " [-77.657135  12.212036]\n",
      " [-49.269653 -17.957458]]\n",
      "INFO:tensorflow:Calling model_fn.\n",
      "INFO:tensorflow:Done calling model_fn.\n",
      "INFO:tensorflow:Starting evaluation at 2018-06-24-09:18:23\n",
      "INFO:tensorflow:Graph was finalized.\n",
      "INFO:tensorflow:Restoring parameters from /var/folders/jt/w9n_rnhj61xgp3xvr_8mtjvr0000gn/T/tmp5bets6i0/model.ckpt-7\n",
      "INFO:tensorflow:Running local_init_op.\n",
      "INFO:tensorflow:Done running local_init_op.\n",
      "INFO:tensorflow:Evaluation [1/1]\n",
      "INFO:tensorflow:Finished evaluation at 2018-06-24-09:18:23\n",
      "INFO:tensorflow:Saving dict for global step 7: global_step = 7, loss = 3896235.5, score = 3896235.5\n",
      "score: 3896235.5\n",
      "INFO:tensorflow:Calling model_fn.\n",
      "INFO:tensorflow:Done calling model_fn.\n",
      "INFO:tensorflow:Create CheckpointSaverHook.\n",
      "INFO:tensorflow:Graph was finalized.\n",
      "INFO:tensorflow:Restoring parameters from /var/folders/jt/w9n_rnhj61xgp3xvr_8mtjvr0000gn/T/tmp5bets6i0/model.ckpt-7\n",
      "INFO:tensorflow:Running local_init_op.\n",
      "INFO:tensorflow:Done running local_init_op.\n",
      "INFO:tensorflow:Saving checkpoints for 8 into /var/folders/jt/w9n_rnhj61xgp3xvr_8mtjvr0000gn/T/tmp5bets6i0/model.ckpt.\n",
      "INFO:tensorflow:loss = 3896235.5, step = 8\n",
      "INFO:tensorflow:Saving checkpoints for 9 into /var/folders/jt/w9n_rnhj61xgp3xvr_8mtjvr0000gn/T/tmp5bets6i0/model.ckpt.\n",
      "INFO:tensorflow:Loss for final step: 3896235.5.\n",
      "delta: [[-17.4245     17.178772 ]\n",
      " [-27.390564   -9.919495 ]\n",
      " [-52.328552  -18.835144 ]\n",
      " [-36.065643    6.9718933]\n",
      " [-28.69136     9.62384  ]]\n",
      "INFO:tensorflow:Calling model_fn.\n",
      "INFO:tensorflow:Done calling model_fn.\n",
      "INFO:tensorflow:Starting evaluation at 2018-06-24-09:18:25\n",
      "INFO:tensorflow:Graph was finalized.\n",
      "INFO:tensorflow:Restoring parameters from /var/folders/jt/w9n_rnhj61xgp3xvr_8mtjvr0000gn/T/tmp5bets6i0/model.ckpt-9\n",
      "INFO:tensorflow:Running local_init_op.\n",
      "INFO:tensorflow:Done running local_init_op.\n",
      "INFO:tensorflow:Evaluation [1/1]\n",
      "INFO:tensorflow:Finished evaluation at 2018-06-24-09:18:25\n",
      "INFO:tensorflow:Saving dict for global step 9: global_step = 9, loss = 3683452.8, score = 3683452.8\n",
      "score: 3683452.8\n",
      "INFO:tensorflow:Calling model_fn.\n",
      "INFO:tensorflow:Done calling model_fn.\n",
      "INFO:tensorflow:Create CheckpointSaverHook.\n",
      "INFO:tensorflow:Graph was finalized.\n",
      "INFO:tensorflow:Restoring parameters from /var/folders/jt/w9n_rnhj61xgp3xvr_8mtjvr0000gn/T/tmp5bets6i0/model.ckpt-9\n",
      "INFO:tensorflow:Running local_init_op.\n",
      "INFO:tensorflow:Done running local_init_op.\n",
      "INFO:tensorflow:Saving checkpoints for 10 into /var/folders/jt/w9n_rnhj61xgp3xvr_8mtjvr0000gn/T/tmp5bets6i0/model.ckpt.\n",
      "INFO:tensorflow:loss = 3683452.8, step = 10\n",
      "INFO:tensorflow:Saving checkpoints for 11 into /var/folders/jt/w9n_rnhj61xgp3xvr_8mtjvr0000gn/T/tmp5bets6i0/model.ckpt.\n",
      "INFO:tensorflow:Loss for final step: 3683452.8.\n",
      "delta: [[ -5.840149    31.53064   ]\n",
      " [ -3.9438477  -10.348785  ]\n",
      " [-32.256897   -26.475708  ]\n",
      " [-12.067352    -0.08926392]\n",
      " [  0.           0.        ]]\n",
      "INFO:tensorflow:Calling model_fn.\n"
     ]
    },
    {
     "name": "stdout",
     "output_type": "stream",
     "text": [
      "INFO:tensorflow:Done calling model_fn.\n",
      "INFO:tensorflow:Starting evaluation at 2018-06-24-09:18:26\n",
      "INFO:tensorflow:Graph was finalized.\n",
      "INFO:tensorflow:Restoring parameters from /var/folders/jt/w9n_rnhj61xgp3xvr_8mtjvr0000gn/T/tmp5bets6i0/model.ckpt-11\n",
      "INFO:tensorflow:Running local_init_op.\n",
      "INFO:tensorflow:Done running local_init_op.\n",
      "INFO:tensorflow:Evaluation [1/1]\n",
      "INFO:tensorflow:Finished evaluation at 2018-06-24-09:18:26\n",
      "INFO:tensorflow:Saving dict for global step 11: global_step = 11, loss = 3635154.5, score = 3635154.5\n",
      "score: 3635154.5\n",
      "INFO:tensorflow:Calling model_fn.\n",
      "INFO:tensorflow:Done calling model_fn.\n",
      "INFO:tensorflow:Create CheckpointSaverHook.\n",
      "INFO:tensorflow:Graph was finalized.\n",
      "INFO:tensorflow:Restoring parameters from /var/folders/jt/w9n_rnhj61xgp3xvr_8mtjvr0000gn/T/tmp5bets6i0/model.ckpt-11\n",
      "INFO:tensorflow:Running local_init_op.\n",
      "INFO:tensorflow:Done running local_init_op.\n",
      "INFO:tensorflow:Saving checkpoints for 12 into /var/folders/jt/w9n_rnhj61xgp3xvr_8mtjvr0000gn/T/tmp5bets6i0/model.ckpt.\n",
      "INFO:tensorflow:loss = 3635154.5, step = 12\n",
      "INFO:tensorflow:Saving checkpoints for 13 into /var/folders/jt/w9n_rnhj61xgp3xvr_8mtjvr0000gn/T/tmp5bets6i0/model.ckpt.\n",
      "INFO:tensorflow:Loss for final step: 3635154.5.\n",
      "delta: [[  0.          0.       ]\n",
      " [-10.30304    -3.9963074]\n",
      " [  0.          0.       ]\n",
      " [-12.130554    4.7035522]\n",
      " [  0.          0.       ]]\n",
      "INFO:tensorflow:Calling model_fn.\n",
      "INFO:tensorflow:Done calling model_fn.\n",
      "INFO:tensorflow:Starting evaluation at 2018-06-24-09:18:28\n",
      "INFO:tensorflow:Graph was finalized.\n",
      "INFO:tensorflow:Restoring parameters from /var/folders/jt/w9n_rnhj61xgp3xvr_8mtjvr0000gn/T/tmp5bets6i0/model.ckpt-13\n",
      "INFO:tensorflow:Running local_init_op.\n",
      "INFO:tensorflow:Done running local_init_op.\n",
      "INFO:tensorflow:Evaluation [1/1]\n",
      "INFO:tensorflow:Finished evaluation at 2018-06-24-09:18:29\n",
      "INFO:tensorflow:Saving dict for global step 13: global_step = 13, loss = 3628376.8, score = 3628376.8\n",
      "score: 3628376.8\n",
      "INFO:tensorflow:Calling model_fn.\n",
      "INFO:tensorflow:Done calling model_fn.\n",
      "INFO:tensorflow:Create CheckpointSaverHook.\n",
      "INFO:tensorflow:Graph was finalized.\n",
      "INFO:tensorflow:Restoring parameters from /var/folders/jt/w9n_rnhj61xgp3xvr_8mtjvr0000gn/T/tmp5bets6i0/model.ckpt-13\n",
      "INFO:tensorflow:Running local_init_op.\n",
      "INFO:tensorflow:Done running local_init_op.\n",
      "INFO:tensorflow:Saving checkpoints for 14 into /var/folders/jt/w9n_rnhj61xgp3xvr_8mtjvr0000gn/T/tmp5bets6i0/model.ckpt.\n",
      "INFO:tensorflow:loss = 3628376.8, step = 14\n",
      "INFO:tensorflow:Saving checkpoints for 15 into /var/folders/jt/w9n_rnhj61xgp3xvr_8mtjvr0000gn/T/tmp5bets6i0/model.ckpt.\n",
      "INFO:tensorflow:Loss for final step: 3628376.8.\n",
      "delta: [[0. 0.]\n",
      " [0. 0.]\n",
      " [0. 0.]\n",
      " [0. 0.]\n",
      " [0. 0.]]\n",
      "INFO:tensorflow:Calling model_fn.\n",
      "INFO:tensorflow:Done calling model_fn.\n",
      "INFO:tensorflow:Starting evaluation at 2018-06-24-09:18:30\n",
      "INFO:tensorflow:Graph was finalized.\n",
      "INFO:tensorflow:Restoring parameters from /var/folders/jt/w9n_rnhj61xgp3xvr_8mtjvr0000gn/T/tmp5bets6i0/model.ckpt-15\n",
      "INFO:tensorflow:Running local_init_op.\n",
      "INFO:tensorflow:Done running local_init_op.\n",
      "INFO:tensorflow:Evaluation [1/1]\n",
      "INFO:tensorflow:Finished evaluation at 2018-06-24-09:18:30\n",
      "INFO:tensorflow:Saving dict for global step 15: global_step = 15, loss = 3628376.8, score = 3628376.8\n",
      "score: 3628376.8\n",
      "INFO:tensorflow:Calling model_fn.\n",
      "INFO:tensorflow:Done calling model_fn.\n",
      "INFO:tensorflow:Create CheckpointSaverHook.\n",
      "INFO:tensorflow:Graph was finalized.\n",
      "INFO:tensorflow:Restoring parameters from /var/folders/jt/w9n_rnhj61xgp3xvr_8mtjvr0000gn/T/tmp5bets6i0/model.ckpt-15\n",
      "INFO:tensorflow:Running local_init_op.\n",
      "INFO:tensorflow:Done running local_init_op.\n",
      "INFO:tensorflow:Saving checkpoints for 16 into /var/folders/jt/w9n_rnhj61xgp3xvr_8mtjvr0000gn/T/tmp5bets6i0/model.ckpt.\n",
      "INFO:tensorflow:loss = 3628376.8, step = 16\n",
      "INFO:tensorflow:Saving checkpoints for 17 into /var/folders/jt/w9n_rnhj61xgp3xvr_8mtjvr0000gn/T/tmp5bets6i0/model.ckpt.\n",
      "INFO:tensorflow:Loss for final step: 3628376.8.\n",
      "delta: [[0. 0.]\n",
      " [0. 0.]\n",
      " [0. 0.]\n",
      " [0. 0.]\n",
      " [0. 0.]]\n",
      "INFO:tensorflow:Calling model_fn.\n",
      "INFO:tensorflow:Done calling model_fn.\n",
      "INFO:tensorflow:Starting evaluation at 2018-06-24-09:18:32\n",
      "INFO:tensorflow:Graph was finalized.\n",
      "INFO:tensorflow:Restoring parameters from /var/folders/jt/w9n_rnhj61xgp3xvr_8mtjvr0000gn/T/tmp5bets6i0/model.ckpt-17\n",
      "INFO:tensorflow:Running local_init_op.\n",
      "INFO:tensorflow:Done running local_init_op.\n",
      "INFO:tensorflow:Evaluation [1/1]\n",
      "INFO:tensorflow:Finished evaluation at 2018-06-24-09:18:32\n",
      "INFO:tensorflow:Saving dict for global step 17: global_step = 17, loss = 3628376.8, score = 3628376.8\n",
      "score: 3628376.8\n",
      "INFO:tensorflow:Calling model_fn.\n",
      "INFO:tensorflow:Done calling model_fn.\n",
      "INFO:tensorflow:Create CheckpointSaverHook.\n",
      "INFO:tensorflow:Graph was finalized.\n",
      "INFO:tensorflow:Restoring parameters from /var/folders/jt/w9n_rnhj61xgp3xvr_8mtjvr0000gn/T/tmp5bets6i0/model.ckpt-17\n",
      "INFO:tensorflow:Running local_init_op.\n",
      "INFO:tensorflow:Done running local_init_op.\n",
      "INFO:tensorflow:Saving checkpoints for 18 into /var/folders/jt/w9n_rnhj61xgp3xvr_8mtjvr0000gn/T/tmp5bets6i0/model.ckpt.\n",
      "INFO:tensorflow:loss = 3628376.8, step = 18\n",
      "INFO:tensorflow:Saving checkpoints for 19 into /var/folders/jt/w9n_rnhj61xgp3xvr_8mtjvr0000gn/T/tmp5bets6i0/model.ckpt.\n",
      "INFO:tensorflow:Loss for final step: 3628376.8.\n",
      "delta: [[0. 0.]\n",
      " [0. 0.]\n",
      " [0. 0.]\n",
      " [0. 0.]\n",
      " [0. 0.]]\n",
      "INFO:tensorflow:Calling model_fn.\n",
      "INFO:tensorflow:Done calling model_fn.\n",
      "INFO:tensorflow:Starting evaluation at 2018-06-24-09:18:34\n",
      "INFO:tensorflow:Graph was finalized.\n",
      "INFO:tensorflow:Restoring parameters from /var/folders/jt/w9n_rnhj61xgp3xvr_8mtjvr0000gn/T/tmp5bets6i0/model.ckpt-19\n",
      "INFO:tensorflow:Running local_init_op.\n",
      "INFO:tensorflow:Done running local_init_op.\n",
      "INFO:tensorflow:Evaluation [1/1]\n",
      "INFO:tensorflow:Finished evaluation at 2018-06-24-09:18:34\n",
      "INFO:tensorflow:Saving dict for global step 19: global_step = 19, loss = 3628376.8, score = 3628376.8\n",
      "score: 3628376.8\n",
      "cluster centers: [[912.7798  753.2066 ]\n",
      " [760.9083  284.38184]\n",
      " [631.6959  792.5859 ]\n",
      " [234.63187 296.65164]\n",
      " [240.76158 793.7662 ]]\n",
      "WARNING:tensorflow:Input graph does not use tf.data.Dataset or contain a QueueRunner. That means predict yields forever. This is probably a mistake.\n",
      "INFO:tensorflow:Calling model_fn.\n",
      "INFO:tensorflow:Done calling model_fn.\n",
      "INFO:tensorflow:Graph was finalized.\n",
      "INFO:tensorflow:Restoring parameters from /var/folders/jt/w9n_rnhj61xgp3xvr_8mtjvr0000gn/T/tmp5bets6i0/model.ckpt-19\n",
      "INFO:tensorflow:Running local_init_op.\n",
      "INFO:tensorflow:Done running local_init_op.\n",
      "point: [863.26416425 337.71373021] is in cluster 1 centered at [760.9083  284.38184]\n",
      "point: [857.64472052  24.96157191] is in cluster 1 centered at [760.9083  284.38184]\n",
      "point: [291.88057316 937.2914922 ] is in cluster 4 centered at [240.76158 793.7662 ]\n",
      "point: [201.3544597  447.02235322] is in cluster 3 centered at [234.63187 296.65164]\n",
      "point: [422.9669626  842.83204571] is in cluster 4 centered at [240.76158 793.7662 ]\n",
      "point: [320.00347323 645.3867238 ] is in cluster 4 centered at [240.76158 793.7662 ]\n",
      "point: [865.60669066 416.597594  ] is in cluster 1 centered at [760.9083  284.38184]\n",
      "point: [960.87567741 102.02744819] is in cluster 1 centered at [760.9083  284.38184]\n",
      "point: [276.2899122  506.17363242] is in cluster 3 centered at [234.63187 296.65164]\n",
      "point: [997.51133855 749.98769435] is in cluster 0 centered at [912.7798 753.2066]\n",
      "point: [846.65979202 508.37724421] is in cluster 1 centered at [760.9083  284.38184]\n",
      "point: [887.9207594  817.30678414] is in cluster 0 centered at [912.7798 753.2066]\n",
      "point: [684.60656884 830.54338219] is in cluster 2 centered at [631.6959 792.5859]\n",
      "point: [104.67309477  39.26267016] is in cluster 3 centered at [234.63187 296.65164]\n",
      "point: [981.46038903 379.25092936] is in cluster 1 centered at [760.9083  284.38184]\n",
      "point: [694.11908726 582.64486595] is in cluster 2 centered at [631.6959 792.5859]\n",
      "point: [ 23.8760335  892.27986039] is in cluster 4 centered at [240.76158 793.7662 ]\n",
      "point: [844.03500563 806.00036301] is in cluster 0 centered at [912.7798 753.2066]\n",
      "point: [769.24856211  88.35874323] is in cluster 1 centered at [760.9083  284.38184]\n",
      "point: [611.23233913 817.6307965 ] is in cluster 2 centered at [631.6959 792.5859]\n",
      "point: [383.75101564 321.54164461] is in cluster 3 centered at [234.63187 296.65164]\n",
      "point: [143.61618941 781.63610526] is in cluster 4 centered at [240.76158 793.7662 ]\n",
      "point: [446.1337108  274.15355768] is in cluster 3 centered at [234.63187 296.65164]\n",
      "point: [ 40.43865041 937.30664036] is in cluster 4 centered at [240.76158 793.7662 ]\n",
      "point: [545.34874364 695.82170693] is in cluster 2 centered at [631.6959 792.5859]\n",
      "point: [427.36054966 595.14936844] is in cluster 4 centered at [240.76158 793.7662 ]\n",
      "point: [153.33231031  54.76694417] is in cluster 3 centered at [234.63187 296.65164]\n",
      "point: [650.57754627 268.22598329] is in cluster 1 centered at [760.9083  284.38184]\n",
      "point: [731.14159237 983.03057804] is in cluster 2 centered at [631.6959 792.5859]\n",
      "point: [291.54638546 478.60601623] is in cluster 3 centered at [234.63187 296.65164]\n",
      "point: [455.52778128 383.65194436] is in cluster 3 centered at [234.63187 296.65164]\n",
      "point: [157.40752446 457.07741196] is in cluster 3 centered at [234.63187 296.65164]\n",
      "point: [764.51737667 346.71218149] is in cluster 1 centered at [760.9083  284.38184]\n",
      "point: [848.72148704 596.98457976] is in cluster 0 centered at [912.7798 753.2066]\n",
      "point: [297.72387226 633.54331795] is in cluster 4 centered at [240.76158 793.7662 ]\n",
      "point: [789.20229571 407.83800327] is in cluster 1 centered at [760.9083  284.38184]\n",
      "point: [971.57031982 821.81591697] is in cluster 0 centered at [912.7798 753.2066]\n",
      "point: [372.48987171 517.8319569 ] is in cluster 3 centered at [234.63187 296.65164]\n",
      "point: [605.06528266 170.21382721] is in cluster 1 centered at [760.9083  284.38184]\n",
      "point: [118.66994263 802.89668856] is in cluster 4 centered at [240.76158 793.7662 ]\n",
      "point: [928.19822714 802.84718179] is in cluster 0 centered at [912.7798 753.2066]\n",
      "point: [  3.01697833 156.52031237] is in cluster 3 centered at [234.63187 296.65164]\n",
      "point: [853.09710575 387.85695053] is in cluster 1 centered at [760.9083  284.38184]\n",
      "point: [248.2634784  664.62842643] is in cluster 4 centered at [240.76158 793.7662 ]\n",
      "point: [631.03169442 542.46145987] is in cluster 2 centered at [631.6959 792.5859]\n",
      "point: [384.83962546 776.79066927] is in cluster 4 centered at [240.76158 793.7662 ]\n",
      "point: [513.63501964 188.47052457] is in cluster 1 centered at [760.9083  284.38184]\n",
      "point: [ 43.57751798 560.7979712 ] is in cluster 4 centered at [240.76158 793.7662 ]\n",
      "point: [227.09235791 993.42145111] is in cluster 4 centered at [240.76158 793.7662 ]\n",
      "point: [844.77232591 729.11722154] is in cluster 0 centered at [912.7798 753.2066]\n",
      "point: [187.26654165  31.02818444] is in cluster 3 centered at [234.63187 296.65164]\n",
      "point: [884.04718803 665.75998457] is in cluster 0 centered at [912.7798 753.2066]\n"
     ]
    },
    {
     "name": "stdout",
     "output_type": "stream",
     "text": [
      "point: [300.66443043 203.94495023] is in cluster 3 centered at [234.63187 296.65164]\n",
      "point: [156.8933003  702.85193433] is in cluster 4 centered at [240.76158 793.7662 ]\n",
      "point: [333.34591539 850.50346304] is in cluster 4 centered at [240.76158 793.7662 ]\n",
      "point: [133.60802799 901.31350314] is in cluster 4 centered at [240.76158 793.7662 ]\n",
      "point: [454.764597   108.19056484] is in cluster 3 centered at [234.63187 296.65164]\n",
      "point: [606.07332228 770.36250466] is in cluster 2 centered at [631.6959 792.5859]\n",
      "point: [317.51971795 428.66086761] is in cluster 3 centered at [234.63187 296.65164]\n",
      "point: [645.97581135 416.87560987] is in cluster 1 centered at [760.9083  284.38184]\n",
      "point: [334.60620818 997.82731587] is in cluster 4 centered at [240.76158 793.7662 ]\n",
      "point: [ 26.89179815 230.92718909] is in cluster 3 centered at [234.63187 296.65164]\n",
      "point: [724.89691852 882.67078483] is in cluster 2 centered at [631.6959 792.5859]\n",
      "point: [608.49712623 708.60297369] is in cluster 2 centered at [631.6959 792.5859]\n",
      "point: [330.78995024 322.01269384] is in cluster 3 centered at [234.63187 296.65164]\n",
      "point: [619.24167211 993.38214761] is in cluster 2 centered at [631.6959 792.5859]\n",
      "point: [617.07585466 928.90800013] is in cluster 2 centered at [631.6959 792.5859]\n",
      "point: [224.25777537 619.01114867] is in cluster 4 centered at [240.76158 793.7662 ]\n",
      "point: [529.5733129  561.60296574] is in cluster 2 centered at [631.6959 792.5859]\n",
      "point: [747.38099954 855.70467787] is in cluster 2 centered at [631.6959 792.5859]\n",
      "point: [581.16263816  61.75920116] is in cluster 1 centered at [760.9083  284.38184]\n",
      "point: [  9.70017113 617.09314176] is in cluster 4 centered at [240.76158 793.7662 ]\n",
      "point: [219.72474803 930.46285556] is in cluster 4 centered at [240.76158 793.7662 ]\n",
      "point: [334.82640204 845.5217293 ] is in cluster 4 centered at [240.76158 793.7662 ]\n",
      "point: [955.89631134 453.83936415] is in cluster 1 centered at [760.9083  284.38184]\n",
      "point: [191.03686138 708.1922718 ] is in cluster 4 centered at [240.76158 793.7662 ]\n",
      "point: [366.78513033 954.00405763] is in cluster 4 centered at [240.76158 793.7662 ]\n",
      "point: [158.00566425 445.97540689] is in cluster 3 centered at [234.63187 296.65164]\n",
      "point: [877.07951988 469.34561915] is in cluster 1 centered at [760.9083  284.38184]\n",
      "point: [564.03368254 455.89802392] is in cluster 1 centered at [760.9083  284.38184]\n",
      "point: [986.21894091 589.58878593] is in cluster 0 centered at [912.7798 753.2066]\n",
      "point: [427.00074612 732.51395139] is in cluster 4 centered at [240.76158 793.7662 ]\n",
      "point: [35.00945166 90.19649151] is in cluster 3 centered at [234.63187 296.65164]\n",
      "point: [ 11.85749758 118.28891571] is in cluster 3 centered at [234.63187 296.65164]\n",
      "point: [240.44760537 907.23779133] is in cluster 4 centered at [240.76158 793.7662 ]\n",
      "point: [934.80318574 952.65879694] is in cluster 0 centered at [912.7798 753.2066]\n",
      "point: [242.58634271 455.49163868] is in cluster 3 centered at [234.63187 296.65164]\n",
      "point: [681.40054522  79.47655155] is in cluster 1 centered at [760.9083  284.38184]\n",
      "point: [ 98.35204738 968.63529392] is in cluster 4 centered at [240.76158 793.7662 ]\n",
      "point: [806.35202899 278.59082514] is in cluster 1 centered at [760.9083  284.38184]\n",
      "point: [251.02226933 455.01136449] is in cluster 3 centered at [234.63187 296.65164]\n",
      "point: [972.41794079 316.66535024] is in cluster 1 centered at [760.9083  284.38184]\n",
      "point: [7.81548216e+02 7.61334596e-01] is in cluster 1 centered at [760.9083  284.38184]\n",
      "point: [653.32344298 490.69343089] is in cluster 1 centered at [760.9083  284.38184]\n",
      "point: [430.75028494 658.72471551] is in cluster 4 centered at [240.76158 793.7662 ]\n",
      "point: [536.37865693 294.09013807] is in cluster 1 centered at [760.9083  284.38184]\n",
      "point: [249.67949913 767.60384619] is in cluster 4 centered at [240.76158 793.7662 ]\n",
      "point: [646.28493829 164.94600701] is in cluster 1 centered at [760.9083  284.38184]\n",
      "point: [588.4251267  909.88779898] is in cluster 2 centered at [631.6959 792.5859]\n",
      "point: [536.79565777 825.5346274 ] is in cluster 2 centered at [631.6959 792.5859]\n"
     ]
    }
   ],
   "source": [
    "num_points = 100\n",
    "dimensions = 2\n",
    "points = np.random.uniform(0, 1000, [num_points, dimensions])\n",
    "\n",
    "def input_fn():\n",
    "    return tf.train.limit_epochs(\n",
    "        tf.convert_to_tensor(points, dtype=tf.float32), num_epochs=1)\n",
    "\n",
    "num_clusters = 5\n",
    "kmeans = tf.contrib.factorization.KMeansClustering(\n",
    "    num_clusters=num_clusters, use_mini_batch=False)\n",
    "\n",
    "# train\n",
    "num_iterations = 10\n",
    "previous_centers = None\n",
    "for _ in range(num_iterations):\n",
    "    kmeans.train(input_fn)\n",
    "    cluster_centers = kmeans.cluster_centers()\n",
    "    if previous_centers is not None:\n",
    "        print('delta:', cluster_centers - previous_centers)\n",
    "    previous_centers = cluster_centers\n",
    "    print ('score:', kmeans.score(input_fn))\n",
    "print ('cluster centers:', cluster_centers)\n",
    "\n",
    "# map the input points to their clusters\n",
    "cluster_indices = list(kmeans.predict_cluster_index(input_fn))\n",
    "for i, point in enumerate(points):\n",
    "    cluster_index = cluster_indices[i]\n",
    "    center = cluster_centers[cluster_index]\n",
    "    print('point:', point, 'is in cluster', cluster_index, 'centered at', center)"
   ]
  },
  {
   "cell_type": "code",
   "execution_count": null,
   "metadata": {
    "collapsed": true
   },
   "outputs": [],
   "source": []
  },
  {
   "cell_type": "code",
   "execution_count": 3,
   "metadata": {
    "collapsed": true
   },
   "outputs": [],
   "source": [
    "def wordToDicGen(tokenizer, char_filters, token_filters):\n",
    "    def wordToDic(text):\n",
    "        dic = dict()\n",
    "        for token in Analyzer(char_filters, tokenizer, token_filters).analyze(text):\n",
    "            dic[token.base_form] = 1\n",
    "        return dic\n",
    "    return wordToDic"
   ]
  },
  {
   "cell_type": "code",
   "execution_count": 4,
   "metadata": {
    "collapsed": true
   },
   "outputs": [],
   "source": [
    "def keyWithIndex(dic: dict):\n",
    "    retdic = dict()\n",
    "    i = 0\n",
    "    for key in sorted(dic.keys()):\n",
    "        retdic[key] = i\n",
    "        i += 1\n",
    "    return retdic"
   ]
  },
  {
   "cell_type": "code",
   "execution_count": 5,
   "metadata": {
    "collapsed": true
   },
   "outputs": [],
   "source": [
    "def dicToVec(index_dic, target_dic):\n",
    "    resultVec = np.zeros(len(index_dic))\n",
    "    for key in sorted(target_dic):\n",
    "        if key in index_dic:\n",
    "            resultVec[index_dic[key]] = 1.0\n",
    "    return resultVec"
   ]
  },
  {
   "cell_type": "code",
   "execution_count": 6,
   "metadata": {
    "collapsed": true
   },
   "outputs": [],
   "source": [
    "char_filters = [UnicodeNormalizeCharFilter()]\n",
    "tokenizer = Tokenizer()\n",
    "token_filters = [CompoundNounFilter(), POSStopFilter(['記号','助詞', '助動詞', '助動詞']), LowerCaseFilter()]\n",
    "wordToDic = wordToDicGen(tokenizer, char_filters, token_filters)"
   ]
  },
  {
   "cell_type": "code",
   "execution_count": 7,
   "metadata": {
    "collapsed": true
   },
   "outputs": [],
   "source": [
    "def mergeCountDic(someDic, newDic):\n",
    "    for key in newDic:\n",
    "        if key in someDic:\n",
    "            someDic[key] = someDic[key] + 1\n",
    "        else:\n",
    "            someDic[key] = 1\n",
    "    return someDic"
   ]
  },
  {
   "cell_type": "code",
   "execution_count": 8,
   "metadata": {
    "collapsed": true
   },
   "outputs": [],
   "source": [
    "def dicCountFilter(min, max,  dic):\n",
    "    resultDic = dict()\n",
    "    for key in dic:\n",
    "        if dic[key] >= min and dic[key] < max:\n",
    "            resultDic[key] = 1\n",
    "    return resultDic"
   ]
  },
  {
   "cell_type": "code",
   "execution_count": 9,
   "metadata": {
    "collapsed": true
   },
   "outputs": [],
   "source": [
    "def textToVec(textList: list, wordToDic):\n",
    "    someDic = dict()\n",
    "    textDicList = list()\n",
    "    for text in textList:\n",
    "        textDic = wordToDic(text)\n",
    "        someDic = mergeCountDic(someDic, textDic)\n",
    "        textDicList.append(textDic)\n",
    "    indexDic = keyWithIndex(dicCountFilter(4, 8, someDic))\n",
    "    return indexDic, np.vstack((list(map(lambda textDic: dicToVec(indexDic, textDic), textDicList))))"
   ]
  },
  {
   "cell_type": "code",
   "execution_count": 10,
   "metadata": {
    "collapsed": true
   },
   "outputs": [],
   "source": [
    "def input_fn_gen(textVec):\n",
    "    def input_fn():\n",
    "        return tf.train.limit_epochs(\n",
    "            tf.convert_to_tensor(textVec, dtype=tf.float32), num_epochs=30)\n",
    "    return input_fn"
   ]
  },
  {
   "cell_type": "code",
   "execution_count": 11,
   "metadata": {
    "collapsed": true
   },
   "outputs": [],
   "source": [
    "def train_model(num_clusters, input_fn):\n",
    "    kmeans = tf.contrib.factorization.KMeansClustering(num_clusters=num_clusters, use_mini_batch=False)\n",
    "    # train\n",
    "    num_iterations = 10\n",
    "    previous_centers = None\n",
    "    for _ in range(num_iterations):\n",
    "        kmeans.train(input_fn)\n",
    "        cluster_centers = kmeans.cluster_centers()\n",
    "        previous_centers = cluster_centers\n",
    "    return kmeans, cluster_centers"
   ]
  },
  {
   "cell_type": "code",
   "execution_count": 12,
   "metadata": {
    "collapsed": true
   },
   "outputs": [],
   "source": [
    "def showResult(kmeans, cluster_centers, input_fn, textVec):\n",
    "    # map the input points to their clusters\n",
    "    cluster_indices = list(kmeans.predict_cluster_index(input_fn))\n",
    "    for i, point in enumerate(textVec):\n",
    "        cluster_index = cluster_indices[i]\n",
    "        print('index:', i, 'is in cluster', cluster_index)"
   ]
  },
  {
   "cell_type": "code",
   "execution_count": null,
   "metadata": {
    "collapsed": true
   },
   "outputs": [],
   "source": []
  },
  {
   "cell_type": "code",
   "execution_count": 13,
   "metadata": {
    "collapsed": true
   },
   "outputs": [],
   "source": [
    "keizaiNews = list()\n",
    "for i in range(10):\n",
    "    keizaiNews.append(open(\"news/keizai_\"  + '{:02}'.format(i+1) + \".txt\", \"r\").read())"
   ]
  },
  {
   "cell_type": "code",
   "execution_count": 14,
   "metadata": {
    "collapsed": true
   },
   "outputs": [],
   "source": [
    "spoNews = list()\n",
    "for i in range(10):\n",
    "    spoNews.append(open(\"news/spo_\"  + '{:02}'.format(i+1) + \".txt\", \"r\").read())"
   ]
  },
  {
   "cell_type": "code",
   "execution_count": 15,
   "metadata": {
    "collapsed": true
   },
   "outputs": [],
   "source": [
    "someList = list()\n",
    "someList.extend(keizaiNews)\n",
    "someList.extend(spoNews)"
   ]
  },
  {
   "cell_type": "code",
   "execution_count": 16,
   "metadata": {},
   "outputs": [
    {
     "data": {
      "text/plain": [
       "20"
      ]
     },
     "execution_count": 16,
     "metadata": {},
     "output_type": "execute_result"
    }
   ],
   "source": [
    "len(someList)"
   ]
  },
  {
   "cell_type": "code",
   "execution_count": 17,
   "metadata": {
    "collapsed": true
   },
   "outputs": [],
   "source": [
    "indexDic, textVec = textToVec(someList, wordToDic)"
   ]
  },
  {
   "cell_type": "code",
   "execution_count": 18,
   "metadata": {
    "scrolled": true
   },
   "outputs": [
    {
     "data": {
      "text/plain": [
       "{'いう': 0,\n",
       " 'いく': 1,\n",
       " 'おる': 2,\n",
       " 'かける': 3,\n",
       " 'この': 4,\n",
       " 'せる': 5,\n",
       " 'そして': 6,\n",
       " 'その': 7,\n",
       " 'できる': 8,\n",
       " 'もの': 9,\n",
       " 'よう': 10,\n",
       " 'られる': 11,\n",
       " 'わけ': 12,\n",
       " 'チーム': 13,\n",
       " '一方': 14,\n",
       " '中': 15,\n",
       " '今': 16,\n",
       " '出る': 17,\n",
       " '出場': 18,\n",
       " '受ける': 19,\n",
       " '同じ': 20,\n",
       " '多く': 21,\n",
       " '大会': 22,\n",
       " '強い': 23,\n",
       " '思う': 24,\n",
       " '日本': 25,\n",
       " '決める': 26,\n",
       " '決勝トーナメント': 27,\n",
       " '発表': 28,\n",
       " '第': 29,\n",
       " '結果': 30,\n",
       " '行う': 31,\n",
       " '試合': 32,\n",
       " '語る': 33,\n",
       " '選手': 34,\n",
       " '開く': 35,\n",
       " '開幕': 36}"
      ]
     },
     "execution_count": 18,
     "metadata": {},
     "output_type": "execute_result"
    }
   ],
   "source": [
    "indexDic"
   ]
  },
  {
   "cell_type": "code",
   "execution_count": 21,
   "metadata": {},
   "outputs": [
    {
     "data": {
      "text/plain": [
       "array([0., 0., 0., 0., 0., 0., 0., 0., 0., 0., 0., 0., 0., 0., 0., 0., 0.,\n",
       "       0., 0., 1., 0., 0., 0., 0., 0., 0., 0., 0., 0., 0., 0., 0., 0., 1.,\n",
       "       0., 0., 0.])"
      ]
     },
     "execution_count": 21,
     "metadata": {},
     "output_type": "execute_result"
    }
   ],
   "source": [
    "textVec[1]"
   ]
  },
  {
   "cell_type": "code",
   "execution_count": 22,
   "metadata": {},
   "outputs": [
    {
     "data": {
      "text/plain": [
       "array([1., 1., 0., 1., 0., 1., 1., 1., 1., 1., 1., 1., 1., 1., 1., 1., 1.,\n",
       "       1., 0., 0., 1., 0., 0., 1., 1., 1., 1., 1., 0., 1., 0., 0., 1., 1.,\n",
       "       1., 0., 0.])"
      ]
     },
     "execution_count": 22,
     "metadata": {},
     "output_type": "execute_result"
    }
   ],
   "source": [
    "textVec[11]"
   ]
  },
  {
   "cell_type": "code",
   "execution_count": 23,
   "metadata": {},
   "outputs": [
    {
     "data": {
      "text/plain": [
       "array([0., 0., 0., 0., 1., 0., 0., 0., 0., 0., 0., 0., 0., 0., 1., 0., 0.,\n",
       "       0., 0., 0., 0., 0., 0., 0., 0., 1., 0., 0., 0., 1., 1., 1., 0., 0.,\n",
       "       0., 0., 0.])"
      ]
     },
     "execution_count": 23,
     "metadata": {},
     "output_type": "execute_result"
    }
   ],
   "source": [
    "textVec[12]"
   ]
  },
  {
   "cell_type": "code",
   "execution_count": 19,
   "metadata": {
    "scrolled": true
   },
   "outputs": [
    {
     "name": "stdout",
     "output_type": "stream",
     "text": [
      "INFO:tensorflow:Using default config.\n",
      "WARNING:tensorflow:Using temporary folder as model directory: /var/folders/jt/w9n_rnhj61xgp3xvr_8mtjvr0000gn/T/tmpvbjwpsvv\n",
      "INFO:tensorflow:Using config: {'_model_dir': '/var/folders/jt/w9n_rnhj61xgp3xvr_8mtjvr0000gn/T/tmpvbjwpsvv', '_tf_random_seed': None, '_save_summary_steps': 100, '_save_checkpoints_steps': None, '_save_checkpoints_secs': 600, '_session_config': None, '_keep_checkpoint_max': 5, '_keep_checkpoint_every_n_hours': 10000, '_log_step_count_steps': 100, '_train_distribute': None, '_service': None, '_cluster_spec': <tensorflow.python.training.server_lib.ClusterSpec object at 0x12c8b2320>, '_task_type': 'worker', '_task_id': 0, '_global_id_in_cluster': 0, '_master': '', '_evaluation_master': '', '_is_chief': True, '_num_ps_replicas': 0, '_num_worker_replicas': 1}\n",
      "INFO:tensorflow:Calling model_fn.\n",
      "INFO:tensorflow:Done calling model_fn.\n",
      "INFO:tensorflow:Create CheckpointSaverHook.\n",
      "INFO:tensorflow:Graph was finalized.\n",
      "INFO:tensorflow:Running local_init_op.\n",
      "INFO:tensorflow:Done running local_init_op.\n",
      "INFO:tensorflow:Saving checkpoints for 1 into /var/folders/jt/w9n_rnhj61xgp3xvr_8mtjvr0000gn/T/tmpvbjwpsvv/model.ckpt.\n",
      "INFO:tensorflow:loss = 137.0, step = 1\n",
      "INFO:tensorflow:Saving checkpoints for 30 into /var/folders/jt/w9n_rnhj61xgp3xvr_8mtjvr0000gn/T/tmpvbjwpsvv/model.ckpt.\n",
      "INFO:tensorflow:Loss for final step: 87.33333.\n",
      "INFO:tensorflow:Calling model_fn.\n",
      "INFO:tensorflow:Done calling model_fn.\n",
      "INFO:tensorflow:Create CheckpointSaverHook.\n",
      "INFO:tensorflow:Graph was finalized.\n",
      "INFO:tensorflow:Restoring parameters from /var/folders/jt/w9n_rnhj61xgp3xvr_8mtjvr0000gn/T/tmpvbjwpsvv/model.ckpt-30\n",
      "INFO:tensorflow:Running local_init_op.\n",
      "INFO:tensorflow:Done running local_init_op.\n",
      "INFO:tensorflow:Saving checkpoints for 31 into /var/folders/jt/w9n_rnhj61xgp3xvr_8mtjvr0000gn/T/tmpvbjwpsvv/model.ckpt.\n",
      "INFO:tensorflow:loss = 87.33333, step = 31\n",
      "INFO:tensorflow:Saving checkpoints for 61 into /var/folders/jt/w9n_rnhj61xgp3xvr_8mtjvr0000gn/T/tmpvbjwpsvv/model.ckpt.\n",
      "INFO:tensorflow:Loss for final step: 87.33333.\n",
      "INFO:tensorflow:Calling model_fn.\n",
      "INFO:tensorflow:Done calling model_fn.\n",
      "INFO:tensorflow:Create CheckpointSaverHook.\n",
      "INFO:tensorflow:Graph was finalized.\n",
      "INFO:tensorflow:Restoring parameters from /var/folders/jt/w9n_rnhj61xgp3xvr_8mtjvr0000gn/T/tmpvbjwpsvv/model.ckpt-61\n",
      "INFO:tensorflow:Running local_init_op.\n",
      "INFO:tensorflow:Done running local_init_op.\n",
      "INFO:tensorflow:Saving checkpoints for 62 into /var/folders/jt/w9n_rnhj61xgp3xvr_8mtjvr0000gn/T/tmpvbjwpsvv/model.ckpt.\n",
      "INFO:tensorflow:loss = 87.33333, step = 62\n",
      "INFO:tensorflow:Saving checkpoints for 92 into /var/folders/jt/w9n_rnhj61xgp3xvr_8mtjvr0000gn/T/tmpvbjwpsvv/model.ckpt.\n",
      "INFO:tensorflow:Loss for final step: 87.33333.\n",
      "INFO:tensorflow:Calling model_fn.\n",
      "INFO:tensorflow:Done calling model_fn.\n",
      "INFO:tensorflow:Create CheckpointSaverHook.\n",
      "INFO:tensorflow:Graph was finalized.\n",
      "INFO:tensorflow:Restoring parameters from /var/folders/jt/w9n_rnhj61xgp3xvr_8mtjvr0000gn/T/tmpvbjwpsvv/model.ckpt-92\n",
      "INFO:tensorflow:Running local_init_op.\n",
      "INFO:tensorflow:Done running local_init_op.\n",
      "INFO:tensorflow:Saving checkpoints for 93 into /var/folders/jt/w9n_rnhj61xgp3xvr_8mtjvr0000gn/T/tmpvbjwpsvv/model.ckpt.\n",
      "INFO:tensorflow:loss = 87.33333, step = 93\n",
      "INFO:tensorflow:Saving checkpoints for 123 into /var/folders/jt/w9n_rnhj61xgp3xvr_8mtjvr0000gn/T/tmpvbjwpsvv/model.ckpt.\n",
      "INFO:tensorflow:Loss for final step: 87.33333.\n",
      "INFO:tensorflow:Calling model_fn.\n",
      "INFO:tensorflow:Done calling model_fn.\n",
      "INFO:tensorflow:Create CheckpointSaverHook.\n",
      "INFO:tensorflow:Graph was finalized.\n",
      "INFO:tensorflow:Restoring parameters from /var/folders/jt/w9n_rnhj61xgp3xvr_8mtjvr0000gn/T/tmpvbjwpsvv/model.ckpt-123\n",
      "INFO:tensorflow:Running local_init_op.\n",
      "INFO:tensorflow:Done running local_init_op.\n",
      "INFO:tensorflow:Saving checkpoints for 124 into /var/folders/jt/w9n_rnhj61xgp3xvr_8mtjvr0000gn/T/tmpvbjwpsvv/model.ckpt.\n",
      "INFO:tensorflow:loss = 87.33333, step = 124\n",
      "INFO:tensorflow:Saving checkpoints for 154 into /var/folders/jt/w9n_rnhj61xgp3xvr_8mtjvr0000gn/T/tmpvbjwpsvv/model.ckpt.\n",
      "INFO:tensorflow:Loss for final step: 87.33333.\n",
      "INFO:tensorflow:Calling model_fn.\n",
      "INFO:tensorflow:Done calling model_fn.\n",
      "INFO:tensorflow:Create CheckpointSaverHook.\n",
      "INFO:tensorflow:Graph was finalized.\n",
      "INFO:tensorflow:Restoring parameters from /var/folders/jt/w9n_rnhj61xgp3xvr_8mtjvr0000gn/T/tmpvbjwpsvv/model.ckpt-154\n",
      "INFO:tensorflow:Running local_init_op.\n",
      "INFO:tensorflow:Done running local_init_op.\n",
      "INFO:tensorflow:Saving checkpoints for 155 into /var/folders/jt/w9n_rnhj61xgp3xvr_8mtjvr0000gn/T/tmpvbjwpsvv/model.ckpt.\n",
      "INFO:tensorflow:loss = 87.33333, step = 155\n",
      "INFO:tensorflow:Saving checkpoints for 185 into /var/folders/jt/w9n_rnhj61xgp3xvr_8mtjvr0000gn/T/tmpvbjwpsvv/model.ckpt.\n",
      "INFO:tensorflow:Loss for final step: 87.33333.\n",
      "INFO:tensorflow:Calling model_fn.\n",
      "INFO:tensorflow:Done calling model_fn.\n",
      "INFO:tensorflow:Create CheckpointSaverHook.\n",
      "INFO:tensorflow:Graph was finalized.\n",
      "INFO:tensorflow:Restoring parameters from /var/folders/jt/w9n_rnhj61xgp3xvr_8mtjvr0000gn/T/tmpvbjwpsvv/model.ckpt-185\n",
      "INFO:tensorflow:Running local_init_op.\n",
      "INFO:tensorflow:Done running local_init_op.\n",
      "INFO:tensorflow:Saving checkpoints for 186 into /var/folders/jt/w9n_rnhj61xgp3xvr_8mtjvr0000gn/T/tmpvbjwpsvv/model.ckpt.\n",
      "INFO:tensorflow:loss = 87.33333, step = 186\n",
      "INFO:tensorflow:Saving checkpoints for 216 into /var/folders/jt/w9n_rnhj61xgp3xvr_8mtjvr0000gn/T/tmpvbjwpsvv/model.ckpt.\n",
      "INFO:tensorflow:Loss for final step: 87.33333.\n",
      "INFO:tensorflow:Calling model_fn.\n",
      "INFO:tensorflow:Done calling model_fn.\n",
      "INFO:tensorflow:Create CheckpointSaverHook.\n",
      "INFO:tensorflow:Graph was finalized.\n",
      "INFO:tensorflow:Restoring parameters from /var/folders/jt/w9n_rnhj61xgp3xvr_8mtjvr0000gn/T/tmpvbjwpsvv/model.ckpt-216\n",
      "INFO:tensorflow:Running local_init_op.\n",
      "INFO:tensorflow:Done running local_init_op.\n",
      "INFO:tensorflow:Saving checkpoints for 217 into /var/folders/jt/w9n_rnhj61xgp3xvr_8mtjvr0000gn/T/tmpvbjwpsvv/model.ckpt.\n",
      "INFO:tensorflow:loss = 87.33333, step = 217\n",
      "INFO:tensorflow:Saving checkpoints for 247 into /var/folders/jt/w9n_rnhj61xgp3xvr_8mtjvr0000gn/T/tmpvbjwpsvv/model.ckpt.\n",
      "INFO:tensorflow:Loss for final step: 87.33333.\n",
      "INFO:tensorflow:Calling model_fn.\n",
      "INFO:tensorflow:Done calling model_fn.\n",
      "INFO:tensorflow:Create CheckpointSaverHook.\n",
      "INFO:tensorflow:Graph was finalized.\n",
      "INFO:tensorflow:Restoring parameters from /var/folders/jt/w9n_rnhj61xgp3xvr_8mtjvr0000gn/T/tmpvbjwpsvv/model.ckpt-247\n",
      "INFO:tensorflow:Running local_init_op.\n",
      "INFO:tensorflow:Done running local_init_op.\n",
      "INFO:tensorflow:Saving checkpoints for 248 into /var/folders/jt/w9n_rnhj61xgp3xvr_8mtjvr0000gn/T/tmpvbjwpsvv/model.ckpt.\n",
      "INFO:tensorflow:loss = 87.33333, step = 248\n",
      "INFO:tensorflow:Saving checkpoints for 278 into /var/folders/jt/w9n_rnhj61xgp3xvr_8mtjvr0000gn/T/tmpvbjwpsvv/model.ckpt.\n",
      "INFO:tensorflow:Loss for final step: 87.33333.\n",
      "INFO:tensorflow:Calling model_fn.\n",
      "INFO:tensorflow:Done calling model_fn.\n",
      "INFO:tensorflow:Create CheckpointSaverHook.\n",
      "INFO:tensorflow:Graph was finalized.\n",
      "INFO:tensorflow:Restoring parameters from /var/folders/jt/w9n_rnhj61xgp3xvr_8mtjvr0000gn/T/tmpvbjwpsvv/model.ckpt-278\n",
      "INFO:tensorflow:Running local_init_op.\n",
      "INFO:tensorflow:Done running local_init_op.\n",
      "INFO:tensorflow:Saving checkpoints for 279 into /var/folders/jt/w9n_rnhj61xgp3xvr_8mtjvr0000gn/T/tmpvbjwpsvv/model.ckpt.\n",
      "INFO:tensorflow:loss = 87.33333, step = 279\n",
      "INFO:tensorflow:Saving checkpoints for 309 into /var/folders/jt/w9n_rnhj61xgp3xvr_8mtjvr0000gn/T/tmpvbjwpsvv/model.ckpt.\n",
      "INFO:tensorflow:Loss for final step: 87.33333.\n",
      "WARNING:tensorflow:Input graph does not use tf.data.Dataset or contain a QueueRunner. That means predict yields forever. This is probably a mistake.\n",
      "INFO:tensorflow:Calling model_fn.\n",
      "INFO:tensorflow:Done calling model_fn.\n",
      "INFO:tensorflow:Graph was finalized.\n",
      "INFO:tensorflow:Restoring parameters from /var/folders/jt/w9n_rnhj61xgp3xvr_8mtjvr0000gn/T/tmpvbjwpsvv/model.ckpt-309\n",
      "INFO:tensorflow:Running local_init_op.\n",
      "INFO:tensorflow:Done running local_init_op.\n",
      "index: 0 is in cluster 0\n",
      "index: 1 is in cluster 0\n",
      "index: 2 is in cluster 0\n",
      "index: 3 is in cluster 0\n",
      "index: 4 is in cluster 0\n",
      "index: 5 is in cluster 0\n",
      "index: 6 is in cluster 0\n",
      "index: 7 is in cluster 0\n",
      "index: 8 is in cluster 0\n",
      "index: 9 is in cluster 0\n",
      "index: 10 is in cluster 1\n",
      "index: 11 is in cluster 1\n",
      "index: 12 is in cluster 0\n",
      "index: 13 is in cluster 0\n",
      "index: 14 is in cluster 1\n",
      "index: 15 is in cluster 0\n",
      "index: 16 is in cluster 0\n",
      "index: 17 is in cluster 1\n",
      "index: 18 is in cluster 1\n",
      "index: 19 is in cluster 0\n"
     ]
    }
   ],
   "source": [
    "input_fn = input_fn_gen(textVec)\n",
    "kmeans, cluster_centers =  train_model(2, input_fn)\n",
    "showResult(kmeans, cluster_centers, input_fn, textVec)"
   ]
  },
  {
   "cell_type": "code",
   "execution_count": null,
   "metadata": {
    "collapsed": true
   },
   "outputs": [],
   "source": []
  },
  {
   "cell_type": "code",
   "execution_count": null,
   "metadata": {
    "collapsed": true
   },
   "outputs": [],
   "source": []
  },
  {
   "cell_type": "code",
   "execution_count": null,
   "metadata": {
    "collapsed": true
   },
   "outputs": [],
   "source": []
  }
 ],
 "metadata": {
  "kernelspec": {
   "display_name": "Python 3",
   "language": "python",
   "name": "python3"
  },
  "language_info": {
   "codemirror_mode": {
    "name": "ipython",
    "version": 3
   },
   "file_extension": ".py",
   "mimetype": "text/x-python",
   "name": "python",
   "nbconvert_exporter": "python",
   "pygments_lexer": "ipython3",
   "version": "3.6.1"
  }
 },
 "nbformat": 4,
 "nbformat_minor": 2
}
