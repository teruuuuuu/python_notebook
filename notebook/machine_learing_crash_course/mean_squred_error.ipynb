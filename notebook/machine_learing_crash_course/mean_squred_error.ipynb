{
 "cells": [
  {
   "cell_type": "code",
   "execution_count": 1,
   "metadata": {
    "collapsed": true
   },
   "outputs": [],
   "source": [
    "import matplotlib.pyplot as plt\n",
    "%matplotlib inline"
   ]
  },
  {
   "cell_type": "code",
   "execution_count": 2,
   "metadata": {
    "collapsed": true
   },
   "outputs": [],
   "source": [
    "from numpy.random import *\n",
    "import numpy as np"
   ]
  },
  {
   "cell_type": "code",
   "execution_count": 3,
   "metadata": {
    "collapsed": true
   },
   "outputs": [],
   "source": [
    "# テストデータ生成用関数\n",
    "def test_data_generator(w,b,n):\n",
    "    test_data_calcu = lambda w, b, n: lambda x : {\"x\": x, \"y\": w * x + b + rand(1)[0] * n - n/2}\n",
    "    return test_data_calcu(w, b, n)"
   ]
  },
  {
   "cell_type": "code",
   "execution_count": 4,
   "metadata": {},
   "outputs": [
    {
     "data": {
      "image/png": "[encoded data removed]",
      "text/plain": [
       "<Figure size 432x288 with 1 Axes>"
      ]
     },
     "metadata": {},
     "output_type": "display_data"
    }
   ],
   "source": [
    "# テストデータの作成\n",
    "test_data_maker = test_data_generator(5, 2, 30)\n",
    "data = list(map(test_data_maker, rand(30) * 50))\n",
    "X = list(map(lambda d: d[\"x\"], data))\n",
    "Y = list(map(lambda d: d[\"y\"], data))\n",
    "\n",
    "plt.plot(X, Y, 'o')\n",
    "plt.show()"
   ]
  },
  {
   "cell_type": "code",
   "execution_count": null,
   "metadata": {
    "collapsed": true
   },
   "outputs": [],
   "source": []
  },
  {
   "cell_type": "code",
   "execution_count": 5,
   "metadata": {
    "collapsed": true
   },
   "outputs": [],
   "source": [
    "# 単純な線形回帰モデル用関数\n",
    "def simple_liner_model(w,b):\n",
    "    test_data_calcu = lambda w, b: lambda x :  w * x + b\n",
    "    return test_data_calcu(w, b)"
   ]
  },
  {
   "cell_type": "code",
   "execution_count": 6,
   "metadata": {
    "collapsed": true
   },
   "outputs": [],
   "source": [
    "# 平均二乗誤差（Mean square error）を計算\n",
    "def ms_error(test_data, f):\n",
    "    err = 0.0\n",
    "    for data in test_data:\n",
    "        err += (data[\"y\"] - f(data[\"x\"]))**2\n",
    "    return  err / len(test_data)"
   ]
  },
  {
   "cell_type": "code",
   "execution_count": 7,
   "metadata": {},
   "outputs": [
    {
     "data": {
      "text/plain": [
       "3482.1644710066607"
      ]
     },
     "execution_count": 7,
     "metadata": {},
     "output_type": "execute_result"
    }
   ],
   "source": [
    "# 実際のものと差があるモデルで損失を計算\n",
    "first_model = simple_liner_model(3,1)\n",
    "ms_error(data, first_model)"
   ]
  },
  {
   "cell_type": "code",
   "execution_count": 8,
   "metadata": {},
   "outputs": [
    {
     "data": {
      "text/plain": [
       "80.35375038835218"
      ]
     },
     "execution_count": 8,
     "metadata": {},
     "output_type": "execute_result"
    }
   ],
   "source": [
    "# 正しいモデルで損失を計算\n",
    "answer_model = simple_liner_model(5,2)\n",
    "ms_error(data, answer_model)"
   ]
  },
  {
   "cell_type": "code",
   "execution_count": 9,
   "metadata": {},
   "outputs": [
    {
     "data": {
      "image/png": "[encoded data removed]",
      "text/plain": [
       "<Figure size 432x288 with 1 Axes>"
      ]
     },
     "metadata": {},
     "output_type": "display_data"
    }
   ],
   "source": [
    "# それぞれ図示してみる\n",
    "x = np.linspace(0,50)  \n",
    "plt.plot(x,list(map(first_model, x)),\"r-\") \n",
    "plt.plot(x,list(map(answer_model, x)),\"b-\") \n",
    "plt.plot(X, Y, 'o')\n",
    "plt.show()"
   ]
  },
  {
   "cell_type": "code",
   "execution_count": null,
   "metadata": {
    "collapsed": true
   },
   "outputs": [],
   "source": []
  }
 ],
 "metadata": {
  "kernelspec": {
   "display_name": "Python 3",
   "language": "python",
   "name": "python3"
  },
  "language_info": {
   "codemirror_mode": {
    "name": "ipython",
    "version": 3
   },
   "file_extension": ".py",
   "mimetype": "text/x-python",
   "name": "python",
   "nbconvert_exporter": "python",
   "pygments_lexer": "ipython3",
   "version": "3.6.1"
  }
 },
 "nbformat": 4,
 "nbformat_minor": 1
}
