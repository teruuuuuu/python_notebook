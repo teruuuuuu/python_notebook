{
 "cells": [
  {
   "cell_type": "code",
   "execution_count": 1,
   "metadata": {
    "collapsed": true
   },
   "outputs": [],
   "source": [
    "%matplotlib inline\n",
    "import numpy as np\n",
    "import matplotlib.pyplot as plt\n",
    "import pandas as pd"
   ]
  },
  {
   "cell_type": "code",
   "execution_count": 2,
   "metadata": {},
   "outputs": [
    {
     "data": {
      "text/html": [
       "<div>\n",
       "<style>\n",
       "    .dataframe thead tr:only-child th {\n",
       "        text-align: right;\n",
       "    }\n",
       "\n",
       "    .dataframe thead th {\n",
       "        text-align: left;\n",
       "    }\n",
       "\n",
       "    .dataframe tbody tr th {\n",
       "        vertical-align: top;\n",
       "    }\n",
       "</style>\n",
       "<table border=\"1\" class=\"dataframe\">\n",
       "  <thead>\n",
       "    <tr style=\"text-align: right;\">\n",
       "      <th></th>\n",
       "      <th>x</th>\n",
       "      <th>y</th>\n",
       "    </tr>\n",
       "  </thead>\n",
       "  <tbody>\n",
       "    <tr>\n",
       "      <th>0</th>\n",
       "      <td>40.362</td>\n",
       "      <td>137500.0</td>\n",
       "    </tr>\n",
       "    <tr>\n",
       "      <th>1</th>\n",
       "      <td>40.686</td>\n",
       "      <td>132500.0</td>\n",
       "    </tr>\n",
       "    <tr>\n",
       "      <th>2</th>\n",
       "      <td>38.430</td>\n",
       "      <td>93000.0</td>\n",
       "    </tr>\n",
       "  </tbody>\n",
       "</table>\n",
       "</div>"
      ],
      "text/plain": [
       "        x         y\n",
       "0  40.362  137500.0\n",
       "1  40.686  132500.0\n",
       "2  38.430   93000.0"
      ]
     },
     "execution_count": 2,
     "metadata": {},
     "output_type": "execute_result"
    }
   ],
   "source": [
    "df = pd.read_csv('tankaiki_housing.csv')\n",
    "df.head(3)"
   ]
  },
  {
   "cell_type": "code",
   "execution_count": 3,
   "metadata": {},
   "outputs": [
    {
     "data": {
      "text/plain": [
       "<matplotlib.axes._subplots.AxesSubplot at 0x116dc3320>"
      ]
     },
     "execution_count": 3,
     "metadata": {},
     "output_type": "execute_result"
    },
    {
     "data": {
      "image/png": "[encoded data removed]",
      "text/plain": [
       "<Figure size 432x288 with 1 Axes>"
      ]
     },
     "metadata": {},
     "output_type": "display_data"
    }
   ],
   "source": [
    "df.plot(kind='scatter', x='x', y='y', color='blue' )"
   ]
  },
  {
   "cell_type": "code",
   "execution_count": 4,
   "metadata": {
    "collapsed": true
   },
   "outputs": [],
   "source": [
    "# 単純な線形回帰モデル用関数\n",
    "def simple_liner_model(w,b):\n",
    "    test_data_calcu = lambda w, b: lambda x :  w * x + b\n",
    "    return test_data_calcu(w, b)"
   ]
  },
  {
   "cell_type": "code",
   "execution_count": null,
   "metadata": {
    "collapsed": true
   },
   "outputs": [],
   "source": []
  },
  {
   "cell_type": "code",
   "execution_count": 5,
   "metadata": {
    "collapsed": true
   },
   "outputs": [],
   "source": [
    "df_x = pd.DataFrame(index=df.index, columns=[])\n",
    "df_x['b'] = 1\n",
    "df_x['x'] = df['x']"
   ]
  },
  {
   "cell_type": "code",
   "execution_count": 6,
   "metadata": {},
   "outputs": [
    {
     "data": {
      "text/html": [
       "<div>\n",
       "<style>\n",
       "    .dataframe thead tr:only-child th {\n",
       "        text-align: right;\n",
       "    }\n",
       "\n",
       "    .dataframe thead th {\n",
       "        text-align: left;\n",
       "    }\n",
       "\n",
       "    .dataframe tbody tr th {\n",
       "        vertical-align: top;\n",
       "    }\n",
       "</style>\n",
       "<table border=\"1\" class=\"dataframe\">\n",
       "  <thead>\n",
       "    <tr style=\"text-align: right;\">\n",
       "      <th></th>\n",
       "      <th>xy</th>\n",
       "      <th>x2</th>\n",
       "    </tr>\n",
       "  </thead>\n",
       "  <tbody>\n",
       "    <tr>\n",
       "      <th>0</th>\n",
       "      <td>5549775.0</td>\n",
       "      <td>1629.091044</td>\n",
       "    </tr>\n",
       "    <tr>\n",
       "      <th>1</th>\n",
       "      <td>5390895.0</td>\n",
       "      <td>1655.350596</td>\n",
       "    </tr>\n",
       "    <tr>\n",
       "      <th>2</th>\n",
       "      <td>3573990.0</td>\n",
       "      <td>1476.864900</td>\n",
       "    </tr>\n",
       "  </tbody>\n",
       "</table>\n",
       "</div>"
      ],
      "text/plain": [
       "          xy           x2\n",
       "0  5549775.0  1629.091044\n",
       "1  5390895.0  1655.350596\n",
       "2  3573990.0  1476.864900"
      ]
     },
     "execution_count": 6,
     "metadata": {},
     "output_type": "execute_result"
    }
   ],
   "source": [
    "df_calc1 = pd.DataFrame(index=df.index, columns=[])\n",
    "df_calc1['xy'] = df['x'] * df['y']\n",
    "df_calc1['x2'] = df['x'] * df['x']\n",
    "df_calc1.head(3)"
   ]
  },
  {
   "cell_type": "code",
   "execution_count": 7,
   "metadata": {},
   "outputs": [
    {
     "name": "stdout",
     "output_type": "stream",
     "text": [
      "sum xy :472128540.0\n",
      "sum x2 :143197.24014000004\n"
     ]
    },
    {
     "data": {
      "text/plain": [
       "array([   0.        , 3297.05055445])"
      ]
     },
     "execution_count": 7,
     "metadata": {},
     "output_type": "execute_result"
    }
   ],
   "source": [
    "print('sum xy :' + str(df_calc1['xy'].sum()))\n",
    "print('sum x2 :' + str(df_calc1['x2'].sum()))\n",
    "w=df_calc1['xy'].sum() / df_calc1['x2'].sum()\n",
    "ans1_model = np.array([0, w])\n",
    "ans1_model"
   ]
  },
  {
   "cell_type": "code",
   "execution_count": null,
   "metadata": {
    "collapsed": true
   },
   "outputs": [],
   "source": []
  },
  {
   "cell_type": "code",
   "execution_count": 8,
   "metadata": {},
   "outputs": [
    {
     "data": {
      "text/html": [
       "<div>\n",
       "<style>\n",
       "    .dataframe thead tr:only-child th {\n",
       "        text-align: right;\n",
       "    }\n",
       "\n",
       "    .dataframe thead th {\n",
       "        text-align: left;\n",
       "    }\n",
       "\n",
       "    .dataframe tbody tr th {\n",
       "        vertical-align: top;\n",
       "    }\n",
       "</style>\n",
       "<table border=\"1\" class=\"dataframe\">\n",
       "  <thead>\n",
       "    <tr style=\"text-align: right;\">\n",
       "      <th></th>\n",
       "      <th>y</th>\n",
       "      <th>signed_error</th>\n",
       "      <th>squered_error</th>\n",
       "    </tr>\n",
       "  </thead>\n",
       "  <tbody>\n",
       "    <tr>\n",
       "      <th>0</th>\n",
       "      <td>133075.554479</td>\n",
       "      <td>4424.445521</td>\n",
       "      <td>1.957572e+07</td>\n",
       "    </tr>\n",
       "    <tr>\n",
       "      <th>1</th>\n",
       "      <td>134143.798859</td>\n",
       "      <td>-1643.798859</td>\n",
       "      <td>2.702075e+06</td>\n",
       "    </tr>\n",
       "    <tr>\n",
       "      <th>2</th>\n",
       "      <td>126705.652808</td>\n",
       "      <td>-33705.652808</td>\n",
       "      <td>1.136071e+09</td>\n",
       "    </tr>\n",
       "  </tbody>\n",
       "</table>\n",
       "</div>"
      ],
      "text/plain": [
       "               y  signed_error  squered_error\n",
       "0  133075.554479   4424.445521   1.957572e+07\n",
       "1  134143.798859  -1643.798859   2.702075e+06\n",
       "2  126705.652808 -33705.652808   1.136071e+09"
      ]
     },
     "execution_count": 8,
     "metadata": {},
     "output_type": "execute_result"
    }
   ],
   "source": [
    "df_ans1 = pd.DataFrame(index=df.index, columns=[])\n",
    "df_ans1['y'] = np.dot(df_x, ans1_model.T)\n",
    "df_ans1['signed_error']  = df ['y'] - df_ans1['y']\n",
    "df_ans1['squered_error'] = df_ans1['signed_error'] * df_ans1['signed_error']\n",
    "df_ans1.head(3)"
   ]
  },
  {
   "cell_type": "code",
   "execution_count": 9,
   "metadata": {},
   "outputs": [
    {
     "data": {
      "image/png": "[encoded data removed]",
      "text/plain": [
       "<Figure size 432x288 with 1 Axes>"
      ]
     },
     "metadata": {},
     "output_type": "display_data"
    },
    {
     "name": "stdout",
     "output_type": "stream",
     "text": [
      "sum signed error :-2977.3613108246063\n",
      "mean squered error :1293550854.1901245\n"
     ]
    }
   ],
   "source": [
    "line1 = simple_liner_model(ans1_model[1], ans1_model[0])\n",
    "# 図示してみる\n",
    "x = np.linspace(df['x'].min(),df['x'].max())  \n",
    "plt.plot(x,list(map(line1, x)),\"b-\") \n",
    "plt.plot(df['x'], df['y'], 'o')\n",
    "plt.show()\n",
    "print('sum signed error :' + str(df_ans1['signed_error'] .sum() / len(df_ans1)))\n",
    "print('mean squered error :' + str(df_ans1['squered_error'] .sum() / len(df_ans1)))"
   ]
  },
  {
   "cell_type": "code",
   "execution_count": 10,
   "metadata": {},
   "outputs": [
    {
     "data": {
      "text/html": [
       "<div>\n",
       "<style>\n",
       "    .dataframe thead tr:only-child th {\n",
       "        text-align: right;\n",
       "    }\n",
       "\n",
       "    .dataframe thead th {\n",
       "        text-align: left;\n",
       "    }\n",
       "\n",
       "    .dataframe tbody tr th {\n",
       "        vertical-align: top;\n",
       "    }\n",
       "</style>\n",
       "<table border=\"1\" class=\"dataframe\">\n",
       "  <thead>\n",
       "    <tr style=\"text-align: right;\">\n",
       "      <th></th>\n",
       "      <th>x</th>\n",
       "      <th>y</th>\n",
       "    </tr>\n",
       "  </thead>\n",
       "  <tbody>\n",
       "    <tr>\n",
       "      <th>0</th>\n",
       "      <td>40.362</td>\n",
       "      <td>137500.0</td>\n",
       "    </tr>\n",
       "    <tr>\n",
       "      <th>1</th>\n",
       "      <td>40.686</td>\n",
       "      <td>132500.0</td>\n",
       "    </tr>\n",
       "    <tr>\n",
       "      <th>2</th>\n",
       "      <td>38.430</td>\n",
       "      <td>93000.0</td>\n",
       "    </tr>\n",
       "  </tbody>\n",
       "</table>\n",
       "</div>"
      ],
      "text/plain": [
       "        x         y\n",
       "0  40.362  137500.0\n",
       "1  40.686  132500.0\n",
       "2  38.430   93000.0"
      ]
     },
     "execution_count": 10,
     "metadata": {},
     "output_type": "execute_result"
    }
   ],
   "source": [
    "df.head(3)"
   ]
  },
  {
   "cell_type": "code",
   "execution_count": 11,
   "metadata": {},
   "outputs": [
    {
     "data": {
      "text/plain": [
       "array([-2977.36131082,  3297.05055445])"
      ]
     },
     "execution_count": 11,
     "metadata": {},
     "output_type": "execute_result"
    }
   ],
   "source": [
    "ans2_model = np.array([df_ans1['signed_error'] .sum() / len(df_ans1), ans1_model[1]])\n",
    "ans2_model"
   ]
  },
  {
   "cell_type": "code",
   "execution_count": 12,
   "metadata": {},
   "outputs": [
    {
     "data": {
      "text/html": [
       "<div>\n",
       "<style>\n",
       "    .dataframe thead tr:only-child th {\n",
       "        text-align: right;\n",
       "    }\n",
       "\n",
       "    .dataframe thead th {\n",
       "        text-align: left;\n",
       "    }\n",
       "\n",
       "    .dataframe tbody tr th {\n",
       "        vertical-align: top;\n",
       "    }\n",
       "</style>\n",
       "<table border=\"1\" class=\"dataframe\">\n",
       "  <thead>\n",
       "    <tr style=\"text-align: right;\">\n",
       "      <th></th>\n",
       "      <th>y</th>\n",
       "      <th>signed_error</th>\n",
       "      <th>squered_error</th>\n",
       "    </tr>\n",
       "  </thead>\n",
       "  <tbody>\n",
       "    <tr>\n",
       "      <th>0</th>\n",
       "      <td>130098.193168</td>\n",
       "      <td>7401.806832</td>\n",
       "      <td>5.478674e+07</td>\n",
       "    </tr>\n",
       "    <tr>\n",
       "      <th>1</th>\n",
       "      <td>131166.437548</td>\n",
       "      <td>1333.562452</td>\n",
       "      <td>1.778389e+06</td>\n",
       "    </tr>\n",
       "    <tr>\n",
       "      <th>2</th>\n",
       "      <td>123728.291497</td>\n",
       "      <td>-30728.291497</td>\n",
       "      <td>9.442279e+08</td>\n",
       "    </tr>\n",
       "  </tbody>\n",
       "</table>\n",
       "</div>"
      ],
      "text/plain": [
       "               y  signed_error  squered_error\n",
       "0  130098.193168   7401.806832   5.478674e+07\n",
       "1  131166.437548   1333.562452   1.778389e+06\n",
       "2  123728.291497 -30728.291497   9.442279e+08"
      ]
     },
     "execution_count": 12,
     "metadata": {},
     "output_type": "execute_result"
    }
   ],
   "source": [
    "df_ans2 = pd.DataFrame(index=df.index, columns=[])\n",
    "df_ans2['y'] = np.dot(df_x, ans2_model.T)\n",
    "df_ans2['signed_error']  = df ['y'] - df_ans2['y']\n",
    "df_ans2['squered_error'] = df_ans2['signed_error'] * df_ans2['signed_error']\n",
    "df_ans2.head(3)"
   ]
  },
  {
   "cell_type": "code",
   "execution_count": 13,
   "metadata": {},
   "outputs": [
    {
     "data": {
      "image/png": "[encoded data removed]",
      "text/plain": [
       "<Figure size 432x288 with 1 Axes>"
      ]
     },
     "metadata": {},
     "output_type": "display_data"
    },
    {
     "name": "stdout",
     "output_type": "stream",
     "text": [
      "sum signed error :2.3283064365386963e-12\n",
      "mean squered error :1284686173.81493\n"
     ]
    }
   ],
   "source": [
    "line2 = simple_liner_model(ans2_model[1], ans2_model[0])\n",
    "# 図示してみる\n",
    "x = np.linspace(df['x'].min(),df['x'].max())  \n",
    "plt.plot(x,list(map(line2, x)),\"b-\") \n",
    "plt.plot(df['x'], df['y'], 'o')\n",
    "plt.show()\n",
    "print('sum signed error :' + str(df_ans2['signed_error'] .sum() / len(df_ans2)))\n",
    "print('mean squered error :' + str(df_ans2['squered_error'] .sum() / len(df_ans2)))"
   ]
  },
  {
   "cell_type": "code",
   "execution_count": null,
   "metadata": {
    "collapsed": true
   },
   "outputs": [],
   "source": []
  },
  {
   "cell_type": "code",
   "execution_count": 14,
   "metadata": {},
   "outputs": [
    {
     "data": {
      "text/html": [
       "<div>\n",
       "<style>\n",
       "    .dataframe thead tr:only-child th {\n",
       "        text-align: right;\n",
       "    }\n",
       "\n",
       "    .dataframe thead th {\n",
       "        text-align: left;\n",
       "    }\n",
       "\n",
       "    .dataframe tbody tr th {\n",
       "        vertical-align: top;\n",
       "    }\n",
       "</style>\n",
       "<table border=\"1\" class=\"dataframe\">\n",
       "  <thead>\n",
       "    <tr style=\"text-align: right;\">\n",
       "      <th></th>\n",
       "      <th>x</th>\n",
       "      <th>y</th>\n",
       "    </tr>\n",
       "  </thead>\n",
       "  <tbody>\n",
       "    <tr>\n",
       "      <th>0</th>\n",
       "      <td>10.362</td>\n",
       "      <td>137500.0</td>\n",
       "    </tr>\n",
       "    <tr>\n",
       "      <th>1</th>\n",
       "      <td>10.686</td>\n",
       "      <td>132500.0</td>\n",
       "    </tr>\n",
       "    <tr>\n",
       "      <th>2</th>\n",
       "      <td>8.430</td>\n",
       "      <td>93000.0</td>\n",
       "    </tr>\n",
       "  </tbody>\n",
       "</table>\n",
       "</div>"
      ],
      "text/plain": [
       "        x         y\n",
       "0  10.362  137500.0\n",
       "1  10.686  132500.0\n",
       "2   8.430   93000.0"
      ]
     },
     "execution_count": 14,
     "metadata": {},
     "output_type": "execute_result"
    }
   ],
   "source": [
    "df2 = pd.DataFrame(index=df.index, columns=[])\n",
    "df2['x'] = df['x'] - 30\n",
    "df2['y'] = df['y']\n",
    "df2.head(3)"
   ]
  },
  {
   "cell_type": "code",
   "execution_count": 15,
   "metadata": {},
   "outputs": [
    {
     "data": {
      "text/plain": [
       "<matplotlib.axes._subplots.AxesSubplot at 0x1173d3390>"
      ]
     },
     "execution_count": 15,
     "metadata": {},
     "output_type": "execute_result"
    },
    {
     "data": {
      "image/png": "[encoded data removed]",
      "text/plain": [
       "<Figure size 432x288 with 1 Axes>"
      ]
     },
     "metadata": {},
     "output_type": "display_data"
    }
   ],
   "source": [
    "df2.plot(kind='scatter', x='x', y='y', color='blue' )"
   ]
  },
  {
   "cell_type": "code",
   "execution_count": 16,
   "metadata": {
    "collapsed": true
   },
   "outputs": [],
   "source": [
    "df2_x = pd.DataFrame(index=df.index, columns=[])\n",
    "df2_x['b'] = 1\n",
    "df2_x['x'] = df['x'] - 30"
   ]
  },
  {
   "cell_type": "code",
   "execution_count": 17,
   "metadata": {},
   "outputs": [
    {
     "data": {
      "text/html": [
       "<div>\n",
       "<style>\n",
       "    .dataframe thead tr:only-child th {\n",
       "        text-align: right;\n",
       "    }\n",
       "\n",
       "    .dataframe thead th {\n",
       "        text-align: left;\n",
       "    }\n",
       "\n",
       "    .dataframe tbody tr th {\n",
       "        vertical-align: top;\n",
       "    }\n",
       "</style>\n",
       "<table border=\"1\" class=\"dataframe\">\n",
       "  <thead>\n",
       "    <tr style=\"text-align: right;\">\n",
       "      <th></th>\n",
       "      <th>xy</th>\n",
       "      <th>x2</th>\n",
       "    </tr>\n",
       "  </thead>\n",
       "  <tbody>\n",
       "    <tr>\n",
       "      <th>0</th>\n",
       "      <td>1424775.0</td>\n",
       "      <td>107.371044</td>\n",
       "    </tr>\n",
       "    <tr>\n",
       "      <th>1</th>\n",
       "      <td>1415895.0</td>\n",
       "      <td>114.190596</td>\n",
       "    </tr>\n",
       "    <tr>\n",
       "      <th>2</th>\n",
       "      <td>783990.0</td>\n",
       "      <td>71.064900</td>\n",
       "    </tr>\n",
       "  </tbody>\n",
       "</table>\n",
       "</div>"
      ],
      "text/plain": [
       "          xy          x2\n",
       "0  1424775.0  107.371044\n",
       "1  1415895.0  114.190596\n",
       "2   783990.0   71.064900"
      ]
     },
     "execution_count": 17,
     "metadata": {},
     "output_type": "execute_result"
    }
   ],
   "source": [
    "df_calc2 = pd.DataFrame(index=df2.index, columns=[])\n",
    "df_calc2['xy'] = df2['x'] * df2['y']\n",
    "df_calc2['x2'] = df2['x'] * df2['x']\n",
    "df_calc2.head(3)"
   ]
  },
  {
   "cell_type": "code",
   "execution_count": 18,
   "metadata": {},
   "outputs": [
    {
     "name": "stdout",
     "output_type": "stream",
     "text": [
      "sum xy :108933540.00000001\n",
      "sum x2 :7463.920140000002\n"
     ]
    },
    {
     "data": {
      "text/plain": [
       "array([    0.        , 14594.68187718])"
      ]
     },
     "execution_count": 18,
     "metadata": {},
     "output_type": "execute_result"
    }
   ],
   "source": [
    "print('sum xy :' + str(df_calc2['xy'].sum()))\n",
    "print('sum x2 :' + str(df_calc2['x2'].sum()))\n",
    "w2=df_calc2['xy'].sum() / df_calc2['x2'].sum()\n",
    "ans3_model = np.array([0, w2])\n",
    "ans3_model"
   ]
  },
  {
   "cell_type": "code",
   "execution_count": 19,
   "metadata": {},
   "outputs": [
    {
     "data": {
      "text/html": [
       "<div>\n",
       "<style>\n",
       "    .dataframe thead tr:only-child th {\n",
       "        text-align: right;\n",
       "    }\n",
       "\n",
       "    .dataframe thead th {\n",
       "        text-align: left;\n",
       "    }\n",
       "\n",
       "    .dataframe tbody tr th {\n",
       "        vertical-align: top;\n",
       "    }\n",
       "</style>\n",
       "<table border=\"1\" class=\"dataframe\">\n",
       "  <thead>\n",
       "    <tr style=\"text-align: right;\">\n",
       "      <th></th>\n",
       "      <th>y</th>\n",
       "      <th>signed_error</th>\n",
       "      <th>squered_error</th>\n",
       "    </tr>\n",
       "  </thead>\n",
       "  <tbody>\n",
       "    <tr>\n",
       "      <th>0</th>\n",
       "      <td>151230.093611</td>\n",
       "      <td>-13730.093611</td>\n",
       "      <td>1.885155e+08</td>\n",
       "    </tr>\n",
       "    <tr>\n",
       "      <th>1</th>\n",
       "      <td>155958.770540</td>\n",
       "      <td>-23458.770540</td>\n",
       "      <td>5.503139e+08</td>\n",
       "    </tr>\n",
       "    <tr>\n",
       "      <th>2</th>\n",
       "      <td>123033.168225</td>\n",
       "      <td>-30033.168225</td>\n",
       "      <td>9.019912e+08</td>\n",
       "    </tr>\n",
       "  </tbody>\n",
       "</table>\n",
       "</div>"
      ],
      "text/plain": [
       "               y  signed_error  squered_error\n",
       "0  151230.093611 -13730.093611   1.885155e+08\n",
       "1  155958.770540 -23458.770540   5.503139e+08\n",
       "2  123033.168225 -30033.168225   9.019912e+08"
      ]
     },
     "execution_count": 19,
     "metadata": {},
     "output_type": "execute_result"
    }
   ],
   "source": [
    "df_ans3 = pd.DataFrame(index=df.index, columns=[])\n",
    "df_ans3['y'] = np.dot(df2_x, ans3_model.T)\n",
    "df_ans3['signed_error']  = df2 ['y'] - df_ans3['y']\n",
    "df_ans3['squered_error'] = df_ans3['signed_error'] * df_ans3['signed_error']\n",
    "df_ans3.head(3)"
   ]
  },
  {
   "cell_type": "code",
   "execution_count": 20,
   "metadata": {},
   "outputs": [
    {
     "data": {
      "image/png": "[encoded data removed]",
      "text/plain": [
       "<Figure size 432x288 with 1 Axes>"
      ]
     },
     "metadata": {},
     "output_type": "display_data"
    },
    {
     "name": "stdout",
     "output_type": "stream",
     "text": [
      "sum signed error :9821.123902097377\n",
      "mean squered error :961363879.4459894\n"
     ]
    }
   ],
   "source": [
    "line3 = simple_liner_model(ans3_model[1], ans3_model[0])\n",
    "# 図示してみる\n",
    "x = np.linspace(df2['x'].min(),df2['x'].max())  \n",
    "plt.plot(x,list(map(line3, x)),\"b-\") \n",
    "plt.plot(df2['x'], df2['y'], 'o')\n",
    "plt.show()\n",
    "print('sum signed error :' + str(df_ans3['signed_error'] .sum() / len(df_ans3)))\n",
    "print('mean squered error :' + str(df_ans3['squered_error'] .sum() / len(df_ans3)))"
   ]
  },
  {
   "cell_type": "code",
   "execution_count": null,
   "metadata": {
    "collapsed": true
   },
   "outputs": [],
   "source": []
  },
  {
   "cell_type": "code",
   "execution_count": 21,
   "metadata": {},
   "outputs": [
    {
     "data": {
      "text/plain": [
       "array([-437840.45631549,   14594.68187718])"
      ]
     },
     "execution_count": 21,
     "metadata": {},
     "output_type": "execute_result"
    }
   ],
   "source": [
    "ans4_model = np.array([ - w2*30, w2])\n",
    "ans4_model"
   ]
  },
  {
   "cell_type": "code",
   "execution_count": 22,
   "metadata": {},
   "outputs": [
    {
     "data": {
      "text/html": [
       "<div>\n",
       "<style>\n",
       "    .dataframe thead tr:only-child th {\n",
       "        text-align: right;\n",
       "    }\n",
       "\n",
       "    .dataframe thead th {\n",
       "        text-align: left;\n",
       "    }\n",
       "\n",
       "    .dataframe tbody tr th {\n",
       "        vertical-align: top;\n",
       "    }\n",
       "</style>\n",
       "<table border=\"1\" class=\"dataframe\">\n",
       "  <thead>\n",
       "    <tr style=\"text-align: right;\">\n",
       "      <th></th>\n",
       "      <th>y</th>\n",
       "      <th>signed_error</th>\n",
       "      <th>squered_error</th>\n",
       "    </tr>\n",
       "  </thead>\n",
       "  <tbody>\n",
       "    <tr>\n",
       "      <th>0</th>\n",
       "      <td>151230.093611</td>\n",
       "      <td>-13730.093611</td>\n",
       "      <td>1.885155e+08</td>\n",
       "    </tr>\n",
       "    <tr>\n",
       "      <th>1</th>\n",
       "      <td>155958.770540</td>\n",
       "      <td>-23458.770540</td>\n",
       "      <td>5.503139e+08</td>\n",
       "    </tr>\n",
       "    <tr>\n",
       "      <th>2</th>\n",
       "      <td>123033.168225</td>\n",
       "      <td>-30033.168225</td>\n",
       "      <td>9.019912e+08</td>\n",
       "    </tr>\n",
       "  </tbody>\n",
       "</table>\n",
       "</div>"
      ],
      "text/plain": [
       "               y  signed_error  squered_error\n",
       "0  151230.093611 -13730.093611   1.885155e+08\n",
       "1  155958.770540 -23458.770540   5.503139e+08\n",
       "2  123033.168225 -30033.168225   9.019912e+08"
      ]
     },
     "execution_count": 22,
     "metadata": {},
     "output_type": "execute_result"
    }
   ],
   "source": [
    "df_ans4 = pd.DataFrame(index=df.index, columns=[])\n",
    "df_ans4['y'] = np.dot(df_x, ans4_model.T)\n",
    "df_ans4['signed_error']  = df ['y'] - df_ans4['y']\n",
    "df_ans4['squered_error'] = df_ans4['signed_error'] * df_ans4['signed_error']\n",
    "df_ans4.head(3)"
   ]
  },
  {
   "cell_type": "code",
   "execution_count": 23,
   "metadata": {},
   "outputs": [
    {
     "data": {
      "image/png": "[encoded data removed]",
      "text/plain": [
       "<Figure size 432x288 with 1 Axes>"
      ]
     },
     "metadata": {},
     "output_type": "display_data"
    },
    {
     "name": "stdout",
     "output_type": "stream",
     "text": [
      "sum signed error :9821.123902097355\n",
      "mean squered error :961363879.4459889\n"
     ]
    }
   ],
   "source": [
    "line4 = simple_liner_model(ans4_model[1], ans4_model[0])\n",
    "# 図示してみる\n",
    "x = np.linspace(df['x'].min(),df['x'].max())  \n",
    "plt.plot(x,list(map(line4, x)),\"b-\") \n",
    "plt.plot(df['x'], df['y'], 'o')\n",
    "plt.show()\n",
    "print('sum signed error :' + str(df_ans4['signed_error'] .sum() / len(df_ans4)))\n",
    "print('mean squered error :' + str(df_ans4['squered_error'] .sum() / len(df_ans4)))"
   ]
  },
  {
   "cell_type": "code",
   "execution_count": 24,
   "metadata": {
    "collapsed": true
   },
   "outputs": [],
   "source": [
    "def findBestAns(df, start_i, loop, rate):\n",
    "    current_error = -1\n",
    "    models = []\n",
    "    errors = []\n",
    "    hori_move = - start_i\n",
    "    for i in range(loop):\n",
    "        hori_move = start_i + i * rate\n",
    "        df_new = pd.DataFrame(index=df.index, columns=[])\n",
    "        df_new['x'] = df['x'] - hori_move\n",
    "        df_new['y'] = df['y']\n",
    "        df_new_x = pd.DataFrame(index=df.index, columns=[])\n",
    "        df_new_x['b'] = 1\n",
    "        df_new_x['x'] = df['x'] - hori_move\n",
    "        df_new_calc = pd.DataFrame(index=df.index, columns=[])\n",
    "        df_new_calc['xy'] = df_new['x'] * df_new['y']\n",
    "        df_new_calc['x2'] = df_new['x'] * df_new['x']\n",
    "        w_new=df_new_calc['xy'].sum() / df_new_calc['x2'].sum()\n",
    "        ans_new_model = np.array([0, w_new])\n",
    "        df_new_ans = pd.DataFrame(index=df.index, columns=[])\n",
    "        df_new_ans['y'] = np.dot(df_new_x, ans_new_model.T)\n",
    "        df_new_ans['signed_error']  = df_new ['y'] - df_new_ans['y']\n",
    "        df_new_ans['squered_error'] = df_new_ans['signed_error'] * df_new_ans['signed_error']\n",
    "        MSE = df_new_ans['squered_error'] .sum() / len(df_new_ans)\n",
    "        models.append(ans_new_model.copy())\n",
    "        errors.append(MSE)\n",
    "        if current_error != -1 and current_error < MSE:\n",
    "            break\n",
    "        current_error = MSE\n",
    "    return hori_move, models, errors"
   ]
  },
  {
   "cell_type": "code",
   "execution_count": 25,
   "metadata": {},
   "outputs": [
    {
     "data": {
      "text/plain": [
       "(27,\n",
       " [array([   0.        , 9636.34081447]),\n",
       "  array([    0.        , 10378.75568452]),\n",
       "  array([    0.        , 11227.50321538])],\n",
       " [529542320.8208013, 527905297.11443293, 551577763.5663714])"
      ]
     },
     "execution_count": 25,
     "metadata": {},
     "output_type": "execute_result"
    }
   ],
   "source": [
    "findBestAns(df, 25, 10, 1)"
   ]
  },
  {
   "cell_type": "code",
   "execution_count": 26,
   "metadata": {},
   "outputs": [
    {
     "data": {
      "text/plain": [
       "(25.61,\n",
       " [array([   0.        , 9995.32743394]),\n",
       "  array([    0.        , 10002.74970106]),\n",
       "  array([    0.        , 10010.18175596]),\n",
       "  array([    0.        , 10017.62361493]),\n",
       "  array([    0.       , 10025.0752943]),\n",
       "  array([    0.        , 10032.53681039]),\n",
       "  array([    0.        , 10040.00817956]),\n",
       "  array([    0.       , 10047.4894182]),\n",
       "  array([    0.        , 10054.98054272]),\n",
       "  array([    0.        , 10062.48156955]),\n",
       "  array([    0.        , 10069.99251516]),\n",
       "  array([    0.        , 10077.51339603])],\n",
       " [526224070.56137174,\n",
       "  526204965.71419024,\n",
       "  526187861.60436296,\n",
       "  526172767.2245152,\n",
       "  526159691.606006,\n",
       "  526148643.81910205,\n",
       "  526139632.9731586,\n",
       "  526132668.2167991,\n",
       "  526127758.73809224,\n",
       "  526124913.7647356,\n",
       "  526124142.564236,\n",
       "  526125454.4440943])"
      ]
     },
     "execution_count": 26,
     "metadata": {},
     "output_type": "execute_result"
    }
   ],
   "source": [
    "findBestAns(df, 25.5, 30, 0.01)"
   ]
  },
  {
   "cell_type": "code",
   "execution_count": 27,
   "metadata": {},
   "outputs": [
    {
     "data": {
      "text/plain": [
       "(25.6,\n",
       " [array([    0.        , 10062.48156955]),\n",
       "  array([    0.       , 10063.2322175]),\n",
       "  array([    0.        , 10063.98296465]),\n",
       "  array([    0.        , 10064.73381102]),\n",
       "  array([    0.        , 10065.48475662]),\n",
       "  array([    0.        , 10066.23580148]),\n",
       "  array([    0.        , 10066.98694561]),\n",
       "  array([    0.        , 10067.73818903]),\n",
       "  array([    0.        , 10068.48953175]),\n",
       "  array([    0.        , 10069.24097379]),\n",
       "  array([    0.        , 10069.99251516])],\n",
       " [526124913.7647356,\n",
       "  526124743.17164713,\n",
       "  526124593.32554436,\n",
       "  526124464.2357195,\n",
       "  526124355.9114707,\n",
       "  526124268.36209947,\n",
       "  526124201.5969113,\n",
       "  526124155.62521493,\n",
       "  526124130.45632493,\n",
       "  526124126.09955835,\n",
       "  526124142.564236])"
      ]
     },
     "execution_count": 27,
     "metadata": {},
     "output_type": "execute_result"
    }
   ],
   "source": [
    "findBestAns(df, 25.59, 30, 0.001)"
   ]
  },
  {
   "cell_type": "code",
   "execution_count": 28,
   "metadata": {},
   "outputs": [
    {
     "data": {
      "text/plain": [
       "(25.5988,\n",
       " [array([    0.        , 10068.48953175]),\n",
       "  array([    0.        , 10068.56467148]),\n",
       "  array([    0.        , 10068.63981221]),\n",
       "  array([    0.        , 10068.71495393]),\n",
       "  array([    0.        , 10068.79009665]),\n",
       "  array([    0.        , 10068.86524035]),\n",
       "  array([    0.        , 10068.94038505]),\n",
       "  array([    0.        , 10069.01553075]),\n",
       "  array([    0.        , 10069.09067743])],\n",
       " [526124130.45632493,\n",
       "  526124129.0839487,\n",
       "  526124127.91970336,\n",
       "  526124126.96359795,\n",
       "  526124126.2156415,\n",
       "  526124125.6758435,\n",
       "  526124125.34421366,\n",
       "  526124125.22076064,\n",
       "  526124125.30549425])"
      ]
     },
     "execution_count": 28,
     "metadata": {},
     "output_type": "execute_result"
    }
   ],
   "source": [
    "findBestAns(df, 25.598, 30, 0.0001)"
   ]
  },
  {
   "cell_type": "code",
   "execution_count": 29,
   "metadata": {},
   "outputs": [
    {
     "data": {
      "image/png": "[encoded data removed]",
      "text/plain": [
       "<Figure size 432x288 with 1 Axes>"
      ]
     },
     "metadata": {},
     "output_type": "display_data"
    },
    {
     "name": "stdout",
     "output_type": "stream",
     "text": [
      "sum signed error :-7.0579251548004684\n",
      "mean squered error :526124175.03497577\n"
     ]
    }
   ],
   "source": [
    "ans5_model = np.array([ - 10069.01553075*25.598, 10069.01553075])\n",
    "df_ans5 = pd.DataFrame(index=df.index, columns=[])\n",
    "df_ans5['y'] = np.dot(df_x, ans5_model.T)\n",
    "df_ans5['signed_error']  = df ['y'] - df_ans5['y']\n",
    "df_ans5['squered_error'] = df_ans5['signed_error'] * df_ans5['signed_error']\n",
    "\n",
    "line5 = simple_liner_model(ans5_model[1], ans5_model[0])\n",
    "# 図示してみる\n",
    "x = np.linspace(df['x'].min(),df['x'].max())  \n",
    "plt.plot(x,list(map(line5, x)),\"b-\") \n",
    "plt.plot(df['x'], df['y'], 'o')\n",
    "plt.show()\n",
    "print('sum signed error :' + str(df_ans5['signed_error'] .sum() / len(df_ans5)))\n",
    "print('mean squered error :' + str(df_ans5['squered_error'] .sum() / len(df_ans5)))"
   ]
  },
  {
   "cell_type": "code",
   "execution_count": null,
   "metadata": {
    "collapsed": true
   },
   "outputs": [],
   "source": []
  },
  {
   "cell_type": "code",
   "execution_count": null,
   "metadata": {
    "collapsed": true
   },
   "outputs": [],
   "source": []
  },
  {
   "cell_type": "code",
   "execution_count": 30,
   "metadata": {
    "collapsed": true
   },
   "outputs": [],
   "source": [
    "from sklearn.linear_model import LinearRegression\n",
    "from sklearn import linear_model\n",
    "from sklearn.metrics import mean_squared_error, r2_score"
   ]
  },
  {
   "cell_type": "code",
   "execution_count": 31,
   "metadata": {
    "collapsed": true
   },
   "outputs": [],
   "source": [
    "diabetes_X = np.reshape(df['x'].values, (len(df), 1))\n",
    "diabetes_y = np.reshape(df['y'].values, (len(df), 1))"
   ]
  },
  {
   "cell_type": "code",
   "execution_count": 32,
   "metadata": {},
   "outputs": [
    {
     "data": {
      "text/plain": [
       "array([[40.362],\n",
       "       [40.686],\n",
       "       [38.43 ]])"
      ]
     },
     "execution_count": 32,
     "metadata": {},
     "output_type": "execute_result"
    }
   ],
   "source": [
    "diabetes_X[:3]"
   ]
  },
  {
   "cell_type": "code",
   "execution_count": 33,
   "metadata": {},
   "outputs": [
    {
     "data": {
      "text/plain": [
       "array([[137500.],\n",
       "       [132500.],\n",
       "       [ 93000.]])"
      ]
     },
     "execution_count": 33,
     "metadata": {},
     "output_type": "execute_result"
    }
   ],
   "source": [
    "diabetes_y[:3]"
   ]
  },
  {
   "cell_type": "code",
   "execution_count": 34,
   "metadata": {
    "collapsed": true
   },
   "outputs": [],
   "source": [
    "regr = linear_model.LinearRegression()"
   ]
  },
  {
   "cell_type": "code",
   "execution_count": 35,
   "metadata": {},
   "outputs": [
    {
     "data": {
      "text/plain": [
       "LinearRegression(copy_X=True, fit_intercept=True, n_jobs=1, normalize=False)"
      ]
     },
     "execution_count": 35,
     "metadata": {},
     "output_type": "execute_result"
    }
   ],
   "source": [
    "regr.fit(diabetes_X, diabetes_y)"
   ]
  },
  {
   "cell_type": "code",
   "execution_count": 36,
   "metadata": {},
   "outputs": [
    {
     "data": {
      "text/plain": [
       "array([148651.90651788])"
      ]
     },
     "execution_count": 36,
     "metadata": {},
     "output_type": "execute_result"
    }
   ],
   "source": [
    "diabetes_y_pred = regr.predict(diabetes_X)\n",
    "diabetes_y_pred[0][:3]"
   ]
  },
  {
   "cell_type": "code",
   "execution_count": 37,
   "metadata": {},
   "outputs": [
    {
     "name": "stdout",
     "output_type": "stream",
     "text": [
      "Coefficients: \n",
      " [[10069.02251928]]\n",
      "Mean squared error: 526124125.22\n",
      "Variance score: 0.76\n"
     ]
    }
   ],
   "source": [
    "# The coefficients\n",
    "print('Coefficients: \\n', regr.coef_)\n",
    "# The mean squared error\n",
    "print(\"Mean squared error: %.2f\"\n",
    "      % mean_squared_error(diabetes_y, diabetes_y_pred))\n",
    "# Explained variance score: 1 is perfect prediction\n",
    "print('Variance score: %.2f' % r2_score(diabetes_y, diabetes_y_pred))"
   ]
  },
  {
   "cell_type": "code",
   "execution_count": 38,
   "metadata": {},
   "outputs": [
    {
     "data": {
      "image/png": "[encoded data removed]",
      "text/plain": [
       "<Figure size 432x288 with 1 Axes>"
      ]
     },
     "metadata": {},
     "output_type": "display_data"
    }
   ],
   "source": [
    "# Plot outputs\n",
    "plt.scatter(diabetes_X, diabetes_y,  color='black')\n",
    "plt.plot(diabetes_X, diabetes_y_pred, color='blue', linewidth=3)\n",
    "plt.xticks(())\n",
    "plt.yticks(())\n",
    "\n",
    "plt.show()"
   ]
  },
  {
   "cell_type": "code",
   "execution_count": null,
   "metadata": {
    "collapsed": true
   },
   "outputs": [],
   "source": []
  },
  {
   "cell_type": "code",
   "execution_count": 39,
   "metadata": {
    "collapsed": true
   },
   "outputs": [],
   "source": [
    "def gradDesent(learning_rate, df):\n",
    "    df_ans = pd.DataFrame(index=df.index, columns=[])\n",
    "    df_x = pd.DataFrame(index=df.index, columns=[])\n",
    "    df_x['b'] = 1\n",
    "    df_x['x'] = df['x']\n",
    "    current_model = np.array([1, 1])\n",
    "    for i in range (100):\n",
    "        grad = pd.DataFrame(index=df.index, columns=[])\n",
    "        grad = (df['y'] - np.dot(df_x, current_model) ) * df_x['x']  / len(grad)\n",
    "        current_model[1] += grad.sum() * learning_rate\n",
    "        current_model[0] +=  ((df['y'] - np.dot(df_x, current_model)) / len(df_x)).sum()\n",
    "        df_ans = pd.DataFrame(index=df.index, columns=[])\n",
    "        df_ans['y'] = np.dot(df_x, current_model.T)\n",
    "        df_ans['signed_error']  = df ['y'] - df_ans['y']\n",
    "        df_ans['squered_error'] = df_ans['signed_error'] * df_ans['signed_error']\n",
    "    return current_model, df_ans['squered_error'].sum() / len(df_ans)"
   ]
  },
  {
   "cell_type": "code",
   "execution_count": 40,
   "metadata": {},
   "outputs": [
    {
     "name": "stdout",
     "output_type": "stream",
     "text": [
      "model:[-218174    9017]\n",
      "MSE:544430859.9188848\n"
     ]
    }
   ],
   "source": [
    "learning_rate = 0.001\n",
    "gradAns = gradDesent(learning_rate, df)\n",
    "print(\"model:\" + str(gradAns[0]))\n",
    "print(\"MSE:\" + str(gradAns[1]))"
   ]
  },
  {
   "cell_type": "code",
   "execution_count": 41,
   "metadata": {},
   "outputs": [
    {
     "data": {
      "image/png": "[encoded data removed]",
      "text/plain": [
       "<Figure size 432x288 with 1 Axes>"
      ]
     },
     "metadata": {},
     "output_type": "display_data"
    },
    {
     "name": "stdout",
     "output_type": "stream",
     "text": [
      "mean squered error :544430859.9188848\n"
     ]
    }
   ],
   "source": [
    "line5 = simple_liner_model(gradAns[0][1], gradAns[0][0])\n",
    "# 図示してみる\n",
    "x = np.linspace(df['x'].min(),df['x'].max())  \n",
    "plt.plot(x,list(map(line5, x)),\"b-\") \n",
    "plt.plot(df['x'], df['y'], 'o')\n",
    "plt.show()\n",
    "print('mean squered error :' + str(gradAns[1]))"
   ]
  },
  {
   "cell_type": "code",
   "execution_count": null,
   "metadata": {
    "collapsed": true
   },
   "outputs": [],
   "source": []
  }
 ],
 "metadata": {
  "kernelspec": {
   "display_name": "Python 3",
   "language": "python",
   "name": "python3"
  },
  "language_info": {
   "codemirror_mode": {
    "name": "ipython",
    "version": 3
   },
   "file_extension": ".py",
   "mimetype": "text/x-python",
   "name": "python",
   "nbconvert_exporter": "python",
   "pygments_lexer": "ipython3",
   "version": "3.6.1"
  }
 },
 "nbformat": 4,
 "nbformat_minor": 2
}
