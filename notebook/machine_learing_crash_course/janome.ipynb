{
 "cells": [
  {
   "cell_type": "code",
   "execution_count": 1,
   "metadata": {
    "collapsed": true
   },
   "outputs": [],
   "source": [
    "from janome.tokenizer import Tokenizer\n",
    "from janome.tokenizer import Tokenizer\n",
    "from janome.analyzer import Analyzer\n",
    "from janome.charfilter import *\n",
    "from janome.tokenfilter import *"
   ]
  },
  {
   "cell_type": "code",
   "execution_count": 2,
   "metadata": {},
   "outputs": [
    {
     "name": "stdout",
     "output_type": "stream",
     "text": [
      "janomepure\t名詞,固有名詞,組織,*,*,*,janomepure,*,*\n",
      "python\t名詞,一般,*,*,*,*,python,*,*\n",
      "な\t助動詞,*,*,*,特殊・ダ,体言接続,だ,ナ,ナ\n",
      "形態素解析器\t名詞,複合,*,*,*,*,形態素解析器,ケイタイソカイセキキ,ケイタイソカイセキキ\n",
      "です\t助動詞,*,*,*,特殊・デス,基本形,です,デス,デス\n"
     ]
    }
   ],
   "source": [
    "text = u'蛇の目はPure Ｐｙｔｈｏｎな形態素解析器です。'\n",
    "# 解析対象に指定した単語が含まれていた場合は置換する\n",
    "char_filters = [UnicodeNormalizeCharFilter(), RegexReplaceCharFilter(u'蛇の目は', u'janome')]\n",
    "tokenizer = Tokenizer()\n",
    "# 記号と助詞は対象外\n",
    "# 大文字は小文字に変換する\n",
    "token_filters = [CompoundNounFilter(), POSStopFilter(['記号','助詞']), LowerCaseFilter()]\n",
    "for token in Analyzer(char_filters, tokenizer, token_filters).analyze(text):\n",
    "    print(token)\n"
   ]
  },
  {
   "cell_type": "code",
   "execution_count": 3,
   "metadata": {},
   "outputs": [
    {
     "name": "stdout",
     "output_type": "stream",
     "text": [
      "表層形:janomepure\n",
      "表層形:python\n",
      "表層形:な\n",
      "表層形:形態素解析器\n",
      "表層形:です\n"
     ]
    }
   ],
   "source": [
    "# 表層語はsurfaceで取得できる\n",
    "for token in Analyzer(char_filters, tokenizer, token_filters).analyze(text):\n",
    "    print(\"表層形:\" + token.surface)"
   ]
  },
  {
   "cell_type": "code",
   "execution_count": 4,
   "metadata": {},
   "outputs": [
    {
     "name": "stdout",
     "output_type": "stream",
     "text": [
      "品詞:名詞,固有名詞,組織,*\n",
      "品詞:名詞,一般,*,*\n",
      "品詞:助動詞,*,*,*\n",
      "品詞:名詞,複合,*,*\n",
      "品詞:助動詞,*,*,*\n"
     ]
    }
   ],
   "source": [
    "# 品詞はpart_of_speechで取得できる\n",
    "for token in Analyzer(char_filters, tokenizer, token_filters).analyze(text):\n",
    "    print(\"品詞:\" + token.part_of_speech)"
   ]
  },
  {
   "cell_type": "code",
   "execution_count": null,
   "metadata": {
    "collapsed": true
   },
   "outputs": [],
   "source": []
  },
  {
   "cell_type": "code",
   "execution_count": null,
   "metadata": {
    "collapsed": true
   },
   "outputs": [],
   "source": []
  }
 ],
 "metadata": {
  "kernelspec": {
   "display_name": "Python 3",
   "language": "python",
   "name": "python3"
  },
  "language_info": {
   "codemirror_mode": {
    "name": "ipython",
    "version": 3
   },
   "file_extension": ".py",
   "mimetype": "text/x-python",
   "name": "python",
   "nbconvert_exporter": "python",
   "pygments_lexer": "ipython3",
   "version": "3.6.1"
  }
 },
 "nbformat": 4,
 "nbformat_minor": 2
}
