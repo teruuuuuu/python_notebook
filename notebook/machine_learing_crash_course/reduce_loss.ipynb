{
 "cells": [
  {
   "cell_type": "code",
   "execution_count": 1,
   "metadata": {
    "collapsed": true
   },
   "outputs": [],
   "source": [
    "import matplotlib.pyplot as plt\n",
    "%matplotlib inline"
   ]
  },
  {
   "cell_type": "code",
   "execution_count": 2,
   "metadata": {
    "collapsed": true
   },
   "outputs": [],
   "source": [
    "import math\n",
    "from numpy.random import *\n",
    "import numpy as np\n",
    "import pandas as pd"
   ]
  },
  {
   "cell_type": "code",
   "execution_count": 3,
   "metadata": {
    "collapsed": true
   },
   "outputs": [],
   "source": [
    "def test_data_generator(w,b,n):\n",
    "    test_data_calcu = lambda w, b, n: lambda x : {\"x\": x, \"y\": w * x + b + rand(1)[0] * n - n/2}\n",
    "    return test_data_calcu(w, b, n)"
   ]
  },
  {
   "cell_type": "code",
   "execution_count": 4,
   "metadata": {
    "collapsed": false
   },
   "outputs": [],
   "source": [
    "test_data_maker = test_data_generator(5, 0.5, 5)\n",
    "data = map(test_data_maker, rand(30) * 50)\n",
    "data_frame = pd.DataFrame.from_dict(data)\n",
    "X = map(lambda d: d[\"x\"], data)\n",
    "Y = map(lambda d: d[\"y\"], data)"
   ]
  },
  {
   "cell_type": "code",
   "execution_count": 5,
   "metadata": {
    "collapsed": false
   },
   "outputs": [],
   "source": [
    "class LinearRegressionSGD(object):\n",
    "\n",
    "    def __init__(self, eta=0.01, n_iter=30):\n",
    "        self.eta = eta\n",
    "        self.n_iter = n_iter\n",
    "\n",
    "    def fit(self, data):\n",
    "        self.w = 0\n",
    "        self.b = 0\n",
    "        self.cost_ = []\n",
    "\n",
    "        for i in range(self.n_iter):\n",
    "            study_data = data[int(math.floor(rand(1)[0] * len(data)))]\n",
    "            output = self.calc(study_data[\"x\"])\n",
    "            errors = (study_data[\"y\"] - output)\n",
    "            self.w += self.eta  * errors\n",
    "            self.cost_.append(self.loss(data))\n",
    "        return self\n",
    "    \n",
    "    def calc(self, x):\n",
    "        return self.w * x + self.b\n",
    "    \n",
    "    def loss(self, data):\n",
    "        err = 0.0\n",
    "        for d in data:\n",
    "            err += (d[\"y\"] - self.calc(d[\"x\"]))**2\n",
    "        return  err / len(data)"
   ]
  },
  {
   "cell_type": "code",
   "execution_count": 6,
   "metadata": {
    "collapsed": false
   },
   "outputs": [
    {
     "data": {
      "text/plain": [
       "[15932.84759877913,\n",
       " 8699.5727458874098,\n",
       " 4675.5811950627967,\n",
       " 2986.5764064272671,\n",
       " 1130.8529522200922,\n",
       " 438.13719959758731,\n",
       " 363.87217840070718,\n",
       " 143.94957252109887,\n",
       " 95.665875620803774,\n",
       " 92.113606447624363,\n",
       " 41.703344560306249,\n",
       " 18.863808045748048,\n",
       " 14.039792797679642,\n",
       " 13.055974233590947,\n",
       " 9.5199254722820381,\n",
       " 5.733012986721425,\n",
       " 6.2837409591363746,\n",
       " 3.957383077379049,\n",
       " 2.8311554803364873,\n",
       " 2.9025452547028445,\n",
       " 3.2747412385255461,\n",
       " 3.5077361376372314,\n",
       " 1.8435648281170696,\n",
       " 1.6837755805549806,\n",
       " 1.9240312993338651,\n",
       " 1.698945508614363,\n",
       " 2.0318794800645872,\n",
       " 2.9637391252718399,\n",
       " 2.5000794741595769,\n",
       " 1.9778010554034517]"
      ]
     },
     "execution_count": 6,
     "metadata": {},
     "output_type": "execute_result"
    }
   ],
   "source": [
    "LinearRegressionSGD().fit(data).cost_"
   ]
  },
  {
   "cell_type": "code",
   "execution_count": 7,
   "metadata": {
    "collapsed": true
   },
   "outputs": [],
   "source": [
    "class LinearRegressionGD(object):\n",
    "\n",
    "    def __init__(self, eta=0.01, n_iter=30):\n",
    "        self.eta = eta\n",
    "        self.n_iter = n_iter\n",
    "\n",
    "    def fit(self, data):\n",
    "        self.w = 0\n",
    "        self.b = 0\n",
    "        self.cost_ = []\n",
    "\n",
    "        for i in range(self.n_iter):\n",
    "            err = 0.0\n",
    "            for d in data:\n",
    "                err += d[\"y\"] - self.calc(d[\"x\"])\n",
    "            self.w += self.eta  * err / len(data)\n",
    "            self.cost_.append(self.loss(data))\n",
    "        return self\n",
    "    \n",
    "    def calc(self, x):\n",
    "        return self.w * x + self.b\n",
    "    \n",
    "    def loss(self, data):\n",
    "        err = 0.0\n",
    "        for d in data:\n",
    "            err += (d[\"y\"] - self.calc(d[\"x\"]))**2\n",
    "        return  err / len(data)"
   ]
  },
  {
   "cell_type": "code",
   "execution_count": 8,
   "metadata": {
    "collapsed": false
   },
   "outputs": [
    {
     "data": {
      "text/plain": [
       "[10066.285586346268,\n",
       " 6081.021837087801,\n",
       " 3674.1580559706836,\n",
       " 2220.4704960634681,\n",
       " 1342.4130188979341,\n",
       " 811.99732202485598,\n",
       " 491.5451529819411,\n",
       " 297.91243603833612,\n",
       " 180.88639449379625,\n",
       " 110.1407589782047,\n",
       " 67.358636479517372,\n",
       " 41.475808806698154,\n",
       " 25.808281522976749,\n",
       " 16.317638065810247,\n",
       " 10.563468054842454,\n",
       " 7.0706996299441638,\n",
       " 4.9474863702000089,\n",
       " 3.6544053082672279,\n",
       " 2.8650361478682078,\n",
       " 2.3817311552797915,\n",
       " 2.0847203042095375,\n",
       " 1.9013527091954812,\n",
       " 1.7875028161194273,\n",
       " 1.7163266313193488,\n",
       " 1.6714597168356109,\n",
       " 1.6429000626710362,\n",
       " 1.6245143566788329,\n",
       " 1.6125262161841027,\n",
       " 1.6045986859305879,\n",
       " 1.5992766059347725]"
      ]
     },
     "execution_count": 8,
     "metadata": {},
     "output_type": "execute_result"
    }
   ],
   "source": [
    "LinearRegressionGD().fit(data).cost_"
   ]
  },
  {
   "cell_type": "code",
   "execution_count": null,
   "metadata": {
    "collapsed": true
   },
   "outputs": [],
   "source": []
  }
 ],
 "metadata": {
  "kernelspec": {
   "display_name": "Python 2",
   "language": "python",
   "name": "python2"
  },
  "language_info": {
   "codemirror_mode": {
    "name": "ipython",
    "version": 2
   },
   "file_extension": ".py",
   "mimetype": "text/x-python",
   "name": "python",
   "nbconvert_exporter": "python",
   "pygments_lexer": "ipython2",
   "version": "2.7.11"
  }
 },
 "nbformat": 4,
 "nbformat_minor": 0
}
