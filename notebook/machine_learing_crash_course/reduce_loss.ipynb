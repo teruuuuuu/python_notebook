{
 "cells": [
  {
   "cell_type": "code",
   "execution_count": 1,
   "metadata": {
    "collapsed": true
   },
   "outputs": [],
   "source": [
    "import matplotlib.pyplot as plt\n",
    "%matplotlib inline"
   ]
  },
  {
   "cell_type": "code",
   "execution_count": 2,
   "metadata": {
    "collapsed": true
   },
   "outputs": [],
   "source": [
    "import math\n",
    "from numpy.random import *\n",
    "import numpy as np\n",
    "import pandas as pd"
   ]
  },
  {
   "cell_type": "code",
   "execution_count": 3,
   "metadata": {
    "collapsed": true
   },
   "outputs": [],
   "source": [
    "def test_data_generator(w,b,n):\n",
    "    test_data_calcu = lambda w, b, n: lambda x : {\"x\": x, \"y\": w * x + b + rand(1)[0] * n - n/2}\n",
    "    return test_data_calcu(w, b, n)"
   ]
  },
  {
   "cell_type": "code",
   "execution_count": 9,
   "metadata": {},
   "outputs": [],
   "source": [
    "test_data_maker = test_data_generator(5, 3, 5)\n",
    "data = list(map(test_data_maker, rand(30) * 50))\n",
    "data_frame = pd.DataFrame.from_dict(data)\n",
    "X = list(map(lambda d: d[\"x\"], data))\n",
    "Y = list(map(lambda d: d[\"y\"], data))"
   ]
  },
  {
   "cell_type": "code",
   "execution_count": 10,
   "metadata": {},
   "outputs": [],
   "source": [
    "class LinearRegressionSGD(object):\n",
    "\n",
    "    def __init__(self, eta=0.01, n_iter=30):\n",
    "        self.eta = eta\n",
    "        self.n_iter = n_iter\n",
    "\n",
    "    def fit(self, data):\n",
    "        self.w = 0\n",
    "        self.b = 0\n",
    "        self.cost_ = []\n",
    "\n",
    "        for i in range(self.n_iter):\n",
    "            study_data = data[int(math.floor(rand(1)[0] * len(data)))]\n",
    "            output = self.calc(study_data[\"x\"])\n",
    "            errors = (study_data[\"y\"] - output)\n",
    "            self.w += self.eta  * errors\n",
    "            self.cost_.append(self.loss(data))\n",
    "        return self\n",
    "    \n",
    "    def calc(self, x):\n",
    "        return self.w * x + self.b\n",
    "    \n",
    "    def loss(self, data):\n",
    "        err = 0.0\n",
    "        for d in data:\n",
    "            err += (d[\"y\"] - self.calc(d[\"x\"]))**2\n",
    "        return  err / len(data)"
   ]
  },
  {
   "cell_type": "code",
   "execution_count": 11,
   "metadata": {},
   "outputs": [
    {
     "data": {
      "text/plain": [
       "[7719.01022850015,\n",
       " 2693.267620843367,\n",
       " 792.0217274670948,\n",
       " 367.1200469657043,\n",
       " 206.4833854765514,\n",
       " 89.84805173875158,\n",
       " 60.76881581887311,\n",
       " 37.10181487307613,\n",
       " 32.057752973076354,\n",
       " 14.810036321467292,\n",
       " 7.881168923993374,\n",
       " 5.225842852599887,\n",
       " 4.538561715562709,\n",
       " 4.228234667706515,\n",
       " 4.320955432135759,\n",
       " 4.237737419510479,\n",
       " 5.257982613086449,\n",
       " 4.103696718349601,\n",
       " 5.340201367873152,\n",
       " 4.024908510979311,\n",
       " 4.022129074831313,\n",
       " 4.2348975294388636,\n",
       " 4.137637274473623,\n",
       " 4.430002516087246,\n",
       " 4.015622101257821,\n",
       " 4.0307792956829385,\n",
       " 4.282796766498488,\n",
       " 4.7720830104266225,\n",
       " 5.818721742440605,\n",
       " 4.0941804989766855]"
      ]
     },
     "execution_count": 11,
     "metadata": {},
     "output_type": "execute_result"
    }
   ],
   "source": [
    "# SGDの方はGDに比べるとノイズの影響を受けていて若干ジグザグになっている\n",
    "LinearRegressionSGD().fit(data).cost_"
   ]
  },
  {
   "cell_type": "code",
   "execution_count": 12,
   "metadata": {
    "collapsed": true
   },
   "outputs": [],
   "source": [
    "class LinearRegressionGD(object):\n",
    "\n",
    "    def __init__(self, eta=0.01, n_iter=30):\n",
    "        self.eta = eta\n",
    "        self.n_iter = n_iter\n",
    "\n",
    "    def fit(self, data):\n",
    "        self.w = 0\n",
    "        self.b = 0\n",
    "        self.cost_ = []\n",
    "\n",
    "        for i in range(self.n_iter):\n",
    "            err = 0.0\n",
    "            for d in data:\n",
    "                err += d[\"y\"] - self.calc(d[\"x\"])\n",
    "            self.w += self.eta  * err / len(data)\n",
    "            self.cost_.append(self.loss(data))\n",
    "        return self\n",
    "    \n",
    "    def calc(self, x):\n",
    "        return self.w * x + self.b\n",
    "    \n",
    "    def loss(self, data):\n",
    "        err = 0.0\n",
    "        for d in data:\n",
    "            err += (d[\"y\"] - self.calc(d[\"x\"]))**2\n",
    "        return  err / len(data)"
   ]
  },
  {
   "cell_type": "code",
   "execution_count": 13,
   "metadata": {},
   "outputs": [
    {
     "data": {
      "text/plain": [
       "[13687.14063100965,\n",
       " 7131.352936305601,\n",
       " 3707.613456741643,\n",
       " 1922.0802072084284,\n",
       " 992.7162619963602,\n",
       " 510.3092973673949,\n",
       " 260.8703636341381,\n",
       " 132.59810836872387,\n",
       " 67.15275234107848,\n",
       " 34.14416331740873,\n",
       " 17.779824593509566,\n",
       " 9.880829299594351,\n",
       " 6.231657324817848,\n",
       " 4.674457934490397,\n",
       " 4.115624642423296,\n",
       " 4.00903811030083,\n",
       " 4.088063224937836,\n",
       " 4.227141499706356,\n",
       " 4.370740015285076,\n",
       " 4.4971922691128094,\n",
       " 4.600528737686374,\n",
       " 4.681520435688564,\n",
       " 4.743394900883541,\n",
       " 4.789887900296938,\n",
       " 4.824437366372654,\n",
       " 4.849916644634318,\n",
       " 4.8686074286066185,\n",
       " 4.882267202523342,\n",
       " 4.892223687850512,\n",
       " 4.899467131335862]"
      ]
     },
     "execution_count": 13,
     "metadata": {},
     "output_type": "execute_result"
    }
   ],
   "source": [
    "# GDの方は計算量がかかるが安定して損失が減っている\n",
    "# biasの補正を行なっていないので損失が途中でストップしている\n",
    "LinearRegressionGD().fit(data).cost_"
   ]
  },
  {
   "cell_type": "code",
   "execution_count": null,
   "metadata": {
    "collapsed": true
   },
   "outputs": [],
   "source": []
  }
 ],
 "metadata": {
  "kernelspec": {
   "display_name": "Python 3",
   "language": "python",
   "name": "python3"
  },
  "language_info": {
   "codemirror_mode": {
    "name": "ipython",
    "version": 3
   },
   "file_extension": ".py",
   "mimetype": "text/x-python",
   "name": "python",
   "nbconvert_exporter": "python",
   "pygments_lexer": "ipython3",
   "version": "3.6.1"
  }
 },
 "nbformat": 4,
 "nbformat_minor": 1
}
